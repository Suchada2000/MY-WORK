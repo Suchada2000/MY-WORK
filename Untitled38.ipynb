{
  "nbformat": 4,
  "nbformat_minor": 0,
  "metadata": {
    "colab": {
      "provenance": [],
      "authorship_tag": "ABX9TyM8VH8Y2thC69+12nDXnqqx",
      "include_colab_link": true
    },
    "kernelspec": {
      "name": "python3",
      "display_name": "Python 3"
    },
    "language_info": {
      "name": "python"
    }
  },
  "cells": [
    {
      "cell_type": "markdown",
      "metadata": {
        "id": "view-in-github",
        "colab_type": "text"
      },
      "source": [
        "<a href=\"https://colab.research.google.com/github/Suchada2000/MY-WORK/blob/main/Untitled38.ipynb\" target=\"_parent\"><img src=\"https://colab.research.google.com/assets/colab-badge.svg\" alt=\"Open In Colab\"/></a>"
      ]
    },
    {
      "cell_type": "code",
      "execution_count": 1,
      "metadata": {
        "id": "X8P-AKQ-k-8p"
      },
      "outputs": [],
      "source": [
        "import pandas as pd\n",
        "\n",
        "# อ่านไฟล์ Excel\n",
        "df = pd.read_excel('/content/sample_data/CLAIM_TA.xlsx')"
      ]
    },
    {
      "cell_type": "code",
      "source": [
        "from sklearn.impute import KNNImputer\n",
        "import pandas as pd\n",
        "from sklearn.preprocessing import LabelEncoder\n",
        "\n",
        "# สมมุติว่า train_df2 และ test_df2 คือ DataFrame ของคุณ\n",
        "\n",
        "# แปลงข้อมูลหมวดหมู่เป็นตัวเลข\n",
        "label_encoders = {}\n",
        "categorical_columns = train_df2.select_dtypes(include=['object']).columns  # ค้นหาคอลัมน์ที่เป็นหมวดหมู่\n",
        "\n",
        "for col in categorical_columns:\n",
        "    # ตัดช่องว่างออกจากค่าในคอลัมน์\n",
        "    train_df2[col] = train_df2[col].str.strip()  # ตัดช่องว่าง\n",
        "    test_df2[col] = test_df2[col].str.strip()  # ตัดช่องว่างในข้อมูลทดสอบ\n",
        "\n",
        "    # สร้าง LabelEncoder\n",
        "    le = LabelEncoder()\n",
        "\n",
        "    # ฟิตกับข้อมูลฝึก\n",
        "    le.fit(train_df2[col])\n",
        "    label_encoders[col] = le  # บันทึกไว้เพื่อใช้แปลงในอนาคต\n",
        "\n",
        "    # แปลงข้อมูลฝึก\n",
        "    train_df2[col] = le.transform(train_df2[col])\n",
        "\n",
        "    # แปลงข้อมูลทดสอบ หากพบค่าที่ไม่เคยเห็น\n",
        "    test_df2[col] = test_df2[col].apply(lambda x: x if x in le.classes_ else 'NaN')\n",
        "\n",
        "# ลบหรือแทนที่ค่าที่ไม่สามารถแปลงเป็นตัวเลขได้เป็น NaN\n",
        "train_df2 = train_df2.apply(pd.to_numeric, errors='coerce')\n",
        "test_df2 = test_df2.apply(pd.to_numeric, errors='coerce')\n",
        "\n",
        "# ใช้ KNNImputer\n",
        "imputer = KNNImputer(n_neighbors=5)\n",
        "train_imputed = imputer.fit_transform(train_df2)\n",
        "test_imputed = imputer.transform(test_df2)\n",
        "\n",
        "# แปลงกลับเป็น DataFrame\n",
        "train_df_imputed = pd.DataFrame(train_imputed, columns=train_df2.columns)\n",
        "test_df_imputed = pd.DataFrame(test_imputed, columns=test_df2.columns)\n",
        "\n",
        "# แปลงค่ากลับเป็นหมวดหมู่หลังจาก KNN imputation\n",
        "for col, le in label_encoders.items():\n",
        "    train_df_imputed[col] = le.inverse_transform(train_df_imputed[col].astype(int))\n",
        "    test_df_imputed[col] = le.inverse_transform(test_df_imputed[col].astype(int))\n"
      ],
      "metadata": {
        "id": "o5wv_XcKvKFm"
      },
      "execution_count": 13,
      "outputs": []
    },
    {
      "cell_type": "code",
      "source": [
        "# ตรวจสอบข้อมูลที่เติมค่าหายไป\n",
        "print(train_df_imputed.head())\n",
        "print(test_df_imputed.head())\n"
      ],
      "metadata": {
        "colab": {
          "base_uri": "https://localhost:8080/"
        },
        "id": "NuCVjswZxTef",
        "outputId": "0a974674-a76c-401e-ce11-6629c5ce7243"
      },
      "execution_count": 14,
      "outputs": [
        {
          "output_type": "stream",
          "name": "stdout",
          "text": [
            "   Dummy ID   AGE  SEX  Occupation  Policy_Class  Plan_  Premium  DATESALE  \\\n",
            "0   23918.0  49.0  3.0         1.0          27.0  145.0   8180.0       1.0   \n",
            "1   29504.0  15.0  3.0       271.0          27.0  152.0    280.0       1.0   \n",
            "2   21927.0  32.0  3.0         1.0          27.0  138.0    655.0       1.0   \n",
            "3   30691.0  42.0  3.0       271.0          27.0  137.0    495.0       1.0   \n",
            "4    1403.0  13.0  3.0       294.0          23.0  114.0   1120.0       1.0   \n",
            "\n",
            "       INCDTE  ExpireDate      DATREP      DATOCC  ReserveCode  \\\n",
            "0  20230307.0  20240306.0  20231030.0  20231021.0          4.0   \n",
            "1  20240301.0  20240304.0  20240318.0  20240304.0         15.0   \n",
            "2  20230612.0  20230616.0  20230705.0  20230614.0         33.0   \n",
            "3  20240412.0  20240417.0  20240429.0  20240417.0          4.0   \n",
            "4  20240615.0  20240626.0  20240710.0  20240615.0          5.0   \n",
            "\n",
            "   ReseveDescription  GRS_OS  GRS_PAID      GIC  \n",
            "0                3.0     0.0    4000.0   4000.0  \n",
            "1               14.0     0.0   10000.0  10000.0  \n",
            "2               31.0     0.0   15000.0  15000.0  \n",
            "3                3.0     0.0    2295.0   2295.0  \n",
            "4               37.0     0.0   40000.0  40000.0  \n",
            "   Dummy ID   AGE  SEX  Occupation  Policy_Class  Plan_  Premium  DATESALE  \\\n",
            "0   23333.0  71.0  3.0       163.0          27.0  135.2  1381.25       1.0   \n",
            "1   24575.0  19.0  3.0        55.0          27.0  147.0  3730.00       1.0   \n",
            "2    3607.0  48.0  2.0       291.0          26.0   76.0  1742.50       1.0   \n",
            "3   26595.0  43.0  3.0       109.0          27.0  146.4   440.00       1.0   \n",
            "4   27988.0  27.0  3.0       113.8          27.0  137.8   935.00       1.0   \n",
            "\n",
            "       INCDTE  ExpireDate      DATREP      DATOCC  ReserveCode  \\\n",
            "0  20230513.0  20230523.0  20230606.0  20230514.0         12.6   \n",
            "1  20230715.0  20240714.0  20240801.0  20240617.0         18.2   \n",
            "2  20241027.0  20241107.0  20241111.0  20241107.0         12.8   \n",
            "3  20230707.0  20230714.0  20230719.0  20230714.0          6.0   \n",
            "4  20231228.0  20240107.0  20240130.0  20240107.0          8.4   \n",
            "\n",
            "   ReseveDescription  GRS_OS  GRS_PAID       GIC  \n",
            "0               10.4     0.0  13856.02  13856.02  \n",
            "1               18.4     0.0   2291.92   2291.92  \n",
            "2               17.6     0.0   7000.00   7000.00  \n",
            "3               13.0     0.0    300.00    300.00  \n",
            "4                7.4     0.0   4950.00   4950.00  \n"
          ]
        }
      ]
    },
    {
      "cell_type": "code",
      "source": [
        "from sklearn.neighbors import KNeighborsRegressor\n",
        "from sklearn.metrics import mean_squared_error\n",
        "\n",
        "# สร้างและฝึก KNN Regressor\n",
        "knn_regressor = KNeighborsRegressor(n_neighbors=5)\n",
        "knn_regressor.fit(X_train, y_train)\n",
        "\n",
        "# ทำนายค่าของ test set\n",
        "y_pred_regressor = knn_regressor.predict(X_test)\n",
        "\n",
        "# ประเมินผล\n",
        "mse = mean_squared_error(y_test, y_pred_regressor)\n",
        "print(f\"Mean Squared Error: {mse:.2f}\")\n"
      ],
      "metadata": {
        "colab": {
          "base_uri": "https://localhost:8080/"
        },
        "id": "rpCfIjlfxWXS",
        "outputId": "1103b357-89a7-458e-d1d8-4c3568e0480b"
      },
      "execution_count": 19,
      "outputs": [
        {
          "output_type": "stream",
          "name": "stdout",
          "text": [
            "Mean Squared Error: 45.47\n"
          ]
        }
      ]
    },
    {
      "cell_type": "code",
      "source": [
        "from sklearn.metrics import mean_absolute_error, r2_score\n",
        "\n",
        "# คำนวณ MAE และ R²\n",
        "mae = mean_absolute_error(y_test, y_pred_regressor)\n",
        "r2 = r2_score(y_test, y_pred_regressor)\n",
        "\n",
        "print(f\"Mean Absolute Error: {mae:.2f}\")\n",
        "print(f\"R²: {r2:.2f}\")\n"
      ],
      "metadata": {
        "colab": {
          "base_uri": "https://localhost:8080/"
        },
        "id": "g6No96sqx5DF",
        "outputId": "496f854e-5be9-4594-c4a8-ab1d613cdde7"
      },
      "execution_count": 21,
      "outputs": [
        {
          "output_type": "stream",
          "name": "stdout",
          "text": [
            "Mean Absolute Error: 1.05\n",
            "R²: 0.96\n"
          ]
        }
      ]
    },
    {
      "cell_type": "code",
      "source": [
        "# ทดลองค่าของ n_neighbors ที่ต่างกัน\n",
        "knn_regressor = KNeighborsRegressor(n_neighbors=10)\n",
        "knn_regressor.fit(X_train, y_train)\n",
        "y_pred_regressor = knn_regressor.predict(X_test)\n",
        "\n",
        "# ประเมินผลอีกครั้ง\n",
        "mse = mean_squared_error(y_test, y_pred_regressor)\n",
        "print(f\"Mean Squared Error with 10 neighbors: {mse:.2f}\")\n"
      ],
      "metadata": {
        "colab": {
          "base_uri": "https://localhost:8080/"
        },
        "id": "iCvIxDSGzkM8",
        "outputId": "5e06bcbd-a6cb-4443-bff5-e1959b5e7913"
      },
      "execution_count": 22,
      "outputs": [
        {
          "output_type": "stream",
          "name": "stdout",
          "text": [
            "Mean Squared Error with 10 neighbors: 47.52\n"
          ]
        }
      ]
    },
    {
      "cell_type": "code",
      "source": [
        "import pandas as pd\n",
        "\n",
        "# แปลงข้อมูลที่เติมค่าว่างแล้วให้เป็น DataFrame\n",
        "train_df_imputed = pd.DataFrame(train_imputed, columns=train_df2.columns)\n",
        "\n",
        "# แสดงผลข้อมูลที่เติมค่าว่างในชุดฝึก\n",
        "print(\"Train Data after Imputation:\")\n",
        "print(train_df_imputed.head())  # แสดงข้อมูล 5 แถวแรก\n"
      ],
      "metadata": {
        "colab": {
          "base_uri": "https://localhost:8080/"
        },
        "id": "6fd7EkJX0Ix7",
        "outputId": "2798d03d-1599-453d-8862-3e9cf66716de"
      },
      "execution_count": 25,
      "outputs": [
        {
          "output_type": "stream",
          "name": "stdout",
          "text": [
            "Train Data after Imputation:\n",
            "   Dummy ID   AGE  SEX  Occupation  Policy_Class  Plan_  Premium  DATESALE  \\\n",
            "0   23918.0  49.0  3.0         1.0          27.0  145.0   8180.0       1.0   \n",
            "1   29504.0  15.0  3.0       271.0          27.0  152.0    280.0       1.0   \n",
            "2   21927.0  32.0  3.0         1.0          27.0  138.0    655.0       1.0   \n",
            "3   30691.0  42.0  3.0       271.0          27.0  137.0    495.0       1.0   \n",
            "4    1403.0  13.0  3.0       294.0          23.0  114.0   1120.0       1.0   \n",
            "\n",
            "       INCDTE  ExpireDate      DATREP      DATOCC  ReserveCode  \\\n",
            "0  20230307.0  20240306.0  20231030.0  20231021.0          4.0   \n",
            "1  20240301.0  20240304.0  20240318.0  20240304.0         15.0   \n",
            "2  20230612.0  20230616.0  20230705.0  20230614.0         33.0   \n",
            "3  20240412.0  20240417.0  20240429.0  20240417.0          4.0   \n",
            "4  20240615.0  20240626.0  20240710.0  20240615.0          5.0   \n",
            "\n",
            "   ReseveDescription  GRS_OS  GRS_PAID      GIC  \n",
            "0                3.0     0.0    4000.0   4000.0  \n",
            "1               14.0     0.0   10000.0  10000.0  \n",
            "2               31.0     0.0   15000.0  15000.0  \n",
            "3                3.0     0.0    2295.0   2295.0  \n",
            "4               37.0     0.0   40000.0  40000.0  \n"
          ]
        }
      ]
    },
    {
      "cell_type": "code",
      "source": [
        "# แปลงข้อมูลที่เติมค่าว่างแล้วให้เป็น DataFrame\n",
        "test_df_imputed = pd.DataFrame(test_imputed, columns=test_df2.columns)\n",
        "\n",
        "# แสดงผลข้อมูลที่เติมค่าว่างในชุดทดสอบ\n",
        "print(\"\\nTest Data after Imputation:\")\n",
        "print(test_df_imputed.head())  # แสดงข้อมูล 5 แถวแรก\n"
      ],
      "metadata": {
        "colab": {
          "base_uri": "https://localhost:8080/"
        },
        "id": "J9_P89xk0g1M",
        "outputId": "3650d9c7-b3d2-4139-9bc6-4ddef543f81c"
      },
      "execution_count": 26,
      "outputs": [
        {
          "output_type": "stream",
          "name": "stdout",
          "text": [
            "\n",
            "Test Data after Imputation:\n",
            "   Dummy ID   AGE  SEX  Occupation  Policy_Class  Plan_  Premium  DATESALE  \\\n",
            "0   23333.0  71.0  3.0       163.0          27.0  135.2  1381.25       1.0   \n",
            "1   24575.0  19.0  3.0        55.0          27.0  147.0  3730.00       1.0   \n",
            "2    3607.0  48.0  2.0       291.0          26.0   76.0  1742.50       1.0   \n",
            "3   26595.0  43.0  3.0       109.0          27.0  146.4   440.00       1.0   \n",
            "4   27988.0  27.0  3.0       113.8          27.0  137.8   935.00       1.0   \n",
            "\n",
            "       INCDTE  ExpireDate      DATREP      DATOCC  ReserveCode  \\\n",
            "0  20230513.0  20230523.0  20230606.0  20230514.0         12.6   \n",
            "1  20230715.0  20240714.0  20240801.0  20240617.0         18.2   \n",
            "2  20241027.0  20241107.0  20241111.0  20241107.0         12.8   \n",
            "3  20230707.0  20230714.0  20230719.0  20230714.0          6.0   \n",
            "4  20231228.0  20240107.0  20240130.0  20240107.0          8.4   \n",
            "\n",
            "   ReseveDescription  GRS_OS  GRS_PAID       GIC  \n",
            "0               10.4     0.0  13856.02  13856.02  \n",
            "1               18.4     0.0   2291.92   2291.92  \n",
            "2               17.6     0.0   7000.00   7000.00  \n",
            "3               13.0     0.0    300.00    300.00  \n",
            "4                7.4     0.0   4950.00   4950.00  \n"
          ]
        }
      ]
    },
    {
      "cell_type": "code",
      "source": [
        "# แปลงค่าตัวเลขที่แปลงจากหมวดหมู่กลับเป็นหมวดหมู่\n",
        "for col, le in label_encoders.items():\n",
        "    # แปลงตัวเลขใน train และ test set กลับเป็นหมวดหมู่\n",
        "    train_df_imputed[col] = le.inverse_transform(train_df_imputed[col].astype(int))\n",
        "    test_df_imputed[col] = le.inverse_transform(test_df_imputed[col].astype(int))\n",
        "\n",
        "# ตรวจสอบผลลัพธ์\n",
        "print(\"Train Data after KNN imputation and category transformation:\")\n",
        "print(train_df_imputed.head())\n",
        "\n",
        "print(\"\\nTest Data after KNN imputation and category transformation:\")\n",
        "print(test_df_imputed.head())\n"
      ],
      "metadata": {
        "colab": {
          "base_uri": "https://localhost:8080/"
        },
        "id": "oU_AJAIW131l",
        "outputId": "356dead9-e7be-452a-d3bb-b95cfc1d67c0"
      },
      "execution_count": 27,
      "outputs": [
        {
          "output_type": "stream",
          "name": "stdout",
          "text": [
            "Train Data after KNN imputation and category transformation:\n",
            "   Dummy ID   AGE  SEX  Occupation  Policy_Class  Plan_  Premium  DATESALE  \\\n",
            "0   23918.0  49.0  3.0         1.0          27.0  145.0   8180.0       1.0   \n",
            "1   29504.0  15.0  3.0       271.0          27.0  152.0    280.0       1.0   \n",
            "2   21927.0  32.0  3.0         1.0          27.0  138.0    655.0       1.0   \n",
            "3   30691.0  42.0  3.0       271.0          27.0  137.0    495.0       1.0   \n",
            "4    1403.0  13.0  3.0       294.0          23.0  114.0   1120.0       1.0   \n",
            "\n",
            "       INCDTE  ExpireDate      DATREP      DATOCC  ReserveCode  \\\n",
            "0  20230307.0  20240306.0  20231030.0  20231021.0          4.0   \n",
            "1  20240301.0  20240304.0  20240318.0  20240304.0         15.0   \n",
            "2  20230612.0  20230616.0  20230705.0  20230614.0         33.0   \n",
            "3  20240412.0  20240417.0  20240429.0  20240417.0          4.0   \n",
            "4  20240615.0  20240626.0  20240710.0  20240615.0          5.0   \n",
            "\n",
            "   ReseveDescription  GRS_OS  GRS_PAID      GIC  \n",
            "0                3.0     0.0    4000.0   4000.0  \n",
            "1               14.0     0.0   10000.0  10000.0  \n",
            "2               31.0     0.0   15000.0  15000.0  \n",
            "3                3.0     0.0    2295.0   2295.0  \n",
            "4               37.0     0.0   40000.0  40000.0  \n",
            "\n",
            "Test Data after KNN imputation and category transformation:\n",
            "   Dummy ID   AGE  SEX  Occupation  Policy_Class  Plan_  Premium  DATESALE  \\\n",
            "0   23333.0  71.0  3.0       163.0          27.0  135.2  1381.25       1.0   \n",
            "1   24575.0  19.0  3.0        55.0          27.0  147.0  3730.00       1.0   \n",
            "2    3607.0  48.0  2.0       291.0          26.0   76.0  1742.50       1.0   \n",
            "3   26595.0  43.0  3.0       109.0          27.0  146.4   440.00       1.0   \n",
            "4   27988.0  27.0  3.0       113.8          27.0  137.8   935.00       1.0   \n",
            "\n",
            "       INCDTE  ExpireDate      DATREP      DATOCC  ReserveCode  \\\n",
            "0  20230513.0  20230523.0  20230606.0  20230514.0         12.6   \n",
            "1  20230715.0  20240714.0  20240801.0  20240617.0         18.2   \n",
            "2  20241027.0  20241107.0  20241111.0  20241107.0         12.8   \n",
            "3  20230707.0  20230714.0  20230719.0  20230714.0          6.0   \n",
            "4  20231228.0  20240107.0  20240130.0  20240107.0          8.4   \n",
            "\n",
            "   ReseveDescription  GRS_OS  GRS_PAID       GIC  \n",
            "0               10.4     0.0  13856.02  13856.02  \n",
            "1               18.4     0.0   2291.92   2291.92  \n",
            "2               17.6     0.0   7000.00   7000.00  \n",
            "3               13.0     0.0    300.00    300.00  \n",
            "4                7.4     0.0   4950.00   4950.00  \n"
          ]
        }
      ]
    },
    {
      "cell_type": "code",
      "source": [
        "# แปลงค่าตัวเลขที่แปลงจากหมวดหมู่กลับเป็นหมวดหมู่\n",
        "for col, le in label_encoders.items():\n",
        "    # ฟังก์ชันที่ตรวจสอบและแปลงค่า\n",
        "    def convert_to_category(val):\n",
        "        if pd.notna(val):\n",
        "            # ตรวจสอบว่า val เป็นค่าในคลาสที่ LabelEncoder รู้จักหรือไม่\n",
        "            if val in le.classes_:\n",
        "                return le.inverse_transform([int(val)])[0]\n",
        "            else:\n",
        "                # หากไม่ใช่ค่าที่อยู่ใน classes ให้ใช้ 'NaN'\n",
        "                return 'NaN'\n",
        "        else:\n",
        "            return 'NaN'\n",
        "\n",
        "    train_df_imputed[col] = train_df_imputed[col].apply(convert_to_category)\n",
        "    test_df_imputed[col] = test_df_imputed[col].apply(convert_to_category)\n",
        "\n",
        "# ตรวจสอบผลลัพธ์\n",
        "print(\"Train Data after KNN imputation and category transformation:\")\n",
        "print(train_df_imputed.head())\n",
        "\n",
        "print(\"\\nTest Data after KNN imputation and category transformation:\")\n",
        "print(test_df_imputed.head())\n"
      ],
      "metadata": {
        "colab": {
          "base_uri": "https://localhost:8080/"
        },
        "id": "OK--5dQR3LUt",
        "outputId": "8a582cad-6798-4315-d425-b35f68dc347e"
      },
      "execution_count": 31,
      "outputs": [
        {
          "output_type": "stream",
          "name": "stdout",
          "text": [
            "Train Data after KNN imputation and category transformation:\n",
            "   Dummy ID   AGE  SEX  Occupation  Policy_Class  Plan_  Premium  DATESALE  \\\n",
            "0   23918.0  49.0  3.0         1.0          27.0  145.0   8180.0       1.0   \n",
            "1   29504.0  15.0  3.0       271.0          27.0  152.0    280.0       1.0   \n",
            "2   21927.0  32.0  3.0         1.0          27.0  138.0    655.0       1.0   \n",
            "3   30691.0  42.0  3.0       271.0          27.0  137.0    495.0       1.0   \n",
            "4    1403.0  13.0  3.0       294.0          23.0  114.0   1120.0       1.0   \n",
            "\n",
            "       INCDTE  ExpireDate      DATREP      DATOCC  ReserveCode  \\\n",
            "0  20230307.0  20240306.0  20231030.0  20231021.0          4.0   \n",
            "1  20240301.0  20240304.0  20240318.0  20240304.0         15.0   \n",
            "2  20230612.0  20230616.0  20230705.0  20230614.0         33.0   \n",
            "3  20240412.0  20240417.0  20240429.0  20240417.0          4.0   \n",
            "4  20240615.0  20240626.0  20240710.0  20240615.0          5.0   \n",
            "\n",
            "   ReseveDescription  GRS_OS  GRS_PAID      GIC  \n",
            "0                3.0     0.0    4000.0   4000.0  \n",
            "1               14.0     0.0   10000.0  10000.0  \n",
            "2               31.0     0.0   15000.0  15000.0  \n",
            "3                3.0     0.0    2295.0   2295.0  \n",
            "4               37.0     0.0   40000.0  40000.0  \n",
            "\n",
            "Test Data after KNN imputation and category transformation:\n",
            "   Dummy ID   AGE  SEX  Occupation  Policy_Class  Plan_  Premium  DATESALE  \\\n",
            "0   23333.0  71.0  3.0       163.0          27.0  135.2  1381.25       1.0   \n",
            "1   24575.0  19.0  3.0        55.0          27.0  147.0  3730.00       1.0   \n",
            "2    3607.0  48.0  2.0       291.0          26.0   76.0  1742.50       1.0   \n",
            "3   26595.0  43.0  3.0       109.0          27.0  146.4   440.00       1.0   \n",
            "4   27988.0  27.0  3.0       113.8          27.0  137.8   935.00       1.0   \n",
            "\n",
            "       INCDTE  ExpireDate      DATREP      DATOCC  ReserveCode  \\\n",
            "0  20230513.0  20230523.0  20230606.0  20230514.0         12.6   \n",
            "1  20230715.0  20240714.0  20240801.0  20240617.0         18.2   \n",
            "2  20241027.0  20241107.0  20241111.0  20241107.0         12.8   \n",
            "3  20230707.0  20230714.0  20230719.0  20230714.0          6.0   \n",
            "4  20231228.0  20240107.0  20240130.0  20240107.0          8.4   \n",
            "\n",
            "   ReseveDescription  GRS_OS  GRS_PAID       GIC  \n",
            "0               10.4     0.0  13856.02  13856.02  \n",
            "1               18.4     0.0   2291.92   2291.92  \n",
            "2               17.6     0.0   7000.00   7000.00  \n",
            "3               13.0     0.0    300.00    300.00  \n",
            "4                7.4     0.0   4950.00   4950.00  \n"
          ]
        }
      ]
    },
    {
      "cell_type": "code",
      "source": [
        "# สมมติว่าคอลัมน์ 'ID' เป็นคอลัมน์ที่ใช้ในการจัดเรียงข้อมูล\n",
        "train_df_imputed_sorted = train_df_imputed.sort_values(by='Dummy ID').reset_index(drop=True)\n",
        "test_df_imputed_sorted = test_df_imputed.sort_values(by='Dummy ID').reset_index(drop=True)\n",
        "\n",
        "# ตรวจสอบผลลัพธ์\n",
        "print(\"Train Data after sorting by ID:\")\n",
        "print(train_df_imputed_sorted.head())\n",
        "\n",
        "print(\"\\nTest Data after sorting by ID:\")\n",
        "print(test_df_imputed_sorted.head())\n"
      ],
      "metadata": {
        "colab": {
          "base_uri": "https://localhost:8080/"
        },
        "id": "MOFRyNqz4QsN",
        "outputId": "b9537490-85e8-4bbe-cf62-d8f72315a8d2"
      },
      "execution_count": 33,
      "outputs": [
        {
          "output_type": "stream",
          "name": "stdout",
          "text": [
            "Train Data after sorting by ID:\n",
            "   Dummy ID   AGE  SEX  Occupation  Policy_Class  Plan_  Premium  DATESALE  \\\n",
            "0       1.0  40.0  3.0         1.0           3.0    8.0     80.0       1.0   \n",
            "1       2.0  75.0  3.0       271.0           3.0   20.0    160.0       1.0   \n",
            "2       3.0  33.0  3.0         1.0           3.0   12.0    100.0       1.0   \n",
            "3       4.0  30.0  3.0         1.0           3.0   15.0    180.0       1.0   \n",
            "4       5.0  50.0  3.0         1.0           3.0   15.0    180.0       1.0   \n",
            "\n",
            "       INCDTE  ExpireDate      DATREP      DATOCC  ReserveCode  \\\n",
            "0  20221231.0  20230101.0  20230711.0  20230101.0         43.0   \n",
            "1  20230124.0  20230128.0  20230308.0  20230127.0         15.0   \n",
            "2  20230323.0  20230324.0  20230329.0  20230323.0         15.0   \n",
            "3  20230721.0  20230727.0  20230807.0  20230721.0          2.0   \n",
            "4  20230725.0  20230730.0  20230803.0  20230725.0          2.0   \n",
            "\n",
            "   ReseveDescription  GRS_OS  GRS_PAID     GIC  \n",
            "0               39.0     0.0       0.0     0.0  \n",
            "1               14.0     0.0    2000.0  2000.0  \n",
            "2               14.0     0.0    2000.0  2000.0  \n",
            "3                4.0     0.0       0.0     0.0  \n",
            "4                4.0     0.0    6000.0  6000.0  \n",
            "\n",
            "Test Data after sorting by ID:\n",
            "   Dummy ID   AGE  SEX  Occupation  Policy_Class  Plan_  Premium  DATESALE  \\\n",
            "0       7.0  40.0  3.0       172.4           3.0   28.2    100.0       1.0   \n",
            "1       8.0  38.0  3.0       172.4           3.0   28.2    180.0       1.0   \n",
            "2       9.0  46.0  3.0        55.0           3.0   14.2    180.0       1.0   \n",
            "3      34.0   1.0  3.0       167.8          20.0   89.2   3120.0       0.8   \n",
            "4      41.0   0.0  3.0       275.4           0.0   55.6   1708.0       1.0   \n",
            "\n",
            "       INCDTE  ExpireDate      DATREP      DATOCC  ReserveCode  \\\n",
            "0  20230731.0  20230801.0  20230807.0  20230731.0         17.4   \n",
            "1  20230807.0  20230809.0  20230821.0  20230808.0         17.4   \n",
            "2  20230815.0  20230819.0  20230831.0  20230818.0          8.2   \n",
            "3  20230228.0  20230428.0  20230328.0  20230324.0         18.2   \n",
            "4  20230324.0  20230327.0  20230410.0  20230325.0         11.8   \n",
            "\n",
            "   ReseveDescription  GRS_OS  GRS_PAID      GIC  \n",
            "0               14.6     0.0    2000.0   2000.0  \n",
            "1               14.6     0.0    2000.0   2000.0  \n",
            "2               14.4     1.0       0.0      1.0  \n",
            "3               25.0     0.0   30135.0  30135.0  \n",
            "4               19.4     0.0    2407.0   2407.0  \n"
          ]
        }
      ]
    },
    {
      "cell_type": "code",
      "source": [
        "# แปลงคอลัมน์ AGE ให้เป็นชนิดข้อมูล int (ถ้าต้องการให้เป็น int)\n",
        "combined_df['ReseveDescription'] = combined_df['ReseveDescription'].astype(int)\n",
        "\n",
        "# หรือถ้าต้องการให้เป็น float สามารถใช้:\n",
        "# combined_df['AGE'] = combined_df['AGE'].astype(float)\n",
        "\n",
        "# ตรวจสอบผลลัพธ์\n",
        "print(\"Data after AGE column type conversion:\")\n",
        "print(combined_df[['ReseveDescription']].head())\n"
      ],
      "metadata": {
        "colab": {
          "base_uri": "https://localhost:8080/"
        },
        "id": "hv-I_jhp5h1E",
        "outputId": "dbda9c75-4b26-42a0-831e-6c3d9f417638"
      },
      "execution_count": 40,
      "outputs": [
        {
          "output_type": "stream",
          "name": "stdout",
          "text": [
            "Data after AGE column type conversion:\n",
            "   ReseveDescription\n",
            "0                 39\n",
            "1                 14\n",
            "2                 14\n",
            "3                  4\n",
            "4                  4\n"
          ]
        }
      ]
    },
    {
      "cell_type": "code",
      "source": [
        "import pandas as pd\n",
        "\n",
        "# รวม train และ test DataFrame\n",
        "combined_df = pd.concat([train_df_imputed_sorted, test_df_imputed_sorted], ignore_index=True)\n",
        "\n",
        "# บันทึกเป็นไฟล์ Excel\n",
        "combined_df.to_excel('combined_train_test_imputed.xlsx', index=False)\n",
        "\n",
        "# ตรวจสอบผลลัพธ์\n",
        "print(\"Data combined and saved as Excel:\")\n",
        "print(combined_df.head())\n"
      ],
      "metadata": {
        "colab": {
          "base_uri": "https://localhost:8080/"
        },
        "id": "R14aoPbl480p",
        "outputId": "e91eae5d-0cb1-46de-d88c-de36c5fa1b88"
      },
      "execution_count": 42,
      "outputs": [
        {
          "output_type": "stream",
          "name": "stdout",
          "text": [
            "Data combined and saved as Excel:\n",
            "   Dummy ID   AGE  SEX  Occupation  Policy_Class  Plan_  Premium  DATESALE  \\\n",
            "0       1.0  40.0  3.0         1.0           3.0    8.0     80.0       1.0   \n",
            "1       2.0  75.0  3.0       271.0           3.0   20.0    160.0       1.0   \n",
            "2       3.0  33.0  3.0         1.0           3.0   12.0    100.0       1.0   \n",
            "3       4.0  30.0  3.0         1.0           3.0   15.0    180.0       1.0   \n",
            "4       5.0  50.0  3.0         1.0           3.0   15.0    180.0       1.0   \n",
            "\n",
            "       INCDTE  ExpireDate      DATREP      DATOCC  ReserveCode  \\\n",
            "0  20221231.0  20230101.0  20230711.0  20230101.0         43.0   \n",
            "1  20230124.0  20230128.0  20230308.0  20230127.0         15.0   \n",
            "2  20230323.0  20230324.0  20230329.0  20230323.0         15.0   \n",
            "3  20230721.0  20230727.0  20230807.0  20230721.0          2.0   \n",
            "4  20230725.0  20230730.0  20230803.0  20230725.0          2.0   \n",
            "\n",
            "   ReseveDescription  GRS_OS  GRS_PAID     GIC  \n",
            "0               39.0     0.0       0.0     0.0  \n",
            "1               14.0     0.0    2000.0  2000.0  \n",
            "2               14.0     0.0    2000.0  2000.0  \n",
            "3                4.0     0.0       0.0     0.0  \n",
            "4                4.0     0.0    6000.0  6000.0  \n"
          ]
        }
      ]
    }
  ]
}