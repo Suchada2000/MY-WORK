{
  "nbformat": 4,
  "nbformat_minor": 0,
  "metadata": {
    "colab": {
      "provenance": [],
      "authorship_tag": "ABX9TyP2CcKEe+OWOvtOX3e27S6Z",
      "include_colab_link": true
    },
    "kernelspec": {
      "name": "python3",
      "display_name": "Python 3"
    },
    "language_info": {
      "name": "python"
    }
  },
  "cells": [
    {
      "cell_type": "markdown",
      "metadata": {
        "id": "view-in-github",
        "colab_type": "text"
      },
      "source": [
        "<a href=\"https://colab.research.google.com/github/Suchada2000/MY-WORK/blob/main/Untitled43.ipynb\" target=\"_parent\"><img src=\"https://colab.research.google.com/assets/colab-badge.svg\" alt=\"Open In Colab\"/></a>"
      ]
    },
    {
      "cell_type": "code",
      "source": [
        "\n",
        "import pandas as pd\n",
        "\n",
        "# อ่านไฟล์ Excel\n",
        "df = pd.read_excel('/content/sample_data/CLAIM_TA_2023_2024_FINAL.xlsx')"
      ],
      "metadata": {
        "id": "jzzu2jZGx4rF",
        "outputId": "114d808b-fa95-491a-c55d-dcdd8d291a1b",
        "colab": {
          "base_uri": "https://localhost:8080/",
          "height": 321
        }
      },
      "execution_count": 1,
      "outputs": [
        {
          "output_type": "error",
          "ename": "FileNotFoundError",
          "evalue": "[Errno 2] No such file or directory: '/content/sample_data/CLAIM_TA_2023_2024_FINAL.xlsx'",
          "traceback": [
            "\u001b[0;31m---------------------------------------------------------------------------\u001b[0m",
            "\u001b[0;31mFileNotFoundError\u001b[0m                         Traceback (most recent call last)",
            "\u001b[0;32m<ipython-input-1-e2613323c754>\u001b[0m in \u001b[0;36m<cell line: 0>\u001b[0;34m()\u001b[0m\n\u001b[1;32m      2\u001b[0m \u001b[0;34m\u001b[0m\u001b[0m\n\u001b[1;32m      3\u001b[0m \u001b[0;31m# อ่านไฟล์ Excel\u001b[0m\u001b[0;34m\u001b[0m\u001b[0;34m\u001b[0m\u001b[0m\n\u001b[0;32m----> 4\u001b[0;31m \u001b[0mdf\u001b[0m \u001b[0;34m=\u001b[0m \u001b[0mpd\u001b[0m\u001b[0;34m.\u001b[0m\u001b[0mread_excel\u001b[0m\u001b[0;34m(\u001b[0m\u001b[0;34m'/content/sample_data/CLAIM_TA_2023_2024_FINAL.xlsx'\u001b[0m\u001b[0;34m)\u001b[0m\u001b[0;34m\u001b[0m\u001b[0;34m\u001b[0m\u001b[0m\n\u001b[0m",
            "\u001b[0;32m/usr/local/lib/python3.11/dist-packages/pandas/io/excel/_base.py\u001b[0m in \u001b[0;36mread_excel\u001b[0;34m(io, sheet_name, header, names, index_col, usecols, dtype, engine, converters, true_values, false_values, skiprows, nrows, na_values, keep_default_na, na_filter, verbose, parse_dates, date_parser, date_format, thousands, decimal, comment, skipfooter, storage_options, dtype_backend, engine_kwargs)\u001b[0m\n\u001b[1;32m    493\u001b[0m     \u001b[0;32mif\u001b[0m \u001b[0;32mnot\u001b[0m \u001b[0misinstance\u001b[0m\u001b[0;34m(\u001b[0m\u001b[0mio\u001b[0m\u001b[0;34m,\u001b[0m \u001b[0mExcelFile\u001b[0m\u001b[0;34m)\u001b[0m\u001b[0;34m:\u001b[0m\u001b[0;34m\u001b[0m\u001b[0;34m\u001b[0m\u001b[0m\n\u001b[1;32m    494\u001b[0m         \u001b[0mshould_close\u001b[0m \u001b[0;34m=\u001b[0m \u001b[0;32mTrue\u001b[0m\u001b[0;34m\u001b[0m\u001b[0;34m\u001b[0m\u001b[0m\n\u001b[0;32m--> 495\u001b[0;31m         io = ExcelFile(\n\u001b[0m\u001b[1;32m    496\u001b[0m             \u001b[0mio\u001b[0m\u001b[0;34m,\u001b[0m\u001b[0;34m\u001b[0m\u001b[0;34m\u001b[0m\u001b[0m\n\u001b[1;32m    497\u001b[0m             \u001b[0mstorage_options\u001b[0m\u001b[0;34m=\u001b[0m\u001b[0mstorage_options\u001b[0m\u001b[0;34m,\u001b[0m\u001b[0;34m\u001b[0m\u001b[0;34m\u001b[0m\u001b[0m\n",
            "\u001b[0;32m/usr/local/lib/python3.11/dist-packages/pandas/io/excel/_base.py\u001b[0m in \u001b[0;36m__init__\u001b[0;34m(self, path_or_buffer, engine, storage_options, engine_kwargs)\u001b[0m\n\u001b[1;32m   1548\u001b[0m                 \u001b[0mext\u001b[0m \u001b[0;34m=\u001b[0m \u001b[0;34m\"xls\"\u001b[0m\u001b[0;34m\u001b[0m\u001b[0;34m\u001b[0m\u001b[0m\n\u001b[1;32m   1549\u001b[0m             \u001b[0;32melse\u001b[0m\u001b[0;34m:\u001b[0m\u001b[0;34m\u001b[0m\u001b[0;34m\u001b[0m\u001b[0m\n\u001b[0;32m-> 1550\u001b[0;31m                 ext = inspect_excel_format(\n\u001b[0m\u001b[1;32m   1551\u001b[0m                     \u001b[0mcontent_or_path\u001b[0m\u001b[0;34m=\u001b[0m\u001b[0mpath_or_buffer\u001b[0m\u001b[0;34m,\u001b[0m \u001b[0mstorage_options\u001b[0m\u001b[0;34m=\u001b[0m\u001b[0mstorage_options\u001b[0m\u001b[0;34m\u001b[0m\u001b[0;34m\u001b[0m\u001b[0m\n\u001b[1;32m   1552\u001b[0m                 )\n",
            "\u001b[0;32m/usr/local/lib/python3.11/dist-packages/pandas/io/excel/_base.py\u001b[0m in \u001b[0;36minspect_excel_format\u001b[0;34m(content_or_path, storage_options)\u001b[0m\n\u001b[1;32m   1400\u001b[0m         \u001b[0mcontent_or_path\u001b[0m \u001b[0;34m=\u001b[0m \u001b[0mBytesIO\u001b[0m\u001b[0;34m(\u001b[0m\u001b[0mcontent_or_path\u001b[0m\u001b[0;34m)\u001b[0m\u001b[0;34m\u001b[0m\u001b[0;34m\u001b[0m\u001b[0m\n\u001b[1;32m   1401\u001b[0m \u001b[0;34m\u001b[0m\u001b[0m\n\u001b[0;32m-> 1402\u001b[0;31m     with get_handle(\n\u001b[0m\u001b[1;32m   1403\u001b[0m         \u001b[0mcontent_or_path\u001b[0m\u001b[0;34m,\u001b[0m \u001b[0;34m\"rb\"\u001b[0m\u001b[0;34m,\u001b[0m \u001b[0mstorage_options\u001b[0m\u001b[0;34m=\u001b[0m\u001b[0mstorage_options\u001b[0m\u001b[0;34m,\u001b[0m \u001b[0mis_text\u001b[0m\u001b[0;34m=\u001b[0m\u001b[0;32mFalse\u001b[0m\u001b[0;34m\u001b[0m\u001b[0;34m\u001b[0m\u001b[0m\n\u001b[1;32m   1404\u001b[0m     ) as handle:\n",
            "\u001b[0;32m/usr/local/lib/python3.11/dist-packages/pandas/io/common.py\u001b[0m in \u001b[0;36mget_handle\u001b[0;34m(path_or_buf, mode, encoding, compression, memory_map, is_text, errors, storage_options)\u001b[0m\n\u001b[1;32m    880\u001b[0m         \u001b[0;32melse\u001b[0m\u001b[0;34m:\u001b[0m\u001b[0;34m\u001b[0m\u001b[0;34m\u001b[0m\u001b[0m\n\u001b[1;32m    881\u001b[0m             \u001b[0;31m# Binary mode\u001b[0m\u001b[0;34m\u001b[0m\u001b[0;34m\u001b[0m\u001b[0m\n\u001b[0;32m--> 882\u001b[0;31m             \u001b[0mhandle\u001b[0m \u001b[0;34m=\u001b[0m \u001b[0mopen\u001b[0m\u001b[0;34m(\u001b[0m\u001b[0mhandle\u001b[0m\u001b[0;34m,\u001b[0m \u001b[0mioargs\u001b[0m\u001b[0;34m.\u001b[0m\u001b[0mmode\u001b[0m\u001b[0;34m)\u001b[0m\u001b[0;34m\u001b[0m\u001b[0;34m\u001b[0m\u001b[0m\n\u001b[0m\u001b[1;32m    883\u001b[0m         \u001b[0mhandles\u001b[0m\u001b[0;34m.\u001b[0m\u001b[0mappend\u001b[0m\u001b[0;34m(\u001b[0m\u001b[0mhandle\u001b[0m\u001b[0;34m)\u001b[0m\u001b[0;34m\u001b[0m\u001b[0;34m\u001b[0m\u001b[0m\n\u001b[1;32m    884\u001b[0m \u001b[0;34m\u001b[0m\u001b[0m\n",
            "\u001b[0;31mFileNotFoundError\u001b[0m: [Errno 2] No such file or directory: '/content/sample_data/CLAIM_TA_2023_2024_FINAL.xlsx'"
          ]
        }
      ]
    },
    {
      "cell_type": "code",
      "source": [
        "df = df.drop(columns=['ReserveCode','Plan_','ExpireDate'])"
      ],
      "metadata": {
        "id": "WoC7f05kT0wY"
      },
      "execution_count": null,
      "outputs": []
    },
    {
      "cell_type": "markdown",
      "source": [
        "❌"
      ],
      "metadata": {
        "id": "J_lIVr22IRY7"
      }
    },
    {
      "cell_type": "markdown",
      "source": [
        "เติมค่าว่างวันที่"
      ],
      "metadata": {
        "id": "o3u3Svl9HmFs"
      }
    },
    {
      "cell_type": "code",
      "source": [
        "import numpy as np\n",
        "df.replace(r'^\\s*$', np.nan, regex=True, inplace=True)"
      ],
      "metadata": {
        "id": "Zp-BiGtwIuH7"
      },
      "execution_count": null,
      "outputs": []
    },
    {
      "cell_type": "code",
      "source": [
        "df.isnull().sum()"
      ],
      "metadata": {
        "id": "vwGe_5NUIvzX",
        "collapsed": true
      },
      "execution_count": null,
      "outputs": []
    },
    {
      "cell_type": "code",
      "source": [
        "# สมมติว่า df เป็น DataFrame ของคุณ\n",
        "\n",
        "# ตารางที่มี Plan_ เป็นค่าว่าง\n",
        "df_missing = df[df['DATESALE'].isnull()]\n",
        "\n",
        "# ตารางที่ไม่มี Plan_ เป็นค่าว่าง\n",
        "df_not_missing = df[df['DATESALE'].notnull()]\n",
        "\n",
        "# ตรวจสอบผลลัพธ์\n",
        "print(\"ตารางที่มี DATESALE เป็นค่าว่าง:\")\n",
        "print(df_missing.head())\n",
        "\n",
        "print(\"\\nตารางที่ไม่มี DATESALE เป็นค่าว่าง:\")\n",
        "print(df_not_missing.head())"
      ],
      "metadata": {
        "collapsed": true,
        "id": "ocaFIeSaIhHE"
      },
      "execution_count": null,
      "outputs": []
    },
    {
      "cell_type": "code",
      "source": [
        "df_not_missing"
      ],
      "metadata": {
        "id": "RHB0l6ZN03nN",
        "collapsed": true
      },
      "execution_count": null,
      "outputs": []
    },
    {
      "cell_type": "code",
      "source": [
        "df_missing"
      ],
      "metadata": {
        "collapsed": true,
        "id": "a9E605o6XXN1"
      },
      "execution_count": null,
      "outputs": []
    },
    {
      "cell_type": "markdown",
      "source": [
        "df_not_missing"
      ],
      "metadata": {
        "id": "l-IytjrNUVTu"
      }
    },
    {
      "cell_type": "code",
      "source": [
        "# แปลงคอลัมน์ DATESALE เป็น datetime โดยไม่ระบุ format และจัดการกับข้อผิดพลาด\n",
        "df_not_missing['DATESALE'] = pd.to_datetime(df_not_missing['DATESALE'], errors='coerce')\n",
        "\n",
        "# แปลงให้เป็นรูปแบบ YYYY-MM-DD\n",
        "df_not_missing['DATESALE'] = df_not_missing['DATESALE'].dt.strftime('%Y-%m-%d')"
      ],
      "metadata": {
        "id": "L3rC30deven0",
        "collapsed": true
      },
      "execution_count": null,
      "outputs": []
    },
    {
      "cell_type": "code",
      "source": [
        "# แปลงคอลัมน์ DATESALE เป็น string แล้วค่อยแปลงเป็น datetime โดยระบุ format\n",
        "df_not_missing['INCDTE'] = pd.to_datetime(df_not_missing['INCDTE'].astype(str), format='%Y%m%d', errors='coerce')\n",
        "\n",
        "# แปลงให้เป็นรูปแบบ YYYY-MM-DD\n",
        "df_not_missing['INCDTE'] = df_not_missing['INCDTE'].dt.strftime('%Y-%m-%d')"
      ],
      "metadata": {
        "id": "uSrP5LtovfqK",
        "collapsed": true
      },
      "execution_count": null,
      "outputs": []
    },
    {
      "cell_type": "code",
      "source": [
        "# แปลงเป็น string แล้วค่อยแปลงเป็น datetime\n",
        "df_not_missing['DATREP'] = pd.to_datetime(df_not_missing['DATREP'].astype(str), format='%Y%m%d')\n",
        "# แปลงเป็นรูปแบบ YYYY-MM-DD\n",
        "df_not_missing['DATREP'] = df_not_missing['DATREP'].dt.strftime('%Y-%m-%d')\n",
        "\n",
        "# แปลงเป็น string แล้วค่อยแปลงเป็น datetime\n",
        "df_not_missing['DATOCC'] = pd.to_datetime(df_not_missing['DATOCC'].astype(str), format='%Y%m%d')\n",
        "# แปลงเป็นรูปแบบ YYYY-MM-DD\n",
        "df_not_missing['DATOCC'] = df_not_missing['DATOCC'].dt.strftime('%Y-%m-%d')\n"
      ],
      "metadata": {
        "collapsed": true,
        "id": "s1gfbjIVUJYB"
      },
      "execution_count": null,
      "outputs": []
    },
    {
      "cell_type": "code",
      "source": [
        "df_not_missing"
      ],
      "metadata": {
        "collapsed": true,
        "id": "gabrg0ivvmvT"
      },
      "execution_count": null,
      "outputs": []
    },
    {
      "cell_type": "code",
      "source": [
        "# แปลงเป็น datetime โดยให้ pandas จัดการรูปแบบอัตโนมัติ\n",
        "df_not_missing['DATESALE'] = pd.to_datetime(df_not_missing['DATESALE'], format='mixed', errors='coerce')\n",
        "df_not_missing['INCDTE'] = pd.to_datetime(df_not_missing['INCDTE'], format='mixed', errors='coerce')\n",
        "\n",
        "# คำนวณความต่างของวัน\n",
        "df_not_missing['date_difference'] = (df_not_missing['INCDTE'] - df_not_missing['DATESALE']).dt.days\n"
      ],
      "metadata": {
        "collapsed": true,
        "id": "hJIaMqrjUgzl"
      },
      "execution_count": null,
      "outputs": []
    },
    {
      "cell_type": "code",
      "source": [
        "# แปลงเป็น datetime โดยให้ pandas จัดการรูปแบบอัตโนมัติ\n",
        "df_not_missing['DATREP'] = pd.to_datetime(df_not_missing['DATREP'], format='mixed', errors='coerce')\n",
        "df_not_missing['DATOCC'] = pd.to_datetime(df_not_missing['DATOCC'], format='mixed', errors='coerce')"
      ],
      "metadata": {
        "id": "pjCfEWYReYRZ"
      },
      "execution_count": null,
      "outputs": []
    },
    {
      "cell_type": "code",
      "source": [
        "df_not_missing['ReseveDescription'].mode()[0]\n"
      ],
      "metadata": {
        "id": "h-AVm6HCYO9i"
      },
      "execution_count": null,
      "outputs": []
    },
    {
      "cell_type": "code",
      "source": [
        "df_not_missing['ReseveDescription'] = df_not_missing['ReseveDescription'].fillna('GP/A Medical Expense')"
      ],
      "metadata": {
        "id": "Kz9Cbrzkwz9p"
      },
      "execution_count": null,
      "outputs": []
    },
    {
      "cell_type": "markdown",
      "source": [
        "df_missing"
      ],
      "metadata": {
        "id": "bmItX2xISgUO"
      }
    },
    {
      "cell_type": "code",
      "source": [
        "df_missing['DATESALE'] = pd.to_datetime(df_missing['DATESALE']).dt.strftime('%Y-%m-%d')"
      ],
      "metadata": {
        "id": "XQtAuwpSNK96"
      },
      "execution_count": null,
      "outputs": []
    },
    {
      "cell_type": "code",
      "source": [
        "df_missing"
      ],
      "metadata": {
        "collapsed": true,
        "id": "LrTtZsYxWpyW"
      },
      "execution_count": null,
      "outputs": []
    },
    {
      "cell_type": "code",
      "source": [
        "df_missing['DATESALE'] = pd.to_datetime(df_missing['DATESALE'], format='mixed', errors='coerce')"
      ],
      "metadata": {
        "id": "3k15GkKSWIeG"
      },
      "execution_count": null,
      "outputs": []
    },
    {
      "cell_type": "code",
      "source": [
        "# แปลงคอลัมน์ DATESALE เป็น datetime โดยไม่ระบุ format และจัดการกับข้อผิดพลาด\n",
        "df_missing['DATESALE'] = pd.to_datetime(df_missing['DATESALE'], errors='coerce')\n",
        "\n",
        "# แปลงให้เป็นรูปแบบ YYYY-MM-DD\n",
        "df_missing['DATESALE'] = df_missing['DATESALE'].dt.strftime('%Y-%m-%d')"
      ],
      "metadata": {
        "id": "2-8SbbGgaoe7"
      },
      "execution_count": null,
      "outputs": []
    },
    {
      "cell_type": "code",
      "source": [
        "# แปลงคอลัมน์ DATESALE เป็น string แล้วค่อยแปลงเป็น datetime โดยระบุ format\n",
        "df_missing['INCDTE'] = pd.to_datetime(df_missing['INCDTE'].astype(str), format='%Y%m%d', errors='coerce')\n",
        "\n",
        "# แปลงให้เป็นรูปแบบ YYYY-MM-DD\n",
        "df_missing['INCDTE'] = df_missing['INCDTE'].dt.strftime('%Y-%m-%d')"
      ],
      "metadata": {
        "id": "-QqgE8EDa3uK"
      },
      "execution_count": null,
      "outputs": []
    },
    {
      "cell_type": "code",
      "source": [
        "# แปลงคอลัมน์ DATESALE เป็น string แล้วค่อยแปลงเป็น datetime โดยระบุ format\n",
        "df_missing['DATREP'] = pd.to_datetime(df_missing['DATREP'].astype(str), format='%Y%m%d', errors='coerce')\n",
        "\n",
        "# แปลงให้เป็นรูปแบบ YYYY-MM-DD\n",
        "df_missing['DATREP'] = df_missing['DATREP'].dt.strftime('%Y-%m-%d')"
      ],
      "metadata": {
        "id": "DwjLexq8bfv_"
      },
      "execution_count": null,
      "outputs": []
    },
    {
      "cell_type": "code",
      "source": [
        "# แปลงคอลัมน์ DATESALE เป็น string แล้วค่อยแปลงเป็น datetime โดยระบุ format\n",
        "df_missing['DATOCC'] = pd.to_datetime(df_missing['DATOCC'].astype(str), format='%Y%m%d', errors='coerce')\n",
        "\n",
        "# แปลงให้เป็นรูปแบบ YYYY-MM-DD\n",
        "df_missing['DATOCC'] = df_missing['DATOCC'].dt.strftime('%Y-%m-%d')"
      ],
      "metadata": {
        "id": "e1j735rObmfz"
      },
      "execution_count": null,
      "outputs": []
    },
    {
      "cell_type": "code",
      "source": [
        "df_missing"
      ],
      "metadata": {
        "id": "I48n1fmdbdWP"
      },
      "execution_count": null,
      "outputs": []
    },
    {
      "cell_type": "markdown",
      "source": [
        "♈"
      ],
      "metadata": {
        "id": "y8v5zywGbEgX"
      }
    },
    {
      "cell_type": "code",
      "source": [
        "print(df_missing.dtypes)\n"
      ],
      "metadata": {
        "id": "GHzVb5OqbyQh"
      },
      "execution_count": null,
      "outputs": []
    },
    {
      "cell_type": "code",
      "source": [
        "# แปลงเป็น datetime โดยให้ pandas จัดการรูปแบบอัตโนมัติ\n",
        "df_missing['DATESALE'] = pd.to_datetime(df_missing['DATESALE'], format='mixed', errors='coerce')\n",
        "df_missing['INCDTE'] = pd.to_datetime(df_missing['INCDTE'], format='mixed', errors='coerce')"
      ],
      "metadata": {
        "id": "PdY5_uHLc8Vu"
      },
      "execution_count": null,
      "outputs": []
    },
    {
      "cell_type": "code",
      "source": [
        "# แปลงเป็น datetime โดยให้ pandas จัดการรูปแบบอัตโนมัติ\n",
        "df_missing['DATREP'] = pd.to_datetime(df_missing['DATREP'], format='mixed', errors='coerce')\n",
        "df_missing['DATOCC'] = pd.to_datetime(df_missing['DATOCC'], format='mixed', errors='coerce')"
      ],
      "metadata": {
        "id": "6V0ImoiCdQTP"
      },
      "execution_count": null,
      "outputs": []
    },
    {
      "cell_type": "code",
      "source": [
        "df_missing"
      ],
      "metadata": {
        "id": "6lwWIDsWZw7o"
      },
      "execution_count": null,
      "outputs": []
    },
    {
      "cell_type": "code",
      "source": [
        "# หาค่าเฉลี่ยของคอลัมน์เฉพาะ\n",
        "mean_incdte = df_not_missing['date_difference'].mean()  # หาก 'INCDTE' เป็นตัวเลข\n",
        "print(mean_incdte)"
      ],
      "metadata": {
        "id": "Ieoko9lUPQOL",
        "collapsed": true
      },
      "execution_count": null,
      "outputs": []
    },
    {
      "cell_type": "code",
      "source": [
        "print(df_missing['DATESALE'].dtype)"
      ],
      "metadata": {
        "id": "XxABmmx9Z_Mo"
      },
      "execution_count": null,
      "outputs": []
    },
    {
      "cell_type": "code",
      "source": [
        "print(df_missing['DATREP'].dtype)"
      ],
      "metadata": {
        "id": "aVohFotNdLEY"
      },
      "execution_count": null,
      "outputs": []
    },
    {
      "cell_type": "code",
      "source": [
        "print(df_missing['DATOCC'].dtype)"
      ],
      "metadata": {
        "id": "DcO6bnl0dXhh"
      },
      "execution_count": null,
      "outputs": []
    },
    {
      "cell_type": "code",
      "source": [
        "print(df_missing['INCDTE'].dtype)"
      ],
      "metadata": {
        "id": "lEd2wh41ZFDV"
      },
      "execution_count": null,
      "outputs": []
    },
    {
      "cell_type": "code",
      "source": [
        "df_missing['DATESALE'] = df_missing['INCDTE'] - pd.to_timedelta(23, unit='D')\n"
      ],
      "metadata": {
        "id": "fu4fqUmOaNYx"
      },
      "execution_count": null,
      "outputs": []
    },
    {
      "cell_type": "code",
      "source": [
        "df_missing"
      ],
      "metadata": {
        "id": "ICYRK2tIaPQY"
      },
      "execution_count": null,
      "outputs": []
    },
    {
      "cell_type": "code",
      "source": [
        "df_missing['ReseveDescription'] = df_missing['ReseveDescription'].fillna('GP/A Medical Expense')\n"
      ],
      "metadata": {
        "id": "ECPSqzXUwZrX"
      },
      "execution_count": null,
      "outputs": []
    },
    {
      "cell_type": "code",
      "source": [
        "df_missing.isnull().sum()"
      ],
      "metadata": {
        "id": "b9eG8jgKwrs3"
      },
      "execution_count": null,
      "outputs": []
    },
    {
      "cell_type": "code",
      "source": [
        "df_combined = pd.concat([df_not_missing, df_missing])  # รวม DataFrame\n",
        "df_combined = df_combined.sort_values(by='ID_Card')   # เรียงตาม 'Dummy ID'\n",
        "df_combined = df_combined.reset_index(drop=True)       # รีเซ็ต index ใหม่\n"
      ],
      "metadata": {
        "id": "UQ4EYNwGXLlu"
      },
      "execution_count": null,
      "outputs": []
    },
    {
      "cell_type": "code",
      "source": [
        "df_combined.drop(columns=['date_difference'], inplace=True)\n"
      ],
      "metadata": {
        "id": "9ogusrYxdz5s"
      },
      "execution_count": null,
      "outputs": []
    },
    {
      "cell_type": "code",
      "source": [
        "df_combined"
      ],
      "metadata": {
        "collapsed": true,
        "id": "oEvKaC75XM5V"
      },
      "execution_count": null,
      "outputs": []
    },
    {
      "cell_type": "code",
      "source": [
        "print(df_combined.dtypes)\n"
      ],
      "metadata": {
        "id": "0PsbqylmePmP"
      },
      "execution_count": null,
      "outputs": []
    },
    {
      "cell_type": "code",
      "source": [
        "df_combined = df_combined.reset_index(drop=True)\n"
      ],
      "metadata": {
        "id": "9RWPMM0Iuh4_"
      },
      "execution_count": null,
      "outputs": []
    },
    {
      "cell_type": "code",
      "source": [
        "print(df_combined.isnull().sum())\n"
      ],
      "metadata": {
        "collapsed": true,
        "id": "LhbGm2Jnuqnv"
      },
      "execution_count": null,
      "outputs": []
    },
    {
      "cell_type": "code",
      "source": [
        "df_combined = df_combined.loc[~((df_combined['GRS_OS'] == 0) &\n",
        "                               (df_combined['GRS_PAID'] == 0) &\n",
        "                               (df_combined['GIC'] == 0))]"
      ],
      "metadata": {
        "id": "XqJR4fkDPTCA"
      },
      "execution_count": null,
      "outputs": []
    },
    {
      "cell_type": "code",
      "source": [
        "df_combined"
      ],
      "metadata": {
        "id": "E0XWx6D4Ppzd",
        "collapsed": true
      },
      "execution_count": null,
      "outputs": []
    },
    {
      "cell_type": "markdown",
      "source": [
        "⏰"
      ],
      "metadata": {
        "id": "RoywgmB_z2J2"
      }
    },
    {
      "cell_type": "markdown",
      "source": [
        "เงื่อนไข"
      ],
      "metadata": {
        "id": "BMjB3BeJzz_e"
      }
    },
    {
      "cell_type": "code",
      "source": [
        "# ฟังก์ชันเพื่อจัดกลุ่มค่าของ ReseveDescription และกำหนดค่าลงในคอลัมน์ ReseveDescriptionType\n",
        "def categorize_reserve_description(description):\n",
        "    # กลุ่ม Medical Expense\n",
        "    if any(keyword in description for keyword in ['GP/A Medical Expense', 'Medical Accident &sickness', 'MedFUinThailand', 'อาหารเป็นพิษ', 'ค่ารักษาจากโควิค19', 'Medical from Covid-19', 'MEDICAL']):\n",
        "        return 'Medical Expense'\n",
        "\n",
        "    # กลุ่ม Baggage & Personal Effects\n",
        "    elif any(keyword in description for keyword in ['Baggage & Personal Effects', 'เสียหายของกระเป๋าเดินทาง', 'Baggage']):\n",
        "        return 'Baggage & Personal Effects'\n",
        "\n",
        "    # กลุ่ม TripCurtailment\n",
        "    elif any(keyword in description for keyword in ['TripCurtailment', 'Tlrip Curtailment Exp.Coverage']):\n",
        "        return 'TripCurtailment'\n",
        "\n",
        "    # กลุ่ม Death\n",
        "    elif any(keyword in description for keyword in ['Death AD&D (O.B.1)', 'GP/A Death']):\n",
        "        return 'Death'\n",
        "\n",
        "    # กลุ่ม Hospital Benefit\n",
        "    elif any(keyword in description for keyword in ['Daily Benefits', 'Hospital Benefit']):\n",
        "        return 'Hospital Benefit'\n",
        "\n",
        "    # กลุ่ม Total Permanent Disability\n",
        "    elif any(keyword in description for keyword in ['GPA Total Permanent Disability', 'GP/A Disability', 'GPA Total Temporary Disability']):\n",
        "        return 'Total Permanent Disability'\n",
        "\n",
        "    # ถ้าไม่ตรงกับเงื่อนไขใด ๆ ให้คงค่าปัจจุบัน\n",
        "    else:\n",
        "        return description\n",
        "\n",
        "# ใช้ apply เพื่อสร้างคอลัมน์ใหม่ 'ReseveDescriptionType'\n",
        "df_combined['ReseveDescriptionType'] = df_combined['ReseveDescription'].apply(categorize_reserve_description)\n"
      ],
      "metadata": {
        "id": "q2XQpopfY9Lh"
      },
      "execution_count": null,
      "outputs": []
    },
    {
      "cell_type": "code",
      "source": [
        "df_combined"
      ],
      "metadata": {
        "id": "e-vm6bdrY-xR",
        "collapsed": true
      },
      "execution_count": null,
      "outputs": []
    },
    {
      "cell_type": "code",
      "source": [
        "# นับจำนวนการเกิดซ้ำของ ReseveDescription สำหรับแต่ละ ID_Card\n",
        "claim_type_counts_per_customer = df_combined.groupby(['ID_Card', 'ReseveDescription']).size().reset_index(name='ReseveDescription_Count')\n",
        "\n",
        "# กรองข้อมูลที่มีการเคลมซ้ำมากกว่า 1 ครั้ง\n",
        "duplicate_claims = claim_type_counts_per_customer[claim_type_counts_per_customer['ReseveDescription_Count'] > 1]\n",
        "\n",
        "# แสดงข้อมูลที่มีการเคลมซ้ำ\n",
        "print(duplicate_claims)\n"
      ],
      "metadata": {
        "collapsed": true,
        "id": "_1h_cXqd7s8u"
      },
      "execution_count": null,
      "outputs": []
    },
    {
      "cell_type": "code",
      "source": [
        "df_combined"
      ],
      "metadata": {
        "id": "cN3T-3gG-v5s"
      },
      "execution_count": null,
      "outputs": []
    },
    {
      "cell_type": "code",
      "source": [
        "# นับจำนวน Claim ตาม Dummy ID และ ReserveDescription\n",
        "claim_counts_per_customer = df_combined.groupby(['ID_Card', 'ReseveDescription']).size().reset_index(name='ReseveDescription_Count')\n",
        "\n",
        "# รวมค่า Claim_Count กลับเข้า df\n",
        "df_combined = df_combined.merge(claim_counts_per_customer, on=['ID_Card', 'ReseveDescription'], how='left')\n",
        "\n",
        "# กำหนดระดับความเสี่ยงตาม Claim_Count\n",
        "df_combined['ReseveDescription_Risk_Level'] = df_combined['ReseveDescription_Count'].apply(lambda x:\n",
        "    'ความเสี่ยงต่ำ' if x <= 1 else\n",
        "    'ความเสี่ยงปานกลาง' if x == 2 else\n",
        "    'ความเสี่ยงสูง' if x == 3 else\n",
        "    'ความเสี่ยงสูงมาก'  # กำหนดค่าที่เหลือทั้งหมดเป็น 'ความเสี่ยงสูงมาก'\n",
        ")\n",
        "\n",
        "# แสดงผลลัพธ์บางส่วน\n",
        "print(df_combined[['ID_Card', 'ReseveDescription', 'ReseveDescription_Count', 'ReseveDescription_Risk_Level']].head())\n"
      ],
      "metadata": {
        "id": "IZAgfdml8i9p"
      },
      "execution_count": null,
      "outputs": []
    },
    {
      "cell_type": "code",
      "source": [
        "df_combined"
      ],
      "metadata": {
        "id": "WGAv0ABn9k78"
      },
      "execution_count": null,
      "outputs": []
    },
    {
      "cell_type": "code",
      "source": [
        "df_combined['ReseveDescription_Count'].value_counts()\n"
      ],
      "metadata": {
        "id": "dmaJzKQdjABm"
      },
      "execution_count": null,
      "outputs": []
    },
    {
      "cell_type": "code",
      "source": [
        "import numpy as np\n",
        "\n",
        "# กำหนดเงื่อนไขและค่าที่ต้องการแสดงในคอลัมน์ใหม่\n",
        "conditions = [\n",
        "    (df_combined['ReseveDescription_Risk_Level'] == 'ความเสี่ยงสูงมาก'),\n",
        "    (df_combined['ReseveDescription_Risk_Level'] == 'ความเสี่ยงสูง'),\n",
        "    (df_combined['ReseveDescription_Risk_Level'] == 'ความเสี่ยงปานกลาง'),\n",
        "    (df_combined['ReseveDescription_Risk_Level'] == 'ความเสี่ยงต่ำ')\n",
        "]\n",
        "\n",
        "choices = [\n",
        "    'มากกว่า 3', 'เท่ากับ 3', 'เท่ากับ 2', 'น้อยกว่าเท่ากับ 1'\n",
        "]\n",
        "\n",
        "# สร้างคอลัมน์ใหม่ที่ใช้ np.select()\n",
        "df_combined['Conditions_ReseveDescription'] = np.select(conditions, choices, default='ไม่ระบุ')\n",
        "\n",
        "# แสดงผลลัพธ์บางส่วน\n",
        "print(df_combined[['ID_Card', 'ReseveDescription_Risk_Level', 'Conditions_ReseveDescription']].head())\n"
      ],
      "metadata": {
        "collapsed": true,
        "id": "G3wPyB4GqoYe"
      },
      "execution_count": null,
      "outputs": []
    },
    {
      "cell_type": "code",
      "source": [
        "df_combined['Conditions_ReseveDescription'].value_counts()"
      ],
      "metadata": {
        "collapsed": true,
        "id": "QHqFBZzZq7x2"
      },
      "execution_count": null,
      "outputs": []
    },
    {
      "cell_type": "code",
      "source": [
        "df_combined['DATESALE_DATOCC_difference'] = (df_combined['DATOCC'] - df_combined['DATESALE']).dt.days"
      ],
      "metadata": {
        "id": "ZPqgrkJhlECu"
      },
      "execution_count": null,
      "outputs": []
    },
    {
      "cell_type": "code",
      "source": [
        "# กำหนดคอลัมน์ใหม่ 'Risk_Level' ตามเงื่อนไขของ DATESALE_DATOCC_difference\n",
        "df_combined['DATESALE_DATOCC_Risk_Level'] = df_combined['DATESALE_DATOCC_difference'].apply(lambda x:\n",
        "    'ความเสี่ยงสูงมาก' if x < 0 else 'ไม่มีความเสี่ยง'\n",
        ")\n",
        "\n",
        "# แสดงผลลัพธ์บางส่วน\n",
        "print(df_combined[['ID_Card', 'DATESALE_DATOCC_difference', 'DATESALE_DATOCC_Risk_Level']].head())\n"
      ],
      "metadata": {
        "collapsed": true,
        "id": "DfUWaM1UlmIU"
      },
      "execution_count": null,
      "outputs": []
    },
    {
      "cell_type": "code",
      "source": [
        "df_combined['DATESALE_DATOCC_Risk_Level'].value_counts()"
      ],
      "metadata": {
        "id": "Zbk0n6O_sNwG"
      },
      "execution_count": null,
      "outputs": []
    },
    {
      "cell_type": "code",
      "source": [
        "import numpy as np\n",
        "\n",
        "conditions = [\n",
        "    df_combined[\"DATESALE_DATOCC_Risk_Level\"] == \"ความเสี่ยงสูงมาก\",\n",
        "    df_combined[\"DATESALE_DATOCC_Risk_Level\"] == \"ไม่มีความเสี่ยง\"\n",
        "\n",
        "    ]\n",
        "\n",
        "choices = [\n",
        "    'น้อยกว่า 0','มากกว่าเท่ากับ 0'\n",
        "]\n",
        "\n",
        "# สร้างคอลัมน์ใหม่ที่ใช้ np.select()\n",
        "df_combined['Conditions_DATESALE_DATOCC'] = np.select(conditions, choices, default='ไม่ระบุ')\n",
        "\n",
        "\n"
      ],
      "metadata": {
        "collapsed": true,
        "id": "GiG8GBeenI8w"
      },
      "execution_count": null,
      "outputs": []
    },
    {
      "cell_type": "code",
      "source": [
        "df_combined['Conditions_DATESALE_DATOCC'].value_counts()"
      ],
      "metadata": {
        "id": "XDfp1KIgnm2J"
      },
      "execution_count": null,
      "outputs": []
    },
    {
      "cell_type": "code",
      "source": [
        "# แสดงชื่อคอลัมน์ทั้งหมดใน DataFrame df_combined\n",
        "print(df_combined.columns)\n"
      ],
      "metadata": {
        "id": "jIl4iykUtCoM"
      },
      "execution_count": null,
      "outputs": []
    },
    {
      "cell_type": "code",
      "source": [
        "df_combined['INCDTE_DATOCC_difference'] = (df_combined['DATOCC'] - df_combined['INCDTE']).dt.days\n",
        "mean_INCDTE_DATOCC_difference = df_combined['INCDTE_DATOCC_difference'].mean()\n",
        "mean_INCDTE_DATOCC_difference"
      ],
      "metadata": {
        "id": "wOWnowdctBFF"
      },
      "execution_count": null,
      "outputs": []
    },
    {
      "cell_type": "code",
      "source": [
        "df_combined['INCDTE_DATOCC_difference'].value_counts()"
      ],
      "metadata": {
        "id": "d5xjBDQUtsfE"
      },
      "execution_count": null,
      "outputs": []
    },
    {
      "cell_type": "code",
      "source": [
        "# กำหนดคอลัมน์ใหม่ 'Risk_Level' ตามเงื่อนไขของ INCDTE_DATOCC_difference\n",
        "df_combined['INCDTE_DATOCC_Risk_Level'] = df_combined['INCDTE_DATOCC_difference'].apply(lambda x:\n",
        "    'ไม่มีความเสี่ยง' if x > 40 else\n",
        "    'ความเสี่ยงต่ำ' if 31 <= x <= 40 else\n",
        "    'ความเสี่ยงปานกลาง' if 21 <= x <= 30 else\n",
        "    'ความเสี่ยงสูง' if 11 <= x <= 20 else\n",
        "    'ความเสี่ยงสูงมาก' if x <= 10 else 'ค่าไม่ระบุ'\n",
        ")\n",
        "\n",
        "# แสดงผลลัพธ์บางส่วน\n",
        "print(df_combined[['ID_Card', 'INCDTE_DATOCC_difference', 'INCDTE_DATOCC_Risk_Level']].head())\n"
      ],
      "metadata": {
        "collapsed": true,
        "id": "N_G-rHTKtiiQ"
      },
      "execution_count": null,
      "outputs": []
    },
    {
      "cell_type": "code",
      "source": [
        "df_combined['INCDTE_DATOCC_Risk_Level'].value_counts()"
      ],
      "metadata": {
        "collapsed": true,
        "id": "NEPh4oMGt8BY"
      },
      "execution_count": null,
      "outputs": []
    },
    {
      "cell_type": "code",
      "source": [
        "import numpy as np\n",
        "\n",
        "conditions = [\n",
        "    df_combined[\"INCDTE_DATOCC_Risk_Level\"] == \"ความเสี่ยงสูงมาก\",\n",
        "    df_combined[\"INCDTE_DATOCC_Risk_Level\"] == \"ความเสี่ยงสูง\",\n",
        "    df_combined[\"INCDTE_DATOCC_Risk_Level\"] == \"ความเสี่ยงปานกลาง\",\n",
        "    df_combined[\"INCDTE_DATOCC_Risk_Level\"] == \"ความเสี่ยงต่ำ\",\n",
        "    df_combined[\"INCDTE_DATOCC_Risk_Level\"] == \"ไม่มีความเสี่ยง\"\n",
        "\n",
        "    ]\n",
        "\n",
        "choices = [\n",
        "    'มากกว่า 40','น้อยกว่าเท่ากับ 40 และ มากกว่าเท่ากับ 31','น้อยกว่าเท่ากับ 30 และ มากกว่าเท่ากับ 21','น้อยกว่าเท่ากับ 20 และ มากกว่าเท่ากับ 11','น้อยกว่าเท่ากับ 10'\n",
        "]\n",
        "\n",
        "# สร้างคอลัมน์ใหม่ที่ใช้ np.select()\n",
        "df_combined['Conditions_DATESALE_DATOCC'] = np.select(conditions, choices, default='ไม่ระบุ')"
      ],
      "metadata": {
        "id": "KnH2h0O2uDsa"
      },
      "execution_count": null,
      "outputs": []
    },
    {
      "cell_type": "code",
      "source": [
        "df_combined['Conditions_DATESALE_DATOCC'].value_counts()"
      ],
      "metadata": {
        "id": "hadUKx4su8St"
      },
      "execution_count": null,
      "outputs": []
    },
    {
      "cell_type": "code",
      "source": [
        "# กำหนดคอลัมน์ใหม่ 'Risk_Level' ตามเงื่อนไขของ INCDTE_DATOCC_difference\n",
        "df_combined['INCDTE_DATOCC_Risk_Level'] = df_combined['INCDTE_DATOCC_difference'].apply(lambda x:\n",
        "    'ไม่มีความเสี่ยง' if x > 40 else\n",
        "    'ความเสี่ยงน้อย' if 31 <= x <= 40 else\n",
        "    'ความเสี่ยงปานกลาง' if 21 <= x <= 30 else\n",
        "    'ความเสี่ยงมาก' if 11 <= x <= 20 else\n",
        "    'ความเสี่ยงสูงมาก' if 0 <= x <= 10 else 'ค่าไม่ระบุ'  # เพิ่มกรณีที่ค่ามากกว่า 40 หรือไม่อยู่ในช่วง\n",
        ")\n",
        "\n",
        "# แสดงผลลัพธ์บางส่วน\n",
        "print(df_combined[['ID_Card', 'INCDTE_DATOCC_difference', 'INCDTE_DATOCC_Risk_Level']].head())\n"
      ],
      "metadata": {
        "id": "Tp-c0-z6nEb8"
      },
      "execution_count": null,
      "outputs": []
    },
    {
      "cell_type": "code",
      "source": [
        "# นับจำนวน Claim ตาม Dummy ID (ID_Card)\n",
        "claim_counts_per_customer = df_combined.groupby('ID_Card').size().reset_index(name='Claim_Count')\n",
        "\n",
        "# รวมค่า Claim_Count กลับเข้า df\n",
        "df_combined = df_combined.merge(claim_counts_per_customer, on='ID_Card', how='left')\n",
        "\n",
        "# แสดงผลลัพธ์บางส่วน\n",
        "print(df_combined[['ID_Card', 'Claim_Count']].head())\n"
      ],
      "metadata": {
        "id": "1SmrbE4yDaTb"
      },
      "execution_count": null,
      "outputs": []
    },
    {
      "cell_type": "code",
      "source": [
        "df_combined['Claim_Count'].value_counts()"
      ],
      "metadata": {
        "id": "b-qmW6SXyLn4"
      },
      "execution_count": null,
      "outputs": []
    },
    {
      "cell_type": "code",
      "source": [
        "# ฟังก์ชันกำหนดระดับความเสี่ยงตาม Dummy ID Count\n",
        "def categorize_dummy_risk(count):\n",
        "    if count == 1:\n",
        "        return 'ไม่มีความเสี่ยง'\n",
        "    elif count == 2:\n",
        "        return 'ความเสี่ยงต่ำ'\n",
        "    elif count == 3:\n",
        "        return 'ความเสี่ยงปานกลาง'\n",
        "    elif count == 4:\n",
        "        return 'ความเสี่ยงสูง'\n",
        "    else:\n",
        "        return 'ความเสี่ยงสูงมาก'\n",
        "\n",
        "# สร้างคอลัมน์ใหม่ 'Dummy_ID_Risk_Level' ตามจำนวน Dummy ID Count\n",
        "df_combined['Claim_Count_Risk_Level'] = df_combined['Claim_Count'].apply(categorize_dummy_risk)\n",
        "\n"
      ],
      "metadata": {
        "id": "yf9I4Rsbt4Mu"
      },
      "execution_count": null,
      "outputs": []
    },
    {
      "cell_type": "code",
      "source": [
        "import numpy as np\n",
        "\n",
        "conditions = [\n",
        "    df_combined[\"Claim_Count_Risk_Level\"] == \"ความเสี่ยงสูงมาก\",\n",
        "    df_combined[\"Claim_Count_Risk_Level\"] == \"ความเสี่ยงสูง\",\n",
        "    df_combined[\"Claim_Count_Risk_Level\"] == \"ความเสี่ยงปานกลาง\",\n",
        "    df_combined[\"Claim_Count_Risk_Level\"] == \"ความเสี่ยงต่ำ\",\n",
        "    df_combined[\"Claim_Count_Risk_Level\"] == \"ไม่มีความเสี่ยง\"\n",
        "]\n",
        "\n",
        "choices = [\"มากกว่า 4\", \"เท่ากับ 4\", \"เท่ากับ 3\", \"เท่ากับ 2\",\"เท่ากับ 1\"]\n",
        "\n",
        "df_combined[\"Conditions_Claim\"] = np.select(conditions, choices, default=\"ไม่ระบุ\")\n",
        "\n",
        "print(df_combined)"
      ],
      "metadata": {
        "collapsed": true,
        "id": "yI8qWQNTN879"
      },
      "execution_count": null,
      "outputs": []
    },
    {
      "cell_type": "code",
      "source": [
        "df_combined['Conditions_Claim'].value_counts()"
      ],
      "metadata": {
        "id": "5Gb_ZQfhz0DV"
      },
      "execution_count": null,
      "outputs": []
    },
    {
      "cell_type": "code",
      "source": [
        "df_combined"
      ],
      "metadata": {
        "collapsed": true,
        "id": "4Mnzx8bKzvGR"
      },
      "execution_count": null,
      "outputs": []
    },
    {
      "cell_type": "code",
      "source": [
        "# นับจำนวนครั้งที่ GIC = 1 ปรากฏในแต่ละ ID_Card\n",
        "gic_count_1 = df_combined[df_combined['GIC'] == 1].groupby('ID_Card')['GIC'].count().reset_index(name='GIC_Count')\n",
        "\n",
        "# รวมข้อมูล GIC_Count เข้าไปใน df_combined\n",
        "df_combined = df_combined.merge(gic_count_1, on='ID_Card', how='left')\n",
        "\n",
        "# แทนค่า NaN ด้วย 0 (กรณีที่ ID_Card ไม่มี GIC = 1 เลย)\n",
        "df_combined['GIC_Count'] = df_combined['GIC_Count'].fillna(0).astype(int)\n",
        "\n",
        "# แสดงผลลัพธ์บางส่วน\n",
        "print(df_combined[['ID_Card', 'GIC', 'GIC_Count']].head())\n"
      ],
      "metadata": {
        "id": "PzxGuyEzUfEY"
      },
      "execution_count": null,
      "outputs": []
    },
    {
      "cell_type": "code",
      "source": [
        "# ฟังก์ชันกำหนดระดับความเสี่ยงจาก GIC_Count\n",
        "def assign_risk(count):\n",
        "    if count == 1:\n",
        "        return 'ความเสี่ยงน้อย'\n",
        "    elif count == 2:\n",
        "        return 'ความเสี่ยงปานกลาง'\n",
        "    elif count == 3:\n",
        "        return 'ความเสี่ยงสูง'\n",
        "    else:\n",
        "        return 'ความเสี่ยงสูงมาก'\n",
        "\n",
        "# ใช้ apply เพื่อกำหนดระดับความเสี่ยง\n",
        "df_combined['GIC_Risk_Level'] = df_combined['GIC_Count'].apply(assign_risk)\n"
      ],
      "metadata": {
        "id": "36oX3dzbUlVm"
      },
      "execution_count": null,
      "outputs": []
    },
    {
      "cell_type": "code",
      "source": [
        "import numpy as np\n",
        "\n",
        "conditions = [\n",
        "    df_combined[\"GIC_Risk_Level\"] == \"ความเสี่ยงสูงมาก\",\n",
        "    df_combined[\"GIC_Risk_Level\"] == \"ความเสี่ยงสูง\",\n",
        "    df_combined[\"GIC_Risk_Level\"] == \"ความเสี่ยงปานกลาง\",\n",
        "    df_combined[\"GIC_Risk_Level\"] == \"ความเสี่ยงน้อย\"\n",
        "]\n",
        "\n",
        "choices = [\"มากกว่า 3\",\"เท่ากับ 3\", \"เท่ากับ 2\", \"น้อยกว่า 1\"]\n",
        "\n",
        "df_combined[\"Conditions_Deny\"] = np.select(conditions, choices, default=\"ไม่ระบุ\")\n",
        "\n",
        "print(df_combined)"
      ],
      "metadata": {
        "collapsed": true,
        "id": "EVOdz3tQPF9D"
      },
      "execution_count": null,
      "outputs": []
    },
    {
      "cell_type": "code",
      "source": [
        "df_combined['Conditions_Deny'].value_counts()"
      ],
      "metadata": {
        "collapsed": true,
        "id": "hylRotXE0jlE"
      },
      "execution_count": null,
      "outputs": []
    },
    {
      "cell_type": "code",
      "source": [
        "# แสดงชื่อคอลัมน์ทั้งหมดใน df_combined\n",
        "print(df_combined.columns)\n"
      ],
      "metadata": {
        "collapsed": true,
        "id": "l0pRDxXd04jw"
      },
      "execution_count": null,
      "outputs": []
    },
    {
      "cell_type": "code",
      "source": [
        "\n",
        "df_combined['GRS_PAID_Risk_Level'] = df_combined['GRS_PAID'].apply(lambda x:\n",
        "    'ความเสี่ยงน้อย' if x <=400000 else\n",
        "    'ความเสี่ยงปานกลาง' if 400000 < x <= 500000 else\n",
        "    'ความเสี่ยงสูง' if 500000 < x < 600000 else\n",
        "    'ความเสี่ยงสูงมาก' if x >=600000 else 'ค่าไม่ระบุ'\n",
        ")\n"
      ],
      "metadata": {
        "id": "mARqbId11lvT"
      },
      "execution_count": null,
      "outputs": []
    },
    {
      "cell_type": "code",
      "source": [
        "import numpy as np\n",
        "\n",
        "conditions = [\n",
        "    df_combined[\"GRS_PAID_Risk_Level\"] == \"ความเสี่ยงสูงมาก\",\n",
        "    df_combined[\"GRS_PAID_Risk_Level\"] == \"ความเสี่ยงสูง\",\n",
        "    df_combined[\"GRS_PAID_Risk_Level\"] == \"ความเสี่ยงปานกลาง\",\n",
        "    df_combined[\"GRS_PAID_Risk_Level\"] == \"ความเสี่ยงน้อย\"\n",
        "]\n",
        "\n",
        "choices = [\"มากกว่าเท่ากับ 4 แสน\",\"มากกว่า 4 แสน และ น้อยกว่าเท่ากับ 5 แสน\", \"มากกว่า 4 แสน และ น้อยกว่า 6 แสน\", \"มากกว่าเท่ากับ 6 แสน\"]\n",
        "\n",
        "df_combined[\"Conditions_GRS_PAID\"] = np.select(conditions, choices, default=\"ไม่ระบุ\")\n",
        "\n",
        "print(df_combined)"
      ],
      "metadata": {
        "collapsed": true,
        "id": "mdWyi38W3fvz"
      },
      "execution_count": null,
      "outputs": []
    },
    {
      "cell_type": "code",
      "source": [
        "df_combined['Conditions_GRS_PAID'].value_counts()"
      ],
      "metadata": {
        "id": "xfdRXkFn4Amd"
      },
      "execution_count": null,
      "outputs": []
    },
    {
      "cell_type": "code",
      "source": [
        "import pandas as pd\n",
        "\n",
        "# ฟังก์ชันกำหนดระดับความเสี่ยงจากจำนวน 'ความเสี่ยงสูง'\n",
        "def risk_level_from_count(high_risk_count, medium_risk_count, low_risk_count):\n",
        "    # ความเสี่ยงสูงมาก\n",
        "    if high_risk_count >= 1:\n",
        "        return 'ความเสี่ยงสูงมาก'\n",
        "    # ความเสี่ยงสูง\n",
        "    elif medium_risk_count >= 2:\n",
        "        return 'ความเสี่ยงสูงมาก'\n",
        "    # ความเสี่ยงปานกลาง\n",
        "    elif medium_risk_count >= 3:\n",
        "        return 'ความเสี่ยงสูง'\n",
        "    # ความเสี่ยงน้อย\n",
        "    elif low_risk_count > 0:\n",
        "        return 'ความเสี่ยงน้อย'\n",
        "    else:\n",
        "        return 'ไม่มีความเสี่ยง'\n",
        "\n",
        "# ฟังก์ชันในการคำนวณระดับความเสี่ยงของแต่ละแถว\n",
        "def determine_risk_level(row):\n",
        "    # นับจำนวน 'ความเสี่ยงสูงมาก'\n",
        "    high_risk_count = (row == 'ความเสี่ยงสูงมาก').sum()\n",
        "    # นับจำนวน 'ความเสี่ยงสูง'\n",
        "    medium_risk_count = (row == 'ความเสี่ยงสูง').sum()\n",
        "    # นับจำนวน 'ความเสี่ยงปานกลาง'\n",
        "    low_risk_count = (row == 'ความเสี่ยงปานกลาง').sum()\n",
        "    # นับจำนวน 'ความเสี่ยงน้อย'\n",
        "    very_low_risk_count = (row == 'ความเสี่ยงน้อย').sum()\n",
        "\n",
        "    # กำหนดระดับความเสี่ยง\n",
        "    return risk_level_from_count(high_risk_count, medium_risk_count, low_risk_count)\n",
        "\n",
        "# ใช้ apply() ในการประมวลผลแต่ละแถว (ไม่รวม 'ID_Card')\n",
        "df_combined['Risk_Level'] = df_combined.drop(columns=['ID_Card']).apply(determine_risk_level, axis=1)\n",
        "\n",
        "# แสดงผลลัพธ์\n",
        "print(df_combined[['ID_Card', 'Risk_Level']])\n"
      ],
      "metadata": {
        "collapsed": true,
        "id": "7nnYsFoIi7St"
      },
      "execution_count": null,
      "outputs": []
    },
    {
      "cell_type": "code",
      "source": [
        "df_combined['Risk_Level'].value_counts()"
      ],
      "metadata": {
        "id": "mWcmb35I5-GD"
      },
      "execution_count": null,
      "outputs": []
    },
    {
      "cell_type": "code",
      "source": [
        "df_combined"
      ],
      "metadata": {
        "id": "diKMBv8KSCbW",
        "collapsed": true
      },
      "execution_count": null,
      "outputs": []
    },
    {
      "cell_type": "code",
      "source": [
        "print(df_combined.columns)"
      ],
      "metadata": {
        "id": "3hkzje6fqhNJ"
      },
      "execution_count": null,
      "outputs": []
    },
    {
      "cell_type": "code",
      "source": [
        "#['ID_Card', 'AGE', 'Policy_Class', 'Premium',\n",
        "#'DATESALE', 'INCDTE', 'DATREP', 'DATOCC',\n",
        " #'ReseveDescription', 'GRS_OS', 'GRS_PAID', 'GIC', 'Remark',\n",
        " #'ReseveDescriptionType', 'ReseveDescription_Count_x', 'ReseveDescription_Count_y',\n",
        " #'ReseveDescription_Count', 'ReseveDescription_Risk_Level', 'Conditions_ReseveDescription',\n",
        "\n",
        "\n",
        " #'INCDTE_DATOCC_difference',\n",
        "\n",
        " #'DATESALE_DATOCC_difference', 'DATESALE_DATOCC_Risk_Level',\n",
        " #'Conditions_DATESALE_DATOCC',\n",
        " #'Risk_Level', 'INCDTE_DATOCC_Risk_Level', 'Claim_Count', 'Claim_Count_Risk_Level', 'Conditions_Claim', 'GIC_Count', 'GIC_Risk', 'Conditions_Deny', 'GRS_PAID_Risk_Level', 'Conditions_GRS_PAID']"
      ],
      "metadata": {
        "id": "flzhDqeD6mOT"
      },
      "execution_count": null,
      "outputs": []
    },
    {
      "cell_type": "code",
      "source": [
        "df_combined.rename(columns={\"ID_Card\": \"เลขบัตรประจำตัวประชาชน\", \"AGE\": \"อายุ\",    \"Premium\": \"เบี้ยประกันภัย\",\n",
        "                            \"DATESALE\": \"วันที่ขายประกันภัย\",           \"INCDTE\": \"วันที่เริ่มคุ้มครอง\", \"DATREP\": \"วันที่แจ้งเหตุ\",    \"DATOCC\": \"วันที่เกิดเหตุ\",\n",
        "                    \"ReseveDescription\": \"สาเหตุการเคลมประกันภัย\",  \"GRS_OS\": \"ค่าสินไหมทดแทนที่ค้างจ่าย\",\"GRS_PAID\": \"ค่าสินไหมทดแทนที่จ่าย\",\n",
        "                             \"GIC\": \"ค่าสินไหมทดแทนที่เกิดขึ้นรวม\"   , \"Remark\": \"การฉ้อฉลประกันภัย\",\n",
        "                            \"ReseveDescriptionType\": \"กลุ่มสาเหตุการเคลมประกันภัย\"\n",
        "                            }, inplace=True)\n"
      ],
      "metadata": {
        "id": "8gn2XW3eAXBF"
      },
      "execution_count": null,
      "outputs": []
    },
    {
      "cell_type": "code",
      "source": [
        "df_combined"
      ],
      "metadata": {
        "id": "23eGx6mgD9ZS",
        "collapsed": true
      },
      "execution_count": null,
      "outputs": []
    },
    {
      "cell_type": "code",
      "source": [
        "df_combined.rename(columns={\n",
        "\n",
        " 'INCDTE_DATOCC_difference' : 'ระยะห่างระหว่างวันที่เริ่มกรมธรรม์กับวันที่เกิดเหตุ',\n",
        " 'DATESALE_DATOCC_difference' : 'ระยะห่างระหว่างวันที่ขายประกันภัยกับวันที่เกิดเหตุ',\n",
        "'Claim_Count' : 'จำนวนการเคลมประกันภัย',\n",
        "  'GIC_Count' : 'จำนวนการเคลมประกันภัยที่ปฏิเสธ', 'Policy_Class':'แผนประกันภัย (Policy Class)',\n",
        "'ReseveDescription_Count' : 'จำนวนการเคลมประกันภัยตามสาเหตุการเคลมประกันภัย' ,'GIC_Risk_Level':'Deny_Risk_Level'\n",
        "                            }, inplace=True)\n"
      ],
      "metadata": {
        "id": "TtyiQ6JkkzCu"
      },
      "execution_count": null,
      "outputs": []
    },
    {
      "cell_type": "code",
      "source": [
        "print(df_combined.columns)"
      ],
      "metadata": {
        "id": "sLqsavn9q_-O"
      },
      "execution_count": null,
      "outputs": []
    },
    {
      "cell_type": "code",
      "source": [
        "# บันทึก DataFrame เป็นไฟล์ Excel\n",
        "df_combined.to_excel('CLAIM_TA_2023_2024_FINAL_CLEAN.xlsx', index=False)\n",
        "\n",
        "# แจ้งว่าไฟล์ถูกบันทึกแล้ว\n",
        "print(\"ไฟล์ Excel ถูกบันทึกแล้วที่ 'CLAIM_TA_2023_2024_FINAL_CLEAN.xlsx'\")\n"
      ],
      "metadata": {
        "id": "5dWKcHW3Ew2g"
      },
      "execution_count": null,
      "outputs": []
    }
  ]
}