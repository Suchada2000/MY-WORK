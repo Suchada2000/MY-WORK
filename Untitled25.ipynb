{
  "nbformat": 4,
  "nbformat_minor": 0,
  "metadata": {
    "colab": {
      "provenance": [],
      "authorship_tag": "ABX9TyOuYBYGb0mt3zbOPgKPbu/Y",
      "include_colab_link": true
    },
    "kernelspec": {
      "name": "python3",
      "display_name": "Python 3"
    },
    "language_info": {
      "name": "python"
    }
  },
  "cells": [
    {
      "cell_type": "markdown",
      "metadata": {
        "id": "view-in-github",
        "colab_type": "text"
      },
      "source": [
        "<a href=\"https://colab.research.google.com/github/Suchada2000/MY-WORK/blob/main/Untitled25.ipynb\" target=\"_parent\"><img src=\"https://colab.research.google.com/assets/colab-badge.svg\" alt=\"Open In Colab\"/></a>"
      ]
    },
    {
      "cell_type": "code",
      "source": [
        "exit()"
      ],
      "metadata": {
        "id": "PO0LxPjjvBy7"
      },
      "execution_count": 1,
      "outputs": []
    },
    {
      "cell_type": "code",
      "execution_count": null,
      "metadata": {
        "id": "iJDhcNZw7xLi"
      },
      "outputs": [],
      "source": [
        "pip install pandas scikit-learn openpyxl\n",
        "#pandas read excal\n",
        "#openpyxl อ่านไฟล์ excal\n",
        "#scikit-learn standardization"
      ]
    },
    {
      "cell_type": "code",
      "source": [
        "import pandas as pd\n",
        "from sklearn.preprocessing import StandardScaler\n",
        "\n",
        "# 1. อ่านข้อมูลจากไฟล์ Excel\n",
        "df = pd.read_excel(\"/content/sample_data/Databaseใหม่.xlsx\")\n",
        "\n",
        "# 2. ดูข้อมูลใน DataFrame\n",
        "print(\"Original Data:\")\n",
        "print(df)"
      ],
      "metadata": {
        "colab": {
          "base_uri": "https://localhost:8080/"
        },
        "id": "yA-OYVx39EqU",
        "outputId": "42c61982-c066-495a-a938-f05b4e1d8fae"
      },
      "execution_count": 2,
      "outputs": [
        {
          "output_type": "stream",
          "name": "stdout",
          "text": [
            "Original Data:\n",
            "     chdrnum       UNIT_DESC  cownnum\n",
            "0   31503378          AGENCY   637084\n",
            "1   31362289          AGENCY   887918\n",
            "2   31380352          AGENCY   675582\n",
            "3   31380352          AGENCY   675582\n",
            "4   34881057          DIRECT  1299239\n",
            "5   34881235          DIRECT  1299598\n",
            "6   31380265          DIRECT   933179\n",
            "7   31380352          AGENCY   675582\n",
            "8   31380352          AGENCY   675582\n",
            "9   31380352          AGENCY   675582\n",
            "10  34881523          DIRECT  1294172\n",
            "11  34881523          DIRECT  1294172\n",
            "12  34951121  IN-HOUSE AGENT   841044\n",
            "13  34951121  IN-HOUSE AGENT   841044\n",
            "14  34951121  IN-HOUSE AGENT   841044\n",
            "15  34951121  IN-HOUSE AGENT   841044\n",
            "16  34951121  IN-HOUSE AGENT   841044\n",
            "17  35511371          DIRECT  1049123\n",
            "18  35528224          AGENCY   942361\n"
          ]
        }
      ]
    },
    {
      "cell_type": "code",
      "source": [
        "df"
      ],
      "metadata": {
        "colab": {
          "base_uri": "https://localhost:8080/",
          "height": 645
        },
        "id": "TYnndbneAnvC",
        "outputId": "0b55d5ee-6a85-4b4c-d1bc-ce1cd99e1d81"
      },
      "execution_count": 4,
      "outputs": [
        {
          "output_type": "execute_result",
          "data": {
            "text/plain": [
              "     chdrnum       UNIT_DESC  cownnum\n",
              "0   31503378          AGENCY   637084\n",
              "1   31362289          AGENCY   887918\n",
              "2   31380352          AGENCY   675582\n",
              "3   31380352          AGENCY   675582\n",
              "4   34881057          DIRECT  1299239\n",
              "5   34881235          DIRECT  1299598\n",
              "6   31380265          DIRECT   933179\n",
              "7   31380352          AGENCY   675582\n",
              "8   31380352          AGENCY   675582\n",
              "9   31380352          AGENCY   675582\n",
              "10  34881523          DIRECT  1294172\n",
              "11  34881523          DIRECT  1294172\n",
              "12  34951121  IN-HOUSE AGENT   841044\n",
              "13  34951121  IN-HOUSE AGENT   841044\n",
              "14  34951121  IN-HOUSE AGENT   841044\n",
              "15  34951121  IN-HOUSE AGENT   841044\n",
              "16  34951121  IN-HOUSE AGENT   841044\n",
              "17  35511371          DIRECT  1049123\n",
              "18  35528224          AGENCY   942361"
            ],
            "text/html": [
              "\n",
              "  <div id=\"df-30966a8a-2423-423b-8d92-09a61f683122\" class=\"colab-df-container\">\n",
              "    <div>\n",
              "<style scoped>\n",
              "    .dataframe tbody tr th:only-of-type {\n",
              "        vertical-align: middle;\n",
              "    }\n",
              "\n",
              "    .dataframe tbody tr th {\n",
              "        vertical-align: top;\n",
              "    }\n",
              "\n",
              "    .dataframe thead th {\n",
              "        text-align: right;\n",
              "    }\n",
              "</style>\n",
              "<table border=\"1\" class=\"dataframe\">\n",
              "  <thead>\n",
              "    <tr style=\"text-align: right;\">\n",
              "      <th></th>\n",
              "      <th>chdrnum</th>\n",
              "      <th>UNIT_DESC</th>\n",
              "      <th>cownnum</th>\n",
              "    </tr>\n",
              "  </thead>\n",
              "  <tbody>\n",
              "    <tr>\n",
              "      <th>0</th>\n",
              "      <td>31503378</td>\n",
              "      <td>AGENCY</td>\n",
              "      <td>637084</td>\n",
              "    </tr>\n",
              "    <tr>\n",
              "      <th>1</th>\n",
              "      <td>31362289</td>\n",
              "      <td>AGENCY</td>\n",
              "      <td>887918</td>\n",
              "    </tr>\n",
              "    <tr>\n",
              "      <th>2</th>\n",
              "      <td>31380352</td>\n",
              "      <td>AGENCY</td>\n",
              "      <td>675582</td>\n",
              "    </tr>\n",
              "    <tr>\n",
              "      <th>3</th>\n",
              "      <td>31380352</td>\n",
              "      <td>AGENCY</td>\n",
              "      <td>675582</td>\n",
              "    </tr>\n",
              "    <tr>\n",
              "      <th>4</th>\n",
              "      <td>34881057</td>\n",
              "      <td>DIRECT</td>\n",
              "      <td>1299239</td>\n",
              "    </tr>\n",
              "    <tr>\n",
              "      <th>5</th>\n",
              "      <td>34881235</td>\n",
              "      <td>DIRECT</td>\n",
              "      <td>1299598</td>\n",
              "    </tr>\n",
              "    <tr>\n",
              "      <th>6</th>\n",
              "      <td>31380265</td>\n",
              "      <td>DIRECT</td>\n",
              "      <td>933179</td>\n",
              "    </tr>\n",
              "    <tr>\n",
              "      <th>7</th>\n",
              "      <td>31380352</td>\n",
              "      <td>AGENCY</td>\n",
              "      <td>675582</td>\n",
              "    </tr>\n",
              "    <tr>\n",
              "      <th>8</th>\n",
              "      <td>31380352</td>\n",
              "      <td>AGENCY</td>\n",
              "      <td>675582</td>\n",
              "    </tr>\n",
              "    <tr>\n",
              "      <th>9</th>\n",
              "      <td>31380352</td>\n",
              "      <td>AGENCY</td>\n",
              "      <td>675582</td>\n",
              "    </tr>\n",
              "    <tr>\n",
              "      <th>10</th>\n",
              "      <td>34881523</td>\n",
              "      <td>DIRECT</td>\n",
              "      <td>1294172</td>\n",
              "    </tr>\n",
              "    <tr>\n",
              "      <th>11</th>\n",
              "      <td>34881523</td>\n",
              "      <td>DIRECT</td>\n",
              "      <td>1294172</td>\n",
              "    </tr>\n",
              "    <tr>\n",
              "      <th>12</th>\n",
              "      <td>34951121</td>\n",
              "      <td>IN-HOUSE AGENT</td>\n",
              "      <td>841044</td>\n",
              "    </tr>\n",
              "    <tr>\n",
              "      <th>13</th>\n",
              "      <td>34951121</td>\n",
              "      <td>IN-HOUSE AGENT</td>\n",
              "      <td>841044</td>\n",
              "    </tr>\n",
              "    <tr>\n",
              "      <th>14</th>\n",
              "      <td>34951121</td>\n",
              "      <td>IN-HOUSE AGENT</td>\n",
              "      <td>841044</td>\n",
              "    </tr>\n",
              "    <tr>\n",
              "      <th>15</th>\n",
              "      <td>34951121</td>\n",
              "      <td>IN-HOUSE AGENT</td>\n",
              "      <td>841044</td>\n",
              "    </tr>\n",
              "    <tr>\n",
              "      <th>16</th>\n",
              "      <td>34951121</td>\n",
              "      <td>IN-HOUSE AGENT</td>\n",
              "      <td>841044</td>\n",
              "    </tr>\n",
              "    <tr>\n",
              "      <th>17</th>\n",
              "      <td>35511371</td>\n",
              "      <td>DIRECT</td>\n",
              "      <td>1049123</td>\n",
              "    </tr>\n",
              "    <tr>\n",
              "      <th>18</th>\n",
              "      <td>35528224</td>\n",
              "      <td>AGENCY</td>\n",
              "      <td>942361</td>\n",
              "    </tr>\n",
              "  </tbody>\n",
              "</table>\n",
              "</div>\n",
              "    <div class=\"colab-df-buttons\">\n",
              "\n",
              "  <div class=\"colab-df-container\">\n",
              "    <button class=\"colab-df-convert\" onclick=\"convertToInteractive('df-30966a8a-2423-423b-8d92-09a61f683122')\"\n",
              "            title=\"Convert this dataframe to an interactive table.\"\n",
              "            style=\"display:none;\">\n",
              "\n",
              "  <svg xmlns=\"http://www.w3.org/2000/svg\" height=\"24px\" viewBox=\"0 -960 960 960\">\n",
              "    <path d=\"M120-120v-720h720v720H120Zm60-500h600v-160H180v160Zm220 220h160v-160H400v160Zm0 220h160v-160H400v160ZM180-400h160v-160H180v160Zm440 0h160v-160H620v160ZM180-180h160v-160H180v160Zm440 0h160v-160H620v160Z\"/>\n",
              "  </svg>\n",
              "    </button>\n",
              "\n",
              "  <style>\n",
              "    .colab-df-container {\n",
              "      display:flex;\n",
              "      gap: 12px;\n",
              "    }\n",
              "\n",
              "    .colab-df-convert {\n",
              "      background-color: #E8F0FE;\n",
              "      border: none;\n",
              "      border-radius: 50%;\n",
              "      cursor: pointer;\n",
              "      display: none;\n",
              "      fill: #1967D2;\n",
              "      height: 32px;\n",
              "      padding: 0 0 0 0;\n",
              "      width: 32px;\n",
              "    }\n",
              "\n",
              "    .colab-df-convert:hover {\n",
              "      background-color: #E2EBFA;\n",
              "      box-shadow: 0px 1px 2px rgba(60, 64, 67, 0.3), 0px 1px 3px 1px rgba(60, 64, 67, 0.15);\n",
              "      fill: #174EA6;\n",
              "    }\n",
              "\n",
              "    .colab-df-buttons div {\n",
              "      margin-bottom: 4px;\n",
              "    }\n",
              "\n",
              "    [theme=dark] .colab-df-convert {\n",
              "      background-color: #3B4455;\n",
              "      fill: #D2E3FC;\n",
              "    }\n",
              "\n",
              "    [theme=dark] .colab-df-convert:hover {\n",
              "      background-color: #434B5C;\n",
              "      box-shadow: 0px 1px 3px 1px rgba(0, 0, 0, 0.15);\n",
              "      filter: drop-shadow(0px 1px 2px rgba(0, 0, 0, 0.3));\n",
              "      fill: #FFFFFF;\n",
              "    }\n",
              "  </style>\n",
              "\n",
              "    <script>\n",
              "      const buttonEl =\n",
              "        document.querySelector('#df-30966a8a-2423-423b-8d92-09a61f683122 button.colab-df-convert');\n",
              "      buttonEl.style.display =\n",
              "        google.colab.kernel.accessAllowed ? 'block' : 'none';\n",
              "\n",
              "      async function convertToInteractive(key) {\n",
              "        const element = document.querySelector('#df-30966a8a-2423-423b-8d92-09a61f683122');\n",
              "        const dataTable =\n",
              "          await google.colab.kernel.invokeFunction('convertToInteractive',\n",
              "                                                    [key], {});\n",
              "        if (!dataTable) return;\n",
              "\n",
              "        const docLinkHtml = 'Like what you see? Visit the ' +\n",
              "          '<a target=\"_blank\" href=https://colab.research.google.com/notebooks/data_table.ipynb>data table notebook</a>'\n",
              "          + ' to learn more about interactive tables.';\n",
              "        element.innerHTML = '';\n",
              "        dataTable['output_type'] = 'display_data';\n",
              "        await google.colab.output.renderOutput(dataTable, element);\n",
              "        const docLink = document.createElement('div');\n",
              "        docLink.innerHTML = docLinkHtml;\n",
              "        element.appendChild(docLink);\n",
              "      }\n",
              "    </script>\n",
              "  </div>\n",
              "\n",
              "\n",
              "<div id=\"df-905d998e-888e-42b7-8e47-35c89cbd79a0\">\n",
              "  <button class=\"colab-df-quickchart\" onclick=\"quickchart('df-905d998e-888e-42b7-8e47-35c89cbd79a0')\"\n",
              "            title=\"Suggest charts\"\n",
              "            style=\"display:none;\">\n",
              "\n",
              "<svg xmlns=\"http://www.w3.org/2000/svg\" height=\"24px\"viewBox=\"0 0 24 24\"\n",
              "     width=\"24px\">\n",
              "    <g>\n",
              "        <path d=\"M19 3H5c-1.1 0-2 .9-2 2v14c0 1.1.9 2 2 2h14c1.1 0 2-.9 2-2V5c0-1.1-.9-2-2-2zM9 17H7v-7h2v7zm4 0h-2V7h2v10zm4 0h-2v-4h2v4z\"/>\n",
              "    </g>\n",
              "</svg>\n",
              "  </button>\n",
              "\n",
              "<style>\n",
              "  .colab-df-quickchart {\n",
              "      --bg-color: #E8F0FE;\n",
              "      --fill-color: #1967D2;\n",
              "      --hover-bg-color: #E2EBFA;\n",
              "      --hover-fill-color: #174EA6;\n",
              "      --disabled-fill-color: #AAA;\n",
              "      --disabled-bg-color: #DDD;\n",
              "  }\n",
              "\n",
              "  [theme=dark] .colab-df-quickchart {\n",
              "      --bg-color: #3B4455;\n",
              "      --fill-color: #D2E3FC;\n",
              "      --hover-bg-color: #434B5C;\n",
              "      --hover-fill-color: #FFFFFF;\n",
              "      --disabled-bg-color: #3B4455;\n",
              "      --disabled-fill-color: #666;\n",
              "  }\n",
              "\n",
              "  .colab-df-quickchart {\n",
              "    background-color: var(--bg-color);\n",
              "    border: none;\n",
              "    border-radius: 50%;\n",
              "    cursor: pointer;\n",
              "    display: none;\n",
              "    fill: var(--fill-color);\n",
              "    height: 32px;\n",
              "    padding: 0;\n",
              "    width: 32px;\n",
              "  }\n",
              "\n",
              "  .colab-df-quickchart:hover {\n",
              "    background-color: var(--hover-bg-color);\n",
              "    box-shadow: 0 1px 2px rgba(60, 64, 67, 0.3), 0 1px 3px 1px rgba(60, 64, 67, 0.15);\n",
              "    fill: var(--button-hover-fill-color);\n",
              "  }\n",
              "\n",
              "  .colab-df-quickchart-complete:disabled,\n",
              "  .colab-df-quickchart-complete:disabled:hover {\n",
              "    background-color: var(--disabled-bg-color);\n",
              "    fill: var(--disabled-fill-color);\n",
              "    box-shadow: none;\n",
              "  }\n",
              "\n",
              "  .colab-df-spinner {\n",
              "    border: 2px solid var(--fill-color);\n",
              "    border-color: transparent;\n",
              "    border-bottom-color: var(--fill-color);\n",
              "    animation:\n",
              "      spin 1s steps(1) infinite;\n",
              "  }\n",
              "\n",
              "  @keyframes spin {\n",
              "    0% {\n",
              "      border-color: transparent;\n",
              "      border-bottom-color: var(--fill-color);\n",
              "      border-left-color: var(--fill-color);\n",
              "    }\n",
              "    20% {\n",
              "      border-color: transparent;\n",
              "      border-left-color: var(--fill-color);\n",
              "      border-top-color: var(--fill-color);\n",
              "    }\n",
              "    30% {\n",
              "      border-color: transparent;\n",
              "      border-left-color: var(--fill-color);\n",
              "      border-top-color: var(--fill-color);\n",
              "      border-right-color: var(--fill-color);\n",
              "    }\n",
              "    40% {\n",
              "      border-color: transparent;\n",
              "      border-right-color: var(--fill-color);\n",
              "      border-top-color: var(--fill-color);\n",
              "    }\n",
              "    60% {\n",
              "      border-color: transparent;\n",
              "      border-right-color: var(--fill-color);\n",
              "    }\n",
              "    80% {\n",
              "      border-color: transparent;\n",
              "      border-right-color: var(--fill-color);\n",
              "      border-bottom-color: var(--fill-color);\n",
              "    }\n",
              "    90% {\n",
              "      border-color: transparent;\n",
              "      border-bottom-color: var(--fill-color);\n",
              "    }\n",
              "  }\n",
              "</style>\n",
              "\n",
              "  <script>\n",
              "    async function quickchart(key) {\n",
              "      const quickchartButtonEl =\n",
              "        document.querySelector('#' + key + ' button');\n",
              "      quickchartButtonEl.disabled = true;  // To prevent multiple clicks.\n",
              "      quickchartButtonEl.classList.add('colab-df-spinner');\n",
              "      try {\n",
              "        const charts = await google.colab.kernel.invokeFunction(\n",
              "            'suggestCharts', [key], {});\n",
              "      } catch (error) {\n",
              "        console.error('Error during call to suggestCharts:', error);\n",
              "      }\n",
              "      quickchartButtonEl.classList.remove('colab-df-spinner');\n",
              "      quickchartButtonEl.classList.add('colab-df-quickchart-complete');\n",
              "    }\n",
              "    (() => {\n",
              "      let quickchartButtonEl =\n",
              "        document.querySelector('#df-905d998e-888e-42b7-8e47-35c89cbd79a0 button');\n",
              "      quickchartButtonEl.style.display =\n",
              "        google.colab.kernel.accessAllowed ? 'block' : 'none';\n",
              "    })();\n",
              "  </script>\n",
              "</div>\n",
              "\n",
              "  <div id=\"id_bb9c5261-9a2b-404b-8c0a-0186e0eb6b74\">\n",
              "    <style>\n",
              "      .colab-df-generate {\n",
              "        background-color: #E8F0FE;\n",
              "        border: none;\n",
              "        border-radius: 50%;\n",
              "        cursor: pointer;\n",
              "        display: none;\n",
              "        fill: #1967D2;\n",
              "        height: 32px;\n",
              "        padding: 0 0 0 0;\n",
              "        width: 32px;\n",
              "      }\n",
              "\n",
              "      .colab-df-generate:hover {\n",
              "        background-color: #E2EBFA;\n",
              "        box-shadow: 0px 1px 2px rgba(60, 64, 67, 0.3), 0px 1px 3px 1px rgba(60, 64, 67, 0.15);\n",
              "        fill: #174EA6;\n",
              "      }\n",
              "\n",
              "      [theme=dark] .colab-df-generate {\n",
              "        background-color: #3B4455;\n",
              "        fill: #D2E3FC;\n",
              "      }\n",
              "\n",
              "      [theme=dark] .colab-df-generate:hover {\n",
              "        background-color: #434B5C;\n",
              "        box-shadow: 0px 1px 3px 1px rgba(0, 0, 0, 0.15);\n",
              "        filter: drop-shadow(0px 1px 2px rgba(0, 0, 0, 0.3));\n",
              "        fill: #FFFFFF;\n",
              "      }\n",
              "    </style>\n",
              "    <button class=\"colab-df-generate\" onclick=\"generateWithVariable('df')\"\n",
              "            title=\"Generate code using this dataframe.\"\n",
              "            style=\"display:none;\">\n",
              "\n",
              "  <svg xmlns=\"http://www.w3.org/2000/svg\" height=\"24px\"viewBox=\"0 0 24 24\"\n",
              "       width=\"24px\">\n",
              "    <path d=\"M7,19H8.4L18.45,9,17,7.55,7,17.6ZM5,21V16.75L18.45,3.32a2,2,0,0,1,2.83,0l1.4,1.43a1.91,1.91,0,0,1,.58,1.4,1.91,1.91,0,0,1-.58,1.4L9.25,21ZM18.45,9,17,7.55Zm-12,3A5.31,5.31,0,0,0,4.9,8.1,5.31,5.31,0,0,0,1,6.5,5.31,5.31,0,0,0,4.9,4.9,5.31,5.31,0,0,0,6.5,1,5.31,5.31,0,0,0,8.1,4.9,5.31,5.31,0,0,0,12,6.5,5.46,5.46,0,0,0,6.5,12Z\"/>\n",
              "  </svg>\n",
              "    </button>\n",
              "    <script>\n",
              "      (() => {\n",
              "      const buttonEl =\n",
              "        document.querySelector('#id_bb9c5261-9a2b-404b-8c0a-0186e0eb6b74 button.colab-df-generate');\n",
              "      buttonEl.style.display =\n",
              "        google.colab.kernel.accessAllowed ? 'block' : 'none';\n",
              "\n",
              "      buttonEl.onclick = () => {\n",
              "        google.colab.notebook.generateWithVariable('df');\n",
              "      }\n",
              "      })();\n",
              "    </script>\n",
              "  </div>\n",
              "\n",
              "    </div>\n",
              "  </div>\n"
            ],
            "application/vnd.google.colaboratory.intrinsic+json": {
              "type": "dataframe",
              "variable_name": "df",
              "summary": "{\n  \"name\": \"df\",\n  \"rows\": 19,\n  \"fields\": [\n    {\n      \"column\": \"chdrnum\",\n      \"properties\": {\n        \"dtype\": \"number\",\n        \"std\": 1853442,\n        \"min\": 31362289,\n        \"max\": 35528224,\n        \"num_unique_values\": 10,\n        \"samples\": [\n          35511371,\n          31362289,\n          31380265\n        ],\n        \"semantic_type\": \"\",\n        \"description\": \"\"\n      }\n    },\n    {\n      \"column\": \"UNIT_DESC\",\n      \"properties\": {\n        \"dtype\": \"category\",\n        \"num_unique_values\": 3,\n        \"samples\": [\n          \"AGENCY\",\n          \"DIRECT\",\n          \"IN-HOUSE AGENT\"\n        ],\n        \"semantic_type\": \"\",\n        \"description\": \"\"\n      }\n    },\n    {\n      \"column\": \"cownnum\",\n      \"properties\": {\n        \"dtype\": \"number\",\n        \"std\": 234835,\n        \"min\": 637084,\n        \"max\": 1299598,\n        \"num_unique_values\": 10,\n        \"samples\": [\n          1049123,\n          887918,\n          933179\n        ],\n        \"semantic_type\": \"\",\n        \"description\": \"\"\n      }\n    }\n  ]\n}"
            }
          },
          "metadata": {},
          "execution_count": 4
        }
      ]
    },
    {
      "cell_type": "code",
      "source": [
        "df = pd.DataFrame(df)\n",
        "\n",
        "# แปลงคอลัมน์ 'Amount' เป็นตัวเลข โดยแปลงค่าที่ไม่สามารถแปลงเป็น NaN\n",
        "df['UNIT_DESC'] = df['UNIT_DESC'].replace('AGENCY', 0)\n",
        "df['UNIT_DESC'] = df['UNIT_DESC'].replace('DIRECT', 1)\n",
        "df['UNIT_DESC'] = df['UNIT_DESC'].replace('BROKER', 2)\n",
        "df['UNIT_DESC'] = df['UNIT_DESC'].replace('IN-HOUSE AGENT', 3)\n",
        "df['UNIT_DESC'] = df['UNIT_DESC'].replace('BANCASSURANCE', 4)\n",
        "\n",
        "# แสดงผลลัพธ์\n",
        "print(df)"
      ],
      "metadata": {
        "colab": {
          "base_uri": "https://localhost:8080/"
        },
        "id": "WjdvStvpDOMb",
        "outputId": "e072c9c4-7019-4bba-cbe3-7a3761d5c585"
      },
      "execution_count": 5,
      "outputs": [
        {
          "output_type": "stream",
          "name": "stdout",
          "text": [
            "     chdrnum  UNIT_DESC  cownnum\n",
            "0   31503378          0   637084\n",
            "1   31362289          0   887918\n",
            "2   31380352          0   675582\n",
            "3   31380352          0   675582\n",
            "4   34881057          1  1299239\n",
            "5   34881235          1  1299598\n",
            "6   31380265          1   933179\n",
            "7   31380352          0   675582\n",
            "8   31380352          0   675582\n",
            "9   31380352          0   675582\n",
            "10  34881523          1  1294172\n",
            "11  34881523          1  1294172\n",
            "12  34951121          3   841044\n",
            "13  34951121          3   841044\n",
            "14  34951121          3   841044\n",
            "15  34951121          3   841044\n",
            "16  34951121          3   841044\n",
            "17  35511371          1  1049123\n",
            "18  35528224          0   942361\n"
          ]
        },
        {
          "output_type": "stream",
          "name": "stderr",
          "text": [
            "<ipython-input-5-6546e0f749be>:7: FutureWarning: Downcasting behavior in `replace` is deprecated and will be removed in a future version. To retain the old behavior, explicitly call `result.infer_objects(copy=False)`. To opt-in to the future behavior, set `pd.set_option('future.no_silent_downcasting', True)`\n",
            "  df['UNIT_DESC'] = df['UNIT_DESC'].replace('IN-HOUSE AGENT', 3)\n"
          ]
        }
      ]
    },
    {
      "cell_type": "code",
      "source": [
        "df"
      ],
      "metadata": {
        "id": "idUt6jDNrINc",
        "outputId": "e34884e4-e9cd-4aee-d7fe-7974ce48f58f",
        "colab": {
          "base_uri": "https://localhost:8080/",
          "height": 645
        }
      },
      "execution_count": 6,
      "outputs": [
        {
          "output_type": "execute_result",
          "data": {
            "text/plain": [
              "     chdrnum  UNIT_DESC  cownnum\n",
              "0   31503378          0   637084\n",
              "1   31362289          0   887918\n",
              "2   31380352          0   675582\n",
              "3   31380352          0   675582\n",
              "4   34881057          1  1299239\n",
              "5   34881235          1  1299598\n",
              "6   31380265          1   933179\n",
              "7   31380352          0   675582\n",
              "8   31380352          0   675582\n",
              "9   31380352          0   675582\n",
              "10  34881523          1  1294172\n",
              "11  34881523          1  1294172\n",
              "12  34951121          3   841044\n",
              "13  34951121          3   841044\n",
              "14  34951121          3   841044\n",
              "15  34951121          3   841044\n",
              "16  34951121          3   841044\n",
              "17  35511371          1  1049123\n",
              "18  35528224          0   942361"
            ],
            "text/html": [
              "\n",
              "  <div id=\"df-d88abdbb-cf3f-4da5-9ce3-1ae13b4d3e4a\" class=\"colab-df-container\">\n",
              "    <div>\n",
              "<style scoped>\n",
              "    .dataframe tbody tr th:only-of-type {\n",
              "        vertical-align: middle;\n",
              "    }\n",
              "\n",
              "    .dataframe tbody tr th {\n",
              "        vertical-align: top;\n",
              "    }\n",
              "\n",
              "    .dataframe thead th {\n",
              "        text-align: right;\n",
              "    }\n",
              "</style>\n",
              "<table border=\"1\" class=\"dataframe\">\n",
              "  <thead>\n",
              "    <tr style=\"text-align: right;\">\n",
              "      <th></th>\n",
              "      <th>chdrnum</th>\n",
              "      <th>UNIT_DESC</th>\n",
              "      <th>cownnum</th>\n",
              "    </tr>\n",
              "  </thead>\n",
              "  <tbody>\n",
              "    <tr>\n",
              "      <th>0</th>\n",
              "      <td>31503378</td>\n",
              "      <td>0</td>\n",
              "      <td>637084</td>\n",
              "    </tr>\n",
              "    <tr>\n",
              "      <th>1</th>\n",
              "      <td>31362289</td>\n",
              "      <td>0</td>\n",
              "      <td>887918</td>\n",
              "    </tr>\n",
              "    <tr>\n",
              "      <th>2</th>\n",
              "      <td>31380352</td>\n",
              "      <td>0</td>\n",
              "      <td>675582</td>\n",
              "    </tr>\n",
              "    <tr>\n",
              "      <th>3</th>\n",
              "      <td>31380352</td>\n",
              "      <td>0</td>\n",
              "      <td>675582</td>\n",
              "    </tr>\n",
              "    <tr>\n",
              "      <th>4</th>\n",
              "      <td>34881057</td>\n",
              "      <td>1</td>\n",
              "      <td>1299239</td>\n",
              "    </tr>\n",
              "    <tr>\n",
              "      <th>5</th>\n",
              "      <td>34881235</td>\n",
              "      <td>1</td>\n",
              "      <td>1299598</td>\n",
              "    </tr>\n",
              "    <tr>\n",
              "      <th>6</th>\n",
              "      <td>31380265</td>\n",
              "      <td>1</td>\n",
              "      <td>933179</td>\n",
              "    </tr>\n",
              "    <tr>\n",
              "      <th>7</th>\n",
              "      <td>31380352</td>\n",
              "      <td>0</td>\n",
              "      <td>675582</td>\n",
              "    </tr>\n",
              "    <tr>\n",
              "      <th>8</th>\n",
              "      <td>31380352</td>\n",
              "      <td>0</td>\n",
              "      <td>675582</td>\n",
              "    </tr>\n",
              "    <tr>\n",
              "      <th>9</th>\n",
              "      <td>31380352</td>\n",
              "      <td>0</td>\n",
              "      <td>675582</td>\n",
              "    </tr>\n",
              "    <tr>\n",
              "      <th>10</th>\n",
              "      <td>34881523</td>\n",
              "      <td>1</td>\n",
              "      <td>1294172</td>\n",
              "    </tr>\n",
              "    <tr>\n",
              "      <th>11</th>\n",
              "      <td>34881523</td>\n",
              "      <td>1</td>\n",
              "      <td>1294172</td>\n",
              "    </tr>\n",
              "    <tr>\n",
              "      <th>12</th>\n",
              "      <td>34951121</td>\n",
              "      <td>3</td>\n",
              "      <td>841044</td>\n",
              "    </tr>\n",
              "    <tr>\n",
              "      <th>13</th>\n",
              "      <td>34951121</td>\n",
              "      <td>3</td>\n",
              "      <td>841044</td>\n",
              "    </tr>\n",
              "    <tr>\n",
              "      <th>14</th>\n",
              "      <td>34951121</td>\n",
              "      <td>3</td>\n",
              "      <td>841044</td>\n",
              "    </tr>\n",
              "    <tr>\n",
              "      <th>15</th>\n",
              "      <td>34951121</td>\n",
              "      <td>3</td>\n",
              "      <td>841044</td>\n",
              "    </tr>\n",
              "    <tr>\n",
              "      <th>16</th>\n",
              "      <td>34951121</td>\n",
              "      <td>3</td>\n",
              "      <td>841044</td>\n",
              "    </tr>\n",
              "    <tr>\n",
              "      <th>17</th>\n",
              "      <td>35511371</td>\n",
              "      <td>1</td>\n",
              "      <td>1049123</td>\n",
              "    </tr>\n",
              "    <tr>\n",
              "      <th>18</th>\n",
              "      <td>35528224</td>\n",
              "      <td>0</td>\n",
              "      <td>942361</td>\n",
              "    </tr>\n",
              "  </tbody>\n",
              "</table>\n",
              "</div>\n",
              "    <div class=\"colab-df-buttons\">\n",
              "\n",
              "  <div class=\"colab-df-container\">\n",
              "    <button class=\"colab-df-convert\" onclick=\"convertToInteractive('df-d88abdbb-cf3f-4da5-9ce3-1ae13b4d3e4a')\"\n",
              "            title=\"Convert this dataframe to an interactive table.\"\n",
              "            style=\"display:none;\">\n",
              "\n",
              "  <svg xmlns=\"http://www.w3.org/2000/svg\" height=\"24px\" viewBox=\"0 -960 960 960\">\n",
              "    <path d=\"M120-120v-720h720v720H120Zm60-500h600v-160H180v160Zm220 220h160v-160H400v160Zm0 220h160v-160H400v160ZM180-400h160v-160H180v160Zm440 0h160v-160H620v160ZM180-180h160v-160H180v160Zm440 0h160v-160H620v160Z\"/>\n",
              "  </svg>\n",
              "    </button>\n",
              "\n",
              "  <style>\n",
              "    .colab-df-container {\n",
              "      display:flex;\n",
              "      gap: 12px;\n",
              "    }\n",
              "\n",
              "    .colab-df-convert {\n",
              "      background-color: #E8F0FE;\n",
              "      border: none;\n",
              "      border-radius: 50%;\n",
              "      cursor: pointer;\n",
              "      display: none;\n",
              "      fill: #1967D2;\n",
              "      height: 32px;\n",
              "      padding: 0 0 0 0;\n",
              "      width: 32px;\n",
              "    }\n",
              "\n",
              "    .colab-df-convert:hover {\n",
              "      background-color: #E2EBFA;\n",
              "      box-shadow: 0px 1px 2px rgba(60, 64, 67, 0.3), 0px 1px 3px 1px rgba(60, 64, 67, 0.15);\n",
              "      fill: #174EA6;\n",
              "    }\n",
              "\n",
              "    .colab-df-buttons div {\n",
              "      margin-bottom: 4px;\n",
              "    }\n",
              "\n",
              "    [theme=dark] .colab-df-convert {\n",
              "      background-color: #3B4455;\n",
              "      fill: #D2E3FC;\n",
              "    }\n",
              "\n",
              "    [theme=dark] .colab-df-convert:hover {\n",
              "      background-color: #434B5C;\n",
              "      box-shadow: 0px 1px 3px 1px rgba(0, 0, 0, 0.15);\n",
              "      filter: drop-shadow(0px 1px 2px rgba(0, 0, 0, 0.3));\n",
              "      fill: #FFFFFF;\n",
              "    }\n",
              "  </style>\n",
              "\n",
              "    <script>\n",
              "      const buttonEl =\n",
              "        document.querySelector('#df-d88abdbb-cf3f-4da5-9ce3-1ae13b4d3e4a button.colab-df-convert');\n",
              "      buttonEl.style.display =\n",
              "        google.colab.kernel.accessAllowed ? 'block' : 'none';\n",
              "\n",
              "      async function convertToInteractive(key) {\n",
              "        const element = document.querySelector('#df-d88abdbb-cf3f-4da5-9ce3-1ae13b4d3e4a');\n",
              "        const dataTable =\n",
              "          await google.colab.kernel.invokeFunction('convertToInteractive',\n",
              "                                                    [key], {});\n",
              "        if (!dataTable) return;\n",
              "\n",
              "        const docLinkHtml = 'Like what you see? Visit the ' +\n",
              "          '<a target=\"_blank\" href=https://colab.research.google.com/notebooks/data_table.ipynb>data table notebook</a>'\n",
              "          + ' to learn more about interactive tables.';\n",
              "        element.innerHTML = '';\n",
              "        dataTable['output_type'] = 'display_data';\n",
              "        await google.colab.output.renderOutput(dataTable, element);\n",
              "        const docLink = document.createElement('div');\n",
              "        docLink.innerHTML = docLinkHtml;\n",
              "        element.appendChild(docLink);\n",
              "      }\n",
              "    </script>\n",
              "  </div>\n",
              "\n",
              "\n",
              "<div id=\"df-08a0a81b-a366-45ff-8148-e83e8a5888ee\">\n",
              "  <button class=\"colab-df-quickchart\" onclick=\"quickchart('df-08a0a81b-a366-45ff-8148-e83e8a5888ee')\"\n",
              "            title=\"Suggest charts\"\n",
              "            style=\"display:none;\">\n",
              "\n",
              "<svg xmlns=\"http://www.w3.org/2000/svg\" height=\"24px\"viewBox=\"0 0 24 24\"\n",
              "     width=\"24px\">\n",
              "    <g>\n",
              "        <path d=\"M19 3H5c-1.1 0-2 .9-2 2v14c0 1.1.9 2 2 2h14c1.1 0 2-.9 2-2V5c0-1.1-.9-2-2-2zM9 17H7v-7h2v7zm4 0h-2V7h2v10zm4 0h-2v-4h2v4z\"/>\n",
              "    </g>\n",
              "</svg>\n",
              "  </button>\n",
              "\n",
              "<style>\n",
              "  .colab-df-quickchart {\n",
              "      --bg-color: #E8F0FE;\n",
              "      --fill-color: #1967D2;\n",
              "      --hover-bg-color: #E2EBFA;\n",
              "      --hover-fill-color: #174EA6;\n",
              "      --disabled-fill-color: #AAA;\n",
              "      --disabled-bg-color: #DDD;\n",
              "  }\n",
              "\n",
              "  [theme=dark] .colab-df-quickchart {\n",
              "      --bg-color: #3B4455;\n",
              "      --fill-color: #D2E3FC;\n",
              "      --hover-bg-color: #434B5C;\n",
              "      --hover-fill-color: #FFFFFF;\n",
              "      --disabled-bg-color: #3B4455;\n",
              "      --disabled-fill-color: #666;\n",
              "  }\n",
              "\n",
              "  .colab-df-quickchart {\n",
              "    background-color: var(--bg-color);\n",
              "    border: none;\n",
              "    border-radius: 50%;\n",
              "    cursor: pointer;\n",
              "    display: none;\n",
              "    fill: var(--fill-color);\n",
              "    height: 32px;\n",
              "    padding: 0;\n",
              "    width: 32px;\n",
              "  }\n",
              "\n",
              "  .colab-df-quickchart:hover {\n",
              "    background-color: var(--hover-bg-color);\n",
              "    box-shadow: 0 1px 2px rgba(60, 64, 67, 0.3), 0 1px 3px 1px rgba(60, 64, 67, 0.15);\n",
              "    fill: var(--button-hover-fill-color);\n",
              "  }\n",
              "\n",
              "  .colab-df-quickchart-complete:disabled,\n",
              "  .colab-df-quickchart-complete:disabled:hover {\n",
              "    background-color: var(--disabled-bg-color);\n",
              "    fill: var(--disabled-fill-color);\n",
              "    box-shadow: none;\n",
              "  }\n",
              "\n",
              "  .colab-df-spinner {\n",
              "    border: 2px solid var(--fill-color);\n",
              "    border-color: transparent;\n",
              "    border-bottom-color: var(--fill-color);\n",
              "    animation:\n",
              "      spin 1s steps(1) infinite;\n",
              "  }\n",
              "\n",
              "  @keyframes spin {\n",
              "    0% {\n",
              "      border-color: transparent;\n",
              "      border-bottom-color: var(--fill-color);\n",
              "      border-left-color: var(--fill-color);\n",
              "    }\n",
              "    20% {\n",
              "      border-color: transparent;\n",
              "      border-left-color: var(--fill-color);\n",
              "      border-top-color: var(--fill-color);\n",
              "    }\n",
              "    30% {\n",
              "      border-color: transparent;\n",
              "      border-left-color: var(--fill-color);\n",
              "      border-top-color: var(--fill-color);\n",
              "      border-right-color: var(--fill-color);\n",
              "    }\n",
              "    40% {\n",
              "      border-color: transparent;\n",
              "      border-right-color: var(--fill-color);\n",
              "      border-top-color: var(--fill-color);\n",
              "    }\n",
              "    60% {\n",
              "      border-color: transparent;\n",
              "      border-right-color: var(--fill-color);\n",
              "    }\n",
              "    80% {\n",
              "      border-color: transparent;\n",
              "      border-right-color: var(--fill-color);\n",
              "      border-bottom-color: var(--fill-color);\n",
              "    }\n",
              "    90% {\n",
              "      border-color: transparent;\n",
              "      border-bottom-color: var(--fill-color);\n",
              "    }\n",
              "  }\n",
              "</style>\n",
              "\n",
              "  <script>\n",
              "    async function quickchart(key) {\n",
              "      const quickchartButtonEl =\n",
              "        document.querySelector('#' + key + ' button');\n",
              "      quickchartButtonEl.disabled = true;  // To prevent multiple clicks.\n",
              "      quickchartButtonEl.classList.add('colab-df-spinner');\n",
              "      try {\n",
              "        const charts = await google.colab.kernel.invokeFunction(\n",
              "            'suggestCharts', [key], {});\n",
              "      } catch (error) {\n",
              "        console.error('Error during call to suggestCharts:', error);\n",
              "      }\n",
              "      quickchartButtonEl.classList.remove('colab-df-spinner');\n",
              "      quickchartButtonEl.classList.add('colab-df-quickchart-complete');\n",
              "    }\n",
              "    (() => {\n",
              "      let quickchartButtonEl =\n",
              "        document.querySelector('#df-08a0a81b-a366-45ff-8148-e83e8a5888ee button');\n",
              "      quickchartButtonEl.style.display =\n",
              "        google.colab.kernel.accessAllowed ? 'block' : 'none';\n",
              "    })();\n",
              "  </script>\n",
              "</div>\n",
              "\n",
              "  <div id=\"id_acb9d72d-810a-48bf-8b96-21b1459a740d\">\n",
              "    <style>\n",
              "      .colab-df-generate {\n",
              "        background-color: #E8F0FE;\n",
              "        border: none;\n",
              "        border-radius: 50%;\n",
              "        cursor: pointer;\n",
              "        display: none;\n",
              "        fill: #1967D2;\n",
              "        height: 32px;\n",
              "        padding: 0 0 0 0;\n",
              "        width: 32px;\n",
              "      }\n",
              "\n",
              "      .colab-df-generate:hover {\n",
              "        background-color: #E2EBFA;\n",
              "        box-shadow: 0px 1px 2px rgba(60, 64, 67, 0.3), 0px 1px 3px 1px rgba(60, 64, 67, 0.15);\n",
              "        fill: #174EA6;\n",
              "      }\n",
              "\n",
              "      [theme=dark] .colab-df-generate {\n",
              "        background-color: #3B4455;\n",
              "        fill: #D2E3FC;\n",
              "      }\n",
              "\n",
              "      [theme=dark] .colab-df-generate:hover {\n",
              "        background-color: #434B5C;\n",
              "        box-shadow: 0px 1px 3px 1px rgba(0, 0, 0, 0.15);\n",
              "        filter: drop-shadow(0px 1px 2px rgba(0, 0, 0, 0.3));\n",
              "        fill: #FFFFFF;\n",
              "      }\n",
              "    </style>\n",
              "    <button class=\"colab-df-generate\" onclick=\"generateWithVariable('df')\"\n",
              "            title=\"Generate code using this dataframe.\"\n",
              "            style=\"display:none;\">\n",
              "\n",
              "  <svg xmlns=\"http://www.w3.org/2000/svg\" height=\"24px\"viewBox=\"0 0 24 24\"\n",
              "       width=\"24px\">\n",
              "    <path d=\"M7,19H8.4L18.45,9,17,7.55,7,17.6ZM5,21V16.75L18.45,3.32a2,2,0,0,1,2.83,0l1.4,1.43a1.91,1.91,0,0,1,.58,1.4,1.91,1.91,0,0,1-.58,1.4L9.25,21ZM18.45,9,17,7.55Zm-12,3A5.31,5.31,0,0,0,4.9,8.1,5.31,5.31,0,0,0,1,6.5,5.31,5.31,0,0,0,4.9,4.9,5.31,5.31,0,0,0,6.5,1,5.31,5.31,0,0,0,8.1,4.9,5.31,5.31,0,0,0,12,6.5,5.46,5.46,0,0,0,6.5,12Z\"/>\n",
              "  </svg>\n",
              "    </button>\n",
              "    <script>\n",
              "      (() => {\n",
              "      const buttonEl =\n",
              "        document.querySelector('#id_acb9d72d-810a-48bf-8b96-21b1459a740d button.colab-df-generate');\n",
              "      buttonEl.style.display =\n",
              "        google.colab.kernel.accessAllowed ? 'block' : 'none';\n",
              "\n",
              "      buttonEl.onclick = () => {\n",
              "        google.colab.notebook.generateWithVariable('df');\n",
              "      }\n",
              "      })();\n",
              "    </script>\n",
              "  </div>\n",
              "\n",
              "    </div>\n",
              "  </div>\n"
            ],
            "application/vnd.google.colaboratory.intrinsic+json": {
              "type": "dataframe",
              "variable_name": "df",
              "summary": "{\n  \"name\": \"df\",\n  \"rows\": 19,\n  \"fields\": [\n    {\n      \"column\": \"chdrnum\",\n      \"properties\": {\n        \"dtype\": \"number\",\n        \"std\": 1853442,\n        \"min\": 31362289,\n        \"max\": 35528224,\n        \"num_unique_values\": 10,\n        \"samples\": [\n          35511371,\n          31362289,\n          31380265\n        ],\n        \"semantic_type\": \"\",\n        \"description\": \"\"\n      }\n    },\n    {\n      \"column\": \"UNIT_DESC\",\n      \"properties\": {\n        \"dtype\": \"number\",\n        \"std\": 1,\n        \"min\": 0,\n        \"max\": 3,\n        \"num_unique_values\": 3,\n        \"samples\": [\n          0,\n          1,\n          3\n        ],\n        \"semantic_type\": \"\",\n        \"description\": \"\"\n      }\n    },\n    {\n      \"column\": \"cownnum\",\n      \"properties\": {\n        \"dtype\": \"number\",\n        \"std\": 234835,\n        \"min\": 637084,\n        \"max\": 1299598,\n        \"num_unique_values\": 10,\n        \"samples\": [\n          1049123,\n          887918,\n          933179\n        ],\n        \"semantic_type\": \"\",\n        \"description\": \"\"\n      }\n    }\n  ]\n}"
            }
          },
          "metadata": {},
          "execution_count": 6
        }
      ]
    },
    {
      "cell_type": "code",
      "source": [
        "from sklearn import preprocessing"
      ],
      "metadata": {
        "id": "zHE43MT4WIe3"
      },
      "execution_count": 7,
      "outputs": []
    },
    {
      "cell_type": "code",
      "source": [
        "scaler = preprocessing.StandardScaler().fit(df)"
      ],
      "metadata": {
        "id": "QzZ51UZQV7t3"
      },
      "execution_count": 8,
      "outputs": []
    },
    {
      "cell_type": "code",
      "source": [
        "scaler.mean_ #ค่าเฉลี่ยของแต่ละพีเจอร์"
      ],
      "metadata": {
        "colab": {
          "base_uri": "https://localhost:8080/"
        },
        "id": "y9TTqzRWWNoB",
        "outputId": "ac00683f-5027-4a7f-bbcb-b68e5ebe2b53"
      },
      "execution_count": 9,
      "outputs": [
        {
          "output_type": "execute_result",
          "data": {
            "text/plain": [
              "array([3.34983279e+07, 1.10526316e+00, 9.06314526e+05])"
            ]
          },
          "metadata": {},
          "execution_count": 9
        }
      ]
    },
    {
      "cell_type": "code",
      "source": [
        "scaler.scale_ #ส่วนเบี่ยงเบนมาตรฐานแต่ละฟีเจอร์ คอลัม"
      ],
      "metadata": {
        "colab": {
          "base_uri": "https://localhost:8080/"
        },
        "id": "sZwhk3kFWYVP",
        "outputId": "a24e2d68-2a3d-43c8-89a6-b27f1167e63a"
      },
      "execution_count": 10,
      "outputs": [
        {
          "output_type": "execute_result",
          "data": {
            "text/plain": [
              "array([1.80400835e+06, 1.20938161e+00, 2.28571754e+05])"
            ]
          },
          "metadata": {},
          "execution_count": 10
        }
      ]
    },
    {
      "cell_type": "code",
      "source": [
        "# 3. สร้าง StandardScaler และทำการ fit กับข้อมูล\n",
        "scaler = StandardScaler()\n",
        "df_scaled = scaler.fit_transform(df)\n",
        "\n",
        "# 4. เปลี่ยนข้อมูลที่ถูก Standardized กลับเป็น DataFrame เพื่อให้ดูได้ง่าย\n",
        "df_scaled = pd.DataFrame(df_scaled, columns=df.columns)\n",
        "\n",
        "# 5. ดูข้อมูลหลังจากทำการ Standardization\n",
        "print(\"\\nStandardized Data:\")\n",
        "print(df_scaled)"
      ],
      "metadata": {
        "id": "BncRXsWdZtqG",
        "outputId": "5d637b52-ac09-4020-ff04-cfd0cb49f438",
        "colab": {
          "base_uri": "https://localhost:8080/"
        }
      },
      "execution_count": 11,
      "outputs": [
        {
          "output_type": "stream",
          "name": "stdout",
          "text": [
            "\n",
            "Standardized Data:\n",
            "     chdrnum  UNIT_DESC   cownnum\n",
            "0  -1.105843  -0.913908 -1.177882\n",
            "1  -1.184052  -0.913908 -0.080485\n",
            "2  -1.174039  -0.913908 -1.009453\n",
            "3  -1.174039  -0.913908 -1.009453\n",
            "4   0.766476  -0.087039  1.719042\n",
            "5   0.766575  -0.087039  1.720613\n",
            "6  -1.174087  -0.087039  0.117532\n",
            "7  -1.174039  -0.913908 -1.009453\n",
            "8  -1.174039  -0.913908 -1.009453\n",
            "9  -1.174039  -0.913908 -1.009453\n",
            "10  0.766734  -0.087039  1.696874\n",
            "11  0.766734  -0.087039  1.696874\n",
            "12  0.805314   1.566699 -0.285558\n",
            "13  0.805314   1.566699 -0.285558\n",
            "14  0.805314   1.566699 -0.285558\n",
            "15  0.805314   1.566699 -0.285558\n",
            "16  0.805314   1.566699 -0.285558\n",
            "17  1.115872  -0.087039  0.624786\n",
            "18  1.125214  -0.913908  0.157703\n"
          ]
        }
      ]
    },
    {
      "cell_type": "code",
      "source": [
        "# 3. สร้าง StandardScaler และทำการ fit กับข้อมูล\n",
        "scaler = StandardScaler()\n",
        "df_scaled = scaler.fit_transform(df)"
      ],
      "metadata": {
        "id": "0yZT6JMHZrj3"
      },
      "execution_count": 12,
      "outputs": []
    },
    {
      "cell_type": "code",
      "source": [
        "df_scaled"
      ],
      "metadata": {
        "colab": {
          "base_uri": "https://localhost:8080/"
        },
        "id": "kvSOdXe5a07e",
        "outputId": "f73bbf84-f9e1-431b-85c0-5d6371d8df74"
      },
      "execution_count": 13,
      "outputs": [
        {
          "output_type": "execute_result",
          "data": {
            "text/plain": [
              "array([[-1.10584294, -0.91390769, -1.17788187],\n",
              "       [-1.18405156, -0.91390769, -0.08048469],\n",
              "       [-1.17403886, -0.91390769, -1.00945336],\n",
              "       [-1.17403886, -0.91390769, -1.00945336],\n",
              "       [ 0.766476  , -0.08703883,  1.71904212],\n",
              "       [ 0.76657467, -0.08703883,  1.72061275],\n",
              "       [-1.17408708, -0.08703883,  0.1175319 ],\n",
              "       [-1.17403886, -0.91390769, -1.00945336],\n",
              "       [-1.17403886, -0.91390769, -1.00945336],\n",
              "       [-1.17403886, -0.91390769, -1.00945336],\n",
              "       [ 0.76673432, -0.08703883,  1.69687403],\n",
              "       [ 0.76673432, -0.08703883,  1.69687403],\n",
              "       [ 0.80531396,  1.5666989 , -0.28555815],\n",
              "       [ 0.80531396,  1.5666989 , -0.28555815],\n",
              "       [ 0.80531396,  1.5666989 , -0.28555815],\n",
              "       [ 0.80531396,  1.5666989 , -0.28555815],\n",
              "       [ 0.80531396,  1.5666989 , -0.28555815],\n",
              "       [ 1.11587239, -0.08703883,  0.62478618],\n",
              "       [ 1.12521436, -0.91390769,  0.1577031 ]])"
            ]
          },
          "metadata": {},
          "execution_count": 13
        }
      ]
    },
    {
      "cell_type": "code",
      "source": [
        "# สร้าง StandardScaler\n",
        "scaler = StandardScaler()\n",
        "\n",
        "# ทำการ fit และ transform ข้อมูล\n",
        "df_scaled = scaler.fit_transform(df)\n",
        "\n",
        "# แปลงข้อมูลให้เป็น DataFrame และตรวจสอบผล\n",
        "df_scaled = pd.DataFrame(df_scaled, columns=df.columns)"
      ],
      "metadata": {
        "id": "DfhNF5HObx8P"
      },
      "execution_count": 14,
      "outputs": []
    },
    {
      "cell_type": "code",
      "source": [
        "df.isna().sum()  # ดูว่ามีค่า NaN ในคอลัมน์ไหนบ้าง\n",
        "df = df.fillna(0)"
      ],
      "metadata": {
        "id": "3Dfr-_M7bMlu"
      },
      "execution_count": 15,
      "outputs": []
    },
    {
      "cell_type": "code",
      "source": [
        "df = df.fillna(df.mean())"
      ],
      "metadata": {
        "id": "mXpbYHDebYul"
      },
      "execution_count": 16,
      "outputs": []
    },
    {
      "cell_type": "code",
      "source": [
        "df_scaled.mean(axis=0) #ค่าไม่เป็น ?????????????????????????"
      ],
      "metadata": {
        "colab": {
          "base_uri": "https://localhost:8080/",
          "height": 178
        },
        "id": "EFxVaSmVZO1n",
        "outputId": "36f10de6-8e2e-41d7-fa96-2164f177ec3a"
      },
      "execution_count": 17,
      "outputs": [
        {
          "output_type": "execute_result",
          "data": {
            "text/plain": [
              "chdrnum      4.090295e-16\n",
              "UNIT_DESC   -8.764919e-17\n",
              "cownnum      1.913674e-16\n",
              "dtype: float64"
            ],
            "text/html": [
              "<div>\n",
              "<style scoped>\n",
              "    .dataframe tbody tr th:only-of-type {\n",
              "        vertical-align: middle;\n",
              "    }\n",
              "\n",
              "    .dataframe tbody tr th {\n",
              "        vertical-align: top;\n",
              "    }\n",
              "\n",
              "    .dataframe thead th {\n",
              "        text-align: right;\n",
              "    }\n",
              "</style>\n",
              "<table border=\"1\" class=\"dataframe\">\n",
              "  <thead>\n",
              "    <tr style=\"text-align: right;\">\n",
              "      <th></th>\n",
              "      <th>0</th>\n",
              "    </tr>\n",
              "  </thead>\n",
              "  <tbody>\n",
              "    <tr>\n",
              "      <th>chdrnum</th>\n",
              "      <td>4.090295e-16</td>\n",
              "    </tr>\n",
              "    <tr>\n",
              "      <th>UNIT_DESC</th>\n",
              "      <td>-8.764919e-17</td>\n",
              "    </tr>\n",
              "    <tr>\n",
              "      <th>cownnum</th>\n",
              "      <td>1.913674e-16</td>\n",
              "    </tr>\n",
              "  </tbody>\n",
              "</table>\n",
              "</div><br><label><b>dtype:</b> float64</label>"
            ]
          },
          "metadata": {},
          "execution_count": 17
        }
      ]
    },
    {
      "cell_type": "code",
      "source": [
        "df = df.select_dtypes(include=['float64', 'int64'])"
      ],
      "metadata": {
        "id": "_exu5uJibpam"
      },
      "execution_count": 18,
      "outputs": []
    },
    {
      "cell_type": "code",
      "source": [
        "df_scaled.std(axis=0)"
      ],
      "metadata": {
        "colab": {
          "base_uri": "https://localhost:8080/",
          "height": 178
        },
        "id": "kwq4ndGqZUxG",
        "outputId": "a507fed8-5693-4282-e02a-96b53b7ff1f9"
      },
      "execution_count": 19,
      "outputs": [
        {
          "output_type": "execute_result",
          "data": {
            "text/plain": [
              "chdrnum      1.027402\n",
              "UNIT_DESC    1.027402\n",
              "cownnum      1.027402\n",
              "dtype: float64"
            ],
            "text/html": [
              "<div>\n",
              "<style scoped>\n",
              "    .dataframe tbody tr th:only-of-type {\n",
              "        vertical-align: middle;\n",
              "    }\n",
              "\n",
              "    .dataframe tbody tr th {\n",
              "        vertical-align: top;\n",
              "    }\n",
              "\n",
              "    .dataframe thead th {\n",
              "        text-align: right;\n",
              "    }\n",
              "</style>\n",
              "<table border=\"1\" class=\"dataframe\">\n",
              "  <thead>\n",
              "    <tr style=\"text-align: right;\">\n",
              "      <th></th>\n",
              "      <th>0</th>\n",
              "    </tr>\n",
              "  </thead>\n",
              "  <tbody>\n",
              "    <tr>\n",
              "      <th>chdrnum</th>\n",
              "      <td>1.027402</td>\n",
              "    </tr>\n",
              "    <tr>\n",
              "      <th>UNIT_DESC</th>\n",
              "      <td>1.027402</td>\n",
              "    </tr>\n",
              "    <tr>\n",
              "      <th>cownnum</th>\n",
              "      <td>1.027402</td>\n",
              "    </tr>\n",
              "  </tbody>\n",
              "</table>\n",
              "</div><br><label><b>dtype:</b> float64</label>"
            ]
          },
          "metadata": {},
          "execution_count": 19
        }
      ]
    },
    {
      "cell_type": "code",
      "source": [
        "from sklearn.datasets import make_classification\n",
        "from sklearn.linear_model import LogisticRegression\n",
        "from sklearn.model_selection import train_test_split\n",
        "from sklearn.pipeline import make_pipeline\n",
        "from sklearn.preprocessing import StandardScaler\n",
        "from sklearn.pipeline import Pipeline\n",
        "\n",
        "#สร้างชุดข้อมูลจำลอง\n",
        "X, y = make_classification(random_state=42)\n",
        "#แบ่งออกเป็นชุดฝึกและทดสอบ\n",
        "X_train, X_test, y_train, y_test = train_test_split(X, y, random_state=42)\n",
        "#สร้าง Pipeline ที่ประกอบด้วยการปรับมาตรฐาน (StandardScaler) และการฝึก Logistic Regression\n",
        "pipe = make_pipeline(StandardScaler(), LogisticRegression())\n",
        "#ฝึก\n",
        "pipe.fit(X_train, y_train)  # apply scaling on training data\n",
        "Pipeline(steps=[('standardscaler', StandardScaler()),\n",
        "                ('logisticregression', LogisticRegression())])\n",
        "#ทำนาย\n",
        "pipe.score(X_test, y_test)  # apply scaling on testing data, without leaking training data เอาไว้ทดสอบความแม่นยำ\n"
      ],
      "metadata": {
        "colab": {
          "base_uri": "https://localhost:8080/"
        },
        "id": "JUwyXASxdZMp",
        "outputId": "9f275f05-9416-442c-d6be-dcb4a2c57937"
      },
      "execution_count": 20,
      "outputs": [
        {
          "output_type": "execute_result",
          "data": {
            "text/plain": [
              "0.96"
            ]
          },
          "metadata": {},
          "execution_count": 20
        }
      ]
    },
    {
      "cell_type": "code",
      "source": [
        "from sklearn.preprocessing import MinMaxScaler\n",
        "import numpy as np"
      ],
      "metadata": {
        "id": "HA_ggfZ632f5"
      },
      "execution_count": 21,
      "outputs": []
    },
    {
      "cell_type": "code",
      "source": [
        "min_max_scaler = MinMaxScaler()"
      ],
      "metadata": {
        "id": "S9lMuzoc4LCA"
      },
      "execution_count": 22,
      "outputs": []
    },
    {
      "cell_type": "code",
      "source": [
        "df_minmax = min_max_scaler.fit_transform(df)"
      ],
      "metadata": {
        "id": "fWDAyduq1GJR"
      },
      "execution_count": 23,
      "outputs": []
    },
    {
      "cell_type": "code",
      "source": [
        "print(df_minmax)"
      ],
      "metadata": {
        "id": "ZqRiMhPU4PSA",
        "outputId": "ff681643-dcb4-484b-bba5-610e4c888005",
        "colab": {
          "base_uri": "https://localhost:8080/"
        }
      },
      "execution_count": 24,
      "outputs": [
        {
          "output_type": "stream",
          "name": "stdout",
          "text": [
            "[[0.03386731 0.         0.        ]\n",
            " [0.         0.         0.37860936]\n",
            " [0.00433588 0.         0.05810896]\n",
            " [0.00433588 0.         0.05810896]\n",
            " [0.84465264 0.33333333 0.99945812]\n",
            " [0.84469537 0.33333333 1.        ]\n",
            " [0.004315   0.33333333 0.4469264 ]\n",
            " [0.00433588 0.         0.05810896]\n",
            " [0.00433588 0.         0.05810896]\n",
            " [0.00433588 0.         0.05810896]\n",
            " [0.8447645  0.33333333 0.99180998]\n",
            " [0.8447645  0.33333333 0.99180998]\n",
            " [0.86147095 1.         0.30785765]\n",
            " [0.86147095 1.         0.30785765]\n",
            " [0.86147095 1.         0.30785765]\n",
            " [0.86147095 1.         0.30785765]\n",
            " [0.86147095 1.         0.30785765]\n",
            " [0.99595457 0.33333333 0.62193252]\n",
            " [1.         0.         0.46078573]]\n"
          ]
        }
      ]
    },
    {
      "cell_type": "code",
      "source": [
        "x = df[['chdrnum', 'cownnum']]  # Features (ข้อมูลที่ใช้ในการฝึก)\n",
        "y = df['UNIT_DESC']  # Labels (ข้อมูลคำตอบ)"
      ],
      "metadata": {
        "id": "d3VZJnXf5fOY"
      },
      "execution_count": 25,
      "outputs": []
    },
    {
      "cell_type": "code",
      "source": [
        "print(\"จำนวนแถวใน DataFrame:\", df.shape)"
      ],
      "metadata": {
        "id": "zazl2asi6QkC",
        "outputId": "273b1a78-4ae1-43d8-a1e3-ab7a621adb5d",
        "colab": {
          "base_uri": "https://localhost:8080/"
        }
      },
      "execution_count": 26,
      "outputs": [
        {
          "output_type": "stream",
          "name": "stdout",
          "text": [
            "จำนวนแถวใน DataFrame: (19, 3)\n"
          ]
        }
      ]
    },
    {
      "cell_type": "code",
      "source": [
        "x = df[['chdrnum', 'cownnum']]  # Features (ข้อมูลที่ใช้ในการฝึก)\n",
        "y = df['UNIT_DESC']  # Labels (ข้อมูลคำตอบ)"
      ],
      "metadata": {
        "id": "qZXUHc1l6WYZ"
      },
      "execution_count": 27,
      "outputs": []
    },
    {
      "cell_type": "code",
      "source": [
        "print(\"Shape ของ x:\", x.shape)\n",
        "print(\"Shape ของ y:\", y.shape)"
      ],
      "metadata": {
        "id": "a6h0FgA06Ztf",
        "outputId": "60bbf6d4-f7f2-4f5d-98c7-08bfb719b3e0",
        "colab": {
          "base_uri": "https://localhost:8080/"
        }
      },
      "execution_count": 28,
      "outputs": [
        {
          "output_type": "stream",
          "name": "stdout",
          "text": [
            "Shape ของ x: (19, 2)\n",
            "Shape ของ y: (19,)\n"
          ]
        }
      ]
    },
    {
      "cell_type": "code",
      "source": [
        "df_cleaned = df.dropna()"
      ],
      "metadata": {
        "id": "lYHUehUO6v1_"
      },
      "execution_count": 29,
      "outputs": []
    },
    {
      "cell_type": "code",
      "source": [
        "x_train, x_test, y_train, y_test = train_test_split(x, y, test_size=0.2, random_state=42)"
      ],
      "metadata": {
        "id": "rtSLX5Xg5vH3"
      },
      "execution_count": 30,
      "outputs": []
    },
    {
      "cell_type": "markdown",
      "source": [
        "การปรับขนาดแบบ Normalization หรือ การปรับขนาดแบบ Min-Max"
      ],
      "metadata": {
        "id": "XJfRnpNn4_6Y"
      }
    },
    {
      "cell_type": "code",
      "source": [
        "min_max_scaler = MinMaxScaler()"
      ],
      "metadata": {
        "id": "C2fnVIv97D8X"
      },
      "execution_count": 31,
      "outputs": []
    },
    {
      "cell_type": "code",
      "source": [
        "x_train_minmax = min_max_scaler.fit_transform(x_train)"
      ],
      "metadata": {
        "id": "hoeKdW1f7M__"
      },
      "execution_count": 32,
      "outputs": []
    },
    {
      "cell_type": "code",
      "source": [
        "x_test_minmax = min_max_scaler.transform(x_test)"
      ],
      "metadata": {
        "id": "fGivBu4d7PkG"
      },
      "execution_count": 33,
      "outputs": []
    },
    {
      "cell_type": "code",
      "source": [
        "print(\"ข้อมูลที่ปรับขนาดแล้วใน x_train:\")\n",
        "print(x_train_minmax)\n",
        "\n",
        "print(\"ข้อมูลที่ปรับขนาดแล้วใน x_test:\")\n",
        "print(x_test_minmax)"
      ],
      "metadata": {
        "id": "i8Sg9TrL7Tz6",
        "outputId": "620dca07-fdac-4550-9750-002ce0b3d4b6",
        "colab": {
          "base_uri": "https://localhost:8080/"
        }
      },
      "execution_count": 34,
      "outputs": [
        {
          "output_type": "stream",
          "name": "stdout",
          "text": [
            "ข้อมูลที่ปรับขนาดแล้วใน x_train:\n",
            "[[2.09741707e-05 0.00000000e+00]\n",
            " [8.60870611e-01 2.65309297e-01]\n",
            " [2.09741707e-05 0.00000000e+00]\n",
            " [8.60870611e-01 2.65309297e-01]\n",
            " [8.60870611e-01 2.65309297e-01]\n",
            " [9.95937038e-01 5.98952629e-01]\n",
            " [2.09741707e-05 0.00000000e+00]\n",
            " [2.09741707e-05 0.00000000e+00]\n",
            " [1.00000000e+00 4.27765583e-01]\n",
            " [8.43979413e-01 1.00000000e+00]\n",
            " [8.60870611e-01 2.65309297e-01]\n",
            " [2.09741707e-05 0.00000000e+00]\n",
            " [8.44091757e-01 9.91875342e-01]\n",
            " [8.60870611e-01 2.65309297e-01]\n",
            " [0.00000000e+00 4.13042746e-01]]\n",
            "ข้อมูลที่ปรับขนาดแล้วใน x_test:\n",
            "[[ 0.02968038 -0.06172944]\n",
            " [ 0.84402233  1.00057564]\n",
            " [ 0.84409176  0.99187534]\n",
            " [-0.0043337   0.3404692 ]]\n"
          ]
        }
      ]
    },
    {
      "cell_type": "code",
      "source": [
        "min_max_scaler.scale_"
      ],
      "metadata": {
        "id": "L-iW7Zm_9zQ6",
        "outputId": "a48181c4-e23c-4a81-daf7-5c6cbb90b67a",
        "colab": {
          "base_uri": "https://localhost:8080/"
        }
      },
      "execution_count": 35,
      "outputs": [
        {
          "output_type": "execute_result",
          "data": {
            "text/plain": [
              "array([2.41082421e-07, 1.60344548e-06])"
            ]
          },
          "metadata": {},
          "execution_count": 35
        }
      ]
    },
    {
      "cell_type": "markdown",
      "source": [
        "การปรับขนาดที่ใช้ค่ามากสุดแบบสัมบูรณ์ (Maximum Absolute Value Scaling)"
      ],
      "metadata": {
        "id": "xXE3-0TI4zdh"
      }
    },
    {
      "cell_type": "code",
      "source": [
        "from sklearn import preprocessing"
      ],
      "metadata": {
        "id": "LijsOyBe1_vY"
      },
      "execution_count": 38,
      "outputs": []
    },
    {
      "cell_type": "code",
      "source": [
        "max_abs_scaler = preprocessing.MaxAbsScaler()"
      ],
      "metadata": {
        "id": "_93ECGz42Nf3"
      },
      "execution_count": 40,
      "outputs": []
    },
    {
      "cell_type": "code",
      "source": [
        "x_train_maxabs = max_abs_scaler.fit_transform(x_train)"
      ],
      "metadata": {
        "id": "wwAd5yfD2B1c"
      },
      "execution_count": 41,
      "outputs": []
    },
    {
      "cell_type": "code",
      "source": [
        "x_train_maxabs"
      ],
      "metadata": {
        "id": "p5YYhioB2ZFM",
        "outputId": "8abbee80-5328-4bdc-ae05-c4c8e29923d0",
        "colab": {
          "base_uri": "https://localhost:8080/"
        }
      },
      "execution_count": 42,
      "outputs": [
        {
          "output_type": "execute_result",
          "data": {
            "text/plain": [
              "array([[0.88325136, 0.51998285],\n",
              "       [0.98375649, 0.64733586],\n",
              "       [0.88325136, 0.51998285],\n",
              "       [0.98375649, 0.64733586],\n",
              "       [0.98375649, 0.64733586],\n",
              "       [0.99952564, 0.80749038],\n",
              "       [0.88325136, 0.51998285],\n",
              "       [0.88325136, 0.51998285],\n",
              "       [1.        , 0.72531767],\n",
              "       [0.98178443, 1.        ],\n",
              "       [0.98375649, 0.64733586],\n",
              "       [0.88325136, 0.51998285],\n",
              "       [0.98179754, 0.99610002],\n",
              "       [0.98375649, 0.64733586],\n",
              "       [0.88324891, 0.71825045]])"
            ]
          },
          "metadata": {},
          "execution_count": 42
        }
      ]
    },
    {
      "cell_type": "markdown",
      "source": [
        "การปรับขนาดแบบ Robust"
      ],
      "metadata": {
        "id": "yccm8jpq44-p"
      }
    },
    {
      "cell_type": "code",
      "source": [
        "from sklearn.preprocessing import RobustScaler"
      ],
      "metadata": {
        "id": "XpU6ePEM5HAx"
      },
      "execution_count": 43,
      "outputs": []
    },
    {
      "cell_type": "code",
      "source": [
        "scaler = RobustScaler()\n",
        "\n",
        "# ฟิตและแปลงข้อมูล\n",
        "x_scaled = scaler.fit_transform(x)\n",
        "\n",
        "# แสดงข้อมูลที่ถูกแปลง\n",
        "print(x_scaled)"
      ],
      "metadata": {
        "id": "KHa71B9x5KFN",
        "outputId": "aca3d249-b265-406b-c291-a5fa477dbab1",
        "colab": {
          "base_uri": "https://localhost:8080/"
        }
      },
      "execution_count": 44,
      "outputs": [
        {
          "output_type": "stream",
          "name": "stdout",
          "text": [
            "[[-9.45974663e-01 -6.37056472e-01]\n",
            " [-9.85486880e-01  1.46408046e-01]\n",
            " [-9.80428305e-01 -5.16810345e-01]\n",
            " [-9.80428305e-01 -5.16810345e-01]\n",
            " [-4.98492062e-05  1.43114380e+00]\n",
            " [ 0.00000000e+00  1.43226512e+00]\n",
            " [-9.80452670e-01  2.87777986e-01]\n",
            " [-9.80428305e-01 -5.16810345e-01]\n",
            " [-9.80428305e-01 -5.16810345e-01]\n",
            " [-9.80428305e-01 -5.16810345e-01]\n",
            " [ 8.06548953e-05  1.41531734e+00]\n",
            " [ 8.06548953e-05  1.41531734e+00]\n",
            " [ 1.95716945e-02  0.00000000e+00]\n",
            " [ 1.95716945e-02  0.00000000e+00]\n",
            " [ 1.95716945e-02  0.00000000e+00]\n",
            " [ 1.95716945e-02  0.00000000e+00]\n",
            " [ 1.95716945e-02  0.00000000e+00]\n",
            " [ 1.76470671e-01  6.49921914e-01]\n",
            " [ 1.81190382e-01  3.16457396e-01]]\n"
          ]
        }
      ]
    },
    {
      "cell_type": "markdown",
      "source": [
        "นำไฟล์ออก"
      ],
      "metadata": {
        "id": "17XCOqL9dZlW"
      }
    },
    {
      "cell_type": "code",
      "source": [
        "df.to_excel('D:\\output_file.xlsx', index=False)"
      ],
      "metadata": {
        "id": "IzyAQn2v0a2Z"
      },
      "execution_count": 36,
      "outputs": []
    }
  ]
}