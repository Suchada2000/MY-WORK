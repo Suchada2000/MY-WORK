{
  "nbformat": 4,
  "nbformat_minor": 0,
  "metadata": {
    "colab": {
      "provenance": [],
      "authorship_tag": "ABX9TyN6JuT+AT8dXN5eTaoVY3IN",
      "include_colab_link": true
    },
    "kernelspec": {
      "name": "python3",
      "display_name": "Python 3"
    },
    "language_info": {
      "name": "python"
    }
  },
  "cells": [
    {
      "cell_type": "markdown",
      "metadata": {
        "id": "view-in-github",
        "colab_type": "text"
      },
      "source": [
        "<a href=\"https://colab.research.google.com/github/Suchada2000/MY-WORK/blob/main/Untitled25.ipynb\" target=\"_parent\"><img src=\"https://colab.research.google.com/assets/colab-badge.svg\" alt=\"Open In Colab\"/></a>"
      ]
    },
    {
      "cell_type": "code",
      "source": [
        "exit()"
      ],
      "metadata": {
        "id": "PO0LxPjjvBy7"
      },
      "execution_count": 2,
      "outputs": []
    },
    {
      "cell_type": "code",
      "execution_count": null,
      "metadata": {
        "id": "iJDhcNZw7xLi"
      },
      "outputs": [],
      "source": [
        "pip install pandas scikit-learn openpyxl\n",
        "#pandas read excal\n",
        "#openpyxl อ่านไฟล์ excal\n",
        "#scikit-learn standardization"
      ]
    },
    {
      "cell_type": "code",
      "source": [
        "import pandas as pd\n",
        "from sklearn.preprocessing import StandardScaler\n",
        "\n",
        "# 1. อ่านข้อมูลจากไฟล์ Excel\n",
        "df = pd.read_excel(\"/content/sample_data/คลีน/Databaseใหม่.xlsx\")\n",
        "\n",
        "# 2. ดูข้อมูลใน DataFrame\n",
        "print(\"Original Data:\")\n",
        "print(df)"
      ],
      "metadata": {
        "colab": {
          "base_uri": "https://localhost:8080/"
        },
        "id": "yA-OYVx39EqU",
        "outputId": "bc2222b9-6e76-4dc9-fc2f-8317e7f1bf08"
      },
      "execution_count": 3,
      "outputs": [
        {
          "output_type": "stream",
          "name": "stdout",
          "text": [
            "Original Data:\n",
            "     chdrnum       UNIT_DESC  cownnum\n",
            "0   31503378          AGENCY   637084\n",
            "1   31362289          AGENCY   887918\n",
            "2   31380352          AGENCY   675582\n",
            "3   31380352          AGENCY   675582\n",
            "4   34881057          DIRECT  1299239\n",
            "5   34881235          DIRECT  1299598\n",
            "6   31380265          DIRECT   933179\n",
            "7   31380352          AGENCY   675582\n",
            "8   31380352          AGENCY   675582\n",
            "9   31380352          AGENCY   675582\n",
            "10  34881523          DIRECT  1294172\n",
            "11  34881523          DIRECT  1294172\n",
            "12  34951121  IN-HOUSE AGENT   841044\n",
            "13  34951121  IN-HOUSE AGENT   841044\n",
            "14  34951121  IN-HOUSE AGENT   841044\n",
            "15  34951121  IN-HOUSE AGENT   841044\n",
            "16  34951121  IN-HOUSE AGENT   841044\n",
            "17  35511371          DIRECT  1049123\n",
            "18  35528224          AGENCY   942361\n"
          ]
        }
      ]
    },
    {
      "cell_type": "code",
      "source": [
        "df"
      ],
      "metadata": {
        "colab": {
          "base_uri": "https://localhost:8080/",
          "height": 645
        },
        "id": "TYnndbneAnvC",
        "outputId": "4033d79e-f4a5-4ca6-f960-8959b7348172"
      },
      "execution_count": 7,
      "outputs": [
        {
          "output_type": "execute_result",
          "data": {
            "text/plain": [
              "     chdrnum  UNIT_DESC  cownnum\n",
              "0   31503378          0   637084\n",
              "1   31362289          0   887918\n",
              "2   31380352          0   675582\n",
              "3   31380352          0   675582\n",
              "4   34881057          1  1299239\n",
              "5   34881235          1  1299598\n",
              "6   31380265          1   933179\n",
              "7   31380352          0   675582\n",
              "8   31380352          0   675582\n",
              "9   31380352          0   675582\n",
              "10  34881523          1  1294172\n",
              "11  34881523          1  1294172\n",
              "12  34951121          3   841044\n",
              "13  34951121          3   841044\n",
              "14  34951121          3   841044\n",
              "15  34951121          3   841044\n",
              "16  34951121          3   841044\n",
              "17  35511371          1  1049123\n",
              "18  35528224          0   942361"
            ],
            "text/html": [
              "\n",
              "  <div id=\"df-b062188a-f381-466d-8436-ad8f0c62043e\" class=\"colab-df-container\">\n",
              "    <div>\n",
              "<style scoped>\n",
              "    .dataframe tbody tr th:only-of-type {\n",
              "        vertical-align: middle;\n",
              "    }\n",
              "\n",
              "    .dataframe tbody tr th {\n",
              "        vertical-align: top;\n",
              "    }\n",
              "\n",
              "    .dataframe thead th {\n",
              "        text-align: right;\n",
              "    }\n",
              "</style>\n",
              "<table border=\"1\" class=\"dataframe\">\n",
              "  <thead>\n",
              "    <tr style=\"text-align: right;\">\n",
              "      <th></th>\n",
              "      <th>chdrnum</th>\n",
              "      <th>UNIT_DESC</th>\n",
              "      <th>cownnum</th>\n",
              "    </tr>\n",
              "  </thead>\n",
              "  <tbody>\n",
              "    <tr>\n",
              "      <th>0</th>\n",
              "      <td>31503378</td>\n",
              "      <td>0</td>\n",
              "      <td>637084</td>\n",
              "    </tr>\n",
              "    <tr>\n",
              "      <th>1</th>\n",
              "      <td>31362289</td>\n",
              "      <td>0</td>\n",
              "      <td>887918</td>\n",
              "    </tr>\n",
              "    <tr>\n",
              "      <th>2</th>\n",
              "      <td>31380352</td>\n",
              "      <td>0</td>\n",
              "      <td>675582</td>\n",
              "    </tr>\n",
              "    <tr>\n",
              "      <th>3</th>\n",
              "      <td>31380352</td>\n",
              "      <td>0</td>\n",
              "      <td>675582</td>\n",
              "    </tr>\n",
              "    <tr>\n",
              "      <th>4</th>\n",
              "      <td>34881057</td>\n",
              "      <td>1</td>\n",
              "      <td>1299239</td>\n",
              "    </tr>\n",
              "    <tr>\n",
              "      <th>5</th>\n",
              "      <td>34881235</td>\n",
              "      <td>1</td>\n",
              "      <td>1299598</td>\n",
              "    </tr>\n",
              "    <tr>\n",
              "      <th>6</th>\n",
              "      <td>31380265</td>\n",
              "      <td>1</td>\n",
              "      <td>933179</td>\n",
              "    </tr>\n",
              "    <tr>\n",
              "      <th>7</th>\n",
              "      <td>31380352</td>\n",
              "      <td>0</td>\n",
              "      <td>675582</td>\n",
              "    </tr>\n",
              "    <tr>\n",
              "      <th>8</th>\n",
              "      <td>31380352</td>\n",
              "      <td>0</td>\n",
              "      <td>675582</td>\n",
              "    </tr>\n",
              "    <tr>\n",
              "      <th>9</th>\n",
              "      <td>31380352</td>\n",
              "      <td>0</td>\n",
              "      <td>675582</td>\n",
              "    </tr>\n",
              "    <tr>\n",
              "      <th>10</th>\n",
              "      <td>34881523</td>\n",
              "      <td>1</td>\n",
              "      <td>1294172</td>\n",
              "    </tr>\n",
              "    <tr>\n",
              "      <th>11</th>\n",
              "      <td>34881523</td>\n",
              "      <td>1</td>\n",
              "      <td>1294172</td>\n",
              "    </tr>\n",
              "    <tr>\n",
              "      <th>12</th>\n",
              "      <td>34951121</td>\n",
              "      <td>3</td>\n",
              "      <td>841044</td>\n",
              "    </tr>\n",
              "    <tr>\n",
              "      <th>13</th>\n",
              "      <td>34951121</td>\n",
              "      <td>3</td>\n",
              "      <td>841044</td>\n",
              "    </tr>\n",
              "    <tr>\n",
              "      <th>14</th>\n",
              "      <td>34951121</td>\n",
              "      <td>3</td>\n",
              "      <td>841044</td>\n",
              "    </tr>\n",
              "    <tr>\n",
              "      <th>15</th>\n",
              "      <td>34951121</td>\n",
              "      <td>3</td>\n",
              "      <td>841044</td>\n",
              "    </tr>\n",
              "    <tr>\n",
              "      <th>16</th>\n",
              "      <td>34951121</td>\n",
              "      <td>3</td>\n",
              "      <td>841044</td>\n",
              "    </tr>\n",
              "    <tr>\n",
              "      <th>17</th>\n",
              "      <td>35511371</td>\n",
              "      <td>1</td>\n",
              "      <td>1049123</td>\n",
              "    </tr>\n",
              "    <tr>\n",
              "      <th>18</th>\n",
              "      <td>35528224</td>\n",
              "      <td>0</td>\n",
              "      <td>942361</td>\n",
              "    </tr>\n",
              "  </tbody>\n",
              "</table>\n",
              "</div>\n",
              "    <div class=\"colab-df-buttons\">\n",
              "\n",
              "  <div class=\"colab-df-container\">\n",
              "    <button class=\"colab-df-convert\" onclick=\"convertToInteractive('df-b062188a-f381-466d-8436-ad8f0c62043e')\"\n",
              "            title=\"Convert this dataframe to an interactive table.\"\n",
              "            style=\"display:none;\">\n",
              "\n",
              "  <svg xmlns=\"http://www.w3.org/2000/svg\" height=\"24px\" viewBox=\"0 -960 960 960\">\n",
              "    <path d=\"M120-120v-720h720v720H120Zm60-500h600v-160H180v160Zm220 220h160v-160H400v160Zm0 220h160v-160H400v160ZM180-400h160v-160H180v160Zm440 0h160v-160H620v160ZM180-180h160v-160H180v160Zm440 0h160v-160H620v160Z\"/>\n",
              "  </svg>\n",
              "    </button>\n",
              "\n",
              "  <style>\n",
              "    .colab-df-container {\n",
              "      display:flex;\n",
              "      gap: 12px;\n",
              "    }\n",
              "\n",
              "    .colab-df-convert {\n",
              "      background-color: #E8F0FE;\n",
              "      border: none;\n",
              "      border-radius: 50%;\n",
              "      cursor: pointer;\n",
              "      display: none;\n",
              "      fill: #1967D2;\n",
              "      height: 32px;\n",
              "      padding: 0 0 0 0;\n",
              "      width: 32px;\n",
              "    }\n",
              "\n",
              "    .colab-df-convert:hover {\n",
              "      background-color: #E2EBFA;\n",
              "      box-shadow: 0px 1px 2px rgba(60, 64, 67, 0.3), 0px 1px 3px 1px rgba(60, 64, 67, 0.15);\n",
              "      fill: #174EA6;\n",
              "    }\n",
              "\n",
              "    .colab-df-buttons div {\n",
              "      margin-bottom: 4px;\n",
              "    }\n",
              "\n",
              "    [theme=dark] .colab-df-convert {\n",
              "      background-color: #3B4455;\n",
              "      fill: #D2E3FC;\n",
              "    }\n",
              "\n",
              "    [theme=dark] .colab-df-convert:hover {\n",
              "      background-color: #434B5C;\n",
              "      box-shadow: 0px 1px 3px 1px rgba(0, 0, 0, 0.15);\n",
              "      filter: drop-shadow(0px 1px 2px rgba(0, 0, 0, 0.3));\n",
              "      fill: #FFFFFF;\n",
              "    }\n",
              "  </style>\n",
              "\n",
              "    <script>\n",
              "      const buttonEl =\n",
              "        document.querySelector('#df-b062188a-f381-466d-8436-ad8f0c62043e button.colab-df-convert');\n",
              "      buttonEl.style.display =\n",
              "        google.colab.kernel.accessAllowed ? 'block' : 'none';\n",
              "\n",
              "      async function convertToInteractive(key) {\n",
              "        const element = document.querySelector('#df-b062188a-f381-466d-8436-ad8f0c62043e');\n",
              "        const dataTable =\n",
              "          await google.colab.kernel.invokeFunction('convertToInteractive',\n",
              "                                                    [key], {});\n",
              "        if (!dataTable) return;\n",
              "\n",
              "        const docLinkHtml = 'Like what you see? Visit the ' +\n",
              "          '<a target=\"_blank\" href=https://colab.research.google.com/notebooks/data_table.ipynb>data table notebook</a>'\n",
              "          + ' to learn more about interactive tables.';\n",
              "        element.innerHTML = '';\n",
              "        dataTable['output_type'] = 'display_data';\n",
              "        await google.colab.output.renderOutput(dataTable, element);\n",
              "        const docLink = document.createElement('div');\n",
              "        docLink.innerHTML = docLinkHtml;\n",
              "        element.appendChild(docLink);\n",
              "      }\n",
              "    </script>\n",
              "  </div>\n",
              "\n",
              "\n",
              "<div id=\"df-d02e317a-ae10-40a0-83b6-01cf0681e8b8\">\n",
              "  <button class=\"colab-df-quickchart\" onclick=\"quickchart('df-d02e317a-ae10-40a0-83b6-01cf0681e8b8')\"\n",
              "            title=\"Suggest charts\"\n",
              "            style=\"display:none;\">\n",
              "\n",
              "<svg xmlns=\"http://www.w3.org/2000/svg\" height=\"24px\"viewBox=\"0 0 24 24\"\n",
              "     width=\"24px\">\n",
              "    <g>\n",
              "        <path d=\"M19 3H5c-1.1 0-2 .9-2 2v14c0 1.1.9 2 2 2h14c1.1 0 2-.9 2-2V5c0-1.1-.9-2-2-2zM9 17H7v-7h2v7zm4 0h-2V7h2v10zm4 0h-2v-4h2v4z\"/>\n",
              "    </g>\n",
              "</svg>\n",
              "  </button>\n",
              "\n",
              "<style>\n",
              "  .colab-df-quickchart {\n",
              "      --bg-color: #E8F0FE;\n",
              "      --fill-color: #1967D2;\n",
              "      --hover-bg-color: #E2EBFA;\n",
              "      --hover-fill-color: #174EA6;\n",
              "      --disabled-fill-color: #AAA;\n",
              "      --disabled-bg-color: #DDD;\n",
              "  }\n",
              "\n",
              "  [theme=dark] .colab-df-quickchart {\n",
              "      --bg-color: #3B4455;\n",
              "      --fill-color: #D2E3FC;\n",
              "      --hover-bg-color: #434B5C;\n",
              "      --hover-fill-color: #FFFFFF;\n",
              "      --disabled-bg-color: #3B4455;\n",
              "      --disabled-fill-color: #666;\n",
              "  }\n",
              "\n",
              "  .colab-df-quickchart {\n",
              "    background-color: var(--bg-color);\n",
              "    border: none;\n",
              "    border-radius: 50%;\n",
              "    cursor: pointer;\n",
              "    display: none;\n",
              "    fill: var(--fill-color);\n",
              "    height: 32px;\n",
              "    padding: 0;\n",
              "    width: 32px;\n",
              "  }\n",
              "\n",
              "  .colab-df-quickchart:hover {\n",
              "    background-color: var(--hover-bg-color);\n",
              "    box-shadow: 0 1px 2px rgba(60, 64, 67, 0.3), 0 1px 3px 1px rgba(60, 64, 67, 0.15);\n",
              "    fill: var(--button-hover-fill-color);\n",
              "  }\n",
              "\n",
              "  .colab-df-quickchart-complete:disabled,\n",
              "  .colab-df-quickchart-complete:disabled:hover {\n",
              "    background-color: var(--disabled-bg-color);\n",
              "    fill: var(--disabled-fill-color);\n",
              "    box-shadow: none;\n",
              "  }\n",
              "\n",
              "  .colab-df-spinner {\n",
              "    border: 2px solid var(--fill-color);\n",
              "    border-color: transparent;\n",
              "    border-bottom-color: var(--fill-color);\n",
              "    animation:\n",
              "      spin 1s steps(1) infinite;\n",
              "  }\n",
              "\n",
              "  @keyframes spin {\n",
              "    0% {\n",
              "      border-color: transparent;\n",
              "      border-bottom-color: var(--fill-color);\n",
              "      border-left-color: var(--fill-color);\n",
              "    }\n",
              "    20% {\n",
              "      border-color: transparent;\n",
              "      border-left-color: var(--fill-color);\n",
              "      border-top-color: var(--fill-color);\n",
              "    }\n",
              "    30% {\n",
              "      border-color: transparent;\n",
              "      border-left-color: var(--fill-color);\n",
              "      border-top-color: var(--fill-color);\n",
              "      border-right-color: var(--fill-color);\n",
              "    }\n",
              "    40% {\n",
              "      border-color: transparent;\n",
              "      border-right-color: var(--fill-color);\n",
              "      border-top-color: var(--fill-color);\n",
              "    }\n",
              "    60% {\n",
              "      border-color: transparent;\n",
              "      border-right-color: var(--fill-color);\n",
              "    }\n",
              "    80% {\n",
              "      border-color: transparent;\n",
              "      border-right-color: var(--fill-color);\n",
              "      border-bottom-color: var(--fill-color);\n",
              "    }\n",
              "    90% {\n",
              "      border-color: transparent;\n",
              "      border-bottom-color: var(--fill-color);\n",
              "    }\n",
              "  }\n",
              "</style>\n",
              "\n",
              "  <script>\n",
              "    async function quickchart(key) {\n",
              "      const quickchartButtonEl =\n",
              "        document.querySelector('#' + key + ' button');\n",
              "      quickchartButtonEl.disabled = true;  // To prevent multiple clicks.\n",
              "      quickchartButtonEl.classList.add('colab-df-spinner');\n",
              "      try {\n",
              "        const charts = await google.colab.kernel.invokeFunction(\n",
              "            'suggestCharts', [key], {});\n",
              "      } catch (error) {\n",
              "        console.error('Error during call to suggestCharts:', error);\n",
              "      }\n",
              "      quickchartButtonEl.classList.remove('colab-df-spinner');\n",
              "      quickchartButtonEl.classList.add('colab-df-quickchart-complete');\n",
              "    }\n",
              "    (() => {\n",
              "      let quickchartButtonEl =\n",
              "        document.querySelector('#df-d02e317a-ae10-40a0-83b6-01cf0681e8b8 button');\n",
              "      quickchartButtonEl.style.display =\n",
              "        google.colab.kernel.accessAllowed ? 'block' : 'none';\n",
              "    })();\n",
              "  </script>\n",
              "</div>\n",
              "\n",
              "  <div id=\"id_32797ef4-db51-44a2-9051-fceb3898feae\">\n",
              "    <style>\n",
              "      .colab-df-generate {\n",
              "        background-color: #E8F0FE;\n",
              "        border: none;\n",
              "        border-radius: 50%;\n",
              "        cursor: pointer;\n",
              "        display: none;\n",
              "        fill: #1967D2;\n",
              "        height: 32px;\n",
              "        padding: 0 0 0 0;\n",
              "        width: 32px;\n",
              "      }\n",
              "\n",
              "      .colab-df-generate:hover {\n",
              "        background-color: #E2EBFA;\n",
              "        box-shadow: 0px 1px 2px rgba(60, 64, 67, 0.3), 0px 1px 3px 1px rgba(60, 64, 67, 0.15);\n",
              "        fill: #174EA6;\n",
              "      }\n",
              "\n",
              "      [theme=dark] .colab-df-generate {\n",
              "        background-color: #3B4455;\n",
              "        fill: #D2E3FC;\n",
              "      }\n",
              "\n",
              "      [theme=dark] .colab-df-generate:hover {\n",
              "        background-color: #434B5C;\n",
              "        box-shadow: 0px 1px 3px 1px rgba(0, 0, 0, 0.15);\n",
              "        filter: drop-shadow(0px 1px 2px rgba(0, 0, 0, 0.3));\n",
              "        fill: #FFFFFF;\n",
              "      }\n",
              "    </style>\n",
              "    <button class=\"colab-df-generate\" onclick=\"generateWithVariable('df')\"\n",
              "            title=\"Generate code using this dataframe.\"\n",
              "            style=\"display:none;\">\n",
              "\n",
              "  <svg xmlns=\"http://www.w3.org/2000/svg\" height=\"24px\"viewBox=\"0 0 24 24\"\n",
              "       width=\"24px\">\n",
              "    <path d=\"M7,19H8.4L18.45,9,17,7.55,7,17.6ZM5,21V16.75L18.45,3.32a2,2,0,0,1,2.83,0l1.4,1.43a1.91,1.91,0,0,1,.58,1.4,1.91,1.91,0,0,1-.58,1.4L9.25,21ZM18.45,9,17,7.55Zm-12,3A5.31,5.31,0,0,0,4.9,8.1,5.31,5.31,0,0,0,1,6.5,5.31,5.31,0,0,0,4.9,4.9,5.31,5.31,0,0,0,6.5,1,5.31,5.31,0,0,0,8.1,4.9,5.31,5.31,0,0,0,12,6.5,5.46,5.46,0,0,0,6.5,12Z\"/>\n",
              "  </svg>\n",
              "    </button>\n",
              "    <script>\n",
              "      (() => {\n",
              "      const buttonEl =\n",
              "        document.querySelector('#id_32797ef4-db51-44a2-9051-fceb3898feae button.colab-df-generate');\n",
              "      buttonEl.style.display =\n",
              "        google.colab.kernel.accessAllowed ? 'block' : 'none';\n",
              "\n",
              "      buttonEl.onclick = () => {\n",
              "        google.colab.notebook.generateWithVariable('df');\n",
              "      }\n",
              "      })();\n",
              "    </script>\n",
              "  </div>\n",
              "\n",
              "    </div>\n",
              "  </div>\n"
            ],
            "application/vnd.google.colaboratory.intrinsic+json": {
              "type": "dataframe",
              "variable_name": "df",
              "summary": "{\n  \"name\": \"df\",\n  \"rows\": 19,\n  \"fields\": [\n    {\n      \"column\": \"chdrnum\",\n      \"properties\": {\n        \"dtype\": \"number\",\n        \"std\": 1853442,\n        \"min\": 31362289,\n        \"max\": 35528224,\n        \"num_unique_values\": 10,\n        \"samples\": [\n          35511371,\n          31362289,\n          31380265\n        ],\n        \"semantic_type\": \"\",\n        \"description\": \"\"\n      }\n    },\n    {\n      \"column\": \"UNIT_DESC\",\n      \"properties\": {\n        \"dtype\": \"number\",\n        \"std\": 1,\n        \"min\": 0,\n        \"max\": 3,\n        \"num_unique_values\": 3,\n        \"samples\": [\n          0,\n          1,\n          3\n        ],\n        \"semantic_type\": \"\",\n        \"description\": \"\"\n      }\n    },\n    {\n      \"column\": \"cownnum\",\n      \"properties\": {\n        \"dtype\": \"number\",\n        \"std\": 234835,\n        \"min\": 637084,\n        \"max\": 1299598,\n        \"num_unique_values\": 10,\n        \"samples\": [\n          1049123,\n          887918,\n          933179\n        ],\n        \"semantic_type\": \"\",\n        \"description\": \"\"\n      }\n    }\n  ]\n}"
            }
          },
          "metadata": {},
          "execution_count": 7
        }
      ]
    },
    {
      "cell_type": "code",
      "source": [
        "df = pd.DataFrame(df)\n",
        "\n",
        "# แปลงคอลัมน์ 'Amount' เป็นตัวเลข โดยแปลงค่าที่ไม่สามารถแปลงเป็น NaN\n",
        "df['UNIT_DESC'] = df['UNIT_DESC'].replace('AGENCY', 0)\n",
        "df['UNIT_DESC'] = df['UNIT_DESC'].replace('DIRECT', 1)\n",
        "df['UNIT_DESC'] = df['UNIT_DESC'].replace('BROKER', 2)\n",
        "df['UNIT_DESC'] = df['UNIT_DESC'].replace('IN-HOUSE AGENT', 3)\n",
        "df['UNIT_DESC'] = df['UNIT_DESC'].replace('BANCASSURANCE', 4)\n",
        "\n",
        "# แสดงผลลัพธ์\n",
        "print(df)"
      ],
      "metadata": {
        "colab": {
          "base_uri": "https://localhost:8080/"
        },
        "id": "WjdvStvpDOMb",
        "outputId": "1cb0e3f0-5d3e-457f-9098-1b99adee4b4e"
      },
      "execution_count": 5,
      "outputs": [
        {
          "output_type": "stream",
          "name": "stdout",
          "text": [
            "     chdrnum  UNIT_DESC  cownnum\n",
            "0   31503378          0   637084\n",
            "1   31362289          0   887918\n",
            "2   31380352          0   675582\n",
            "3   31380352          0   675582\n",
            "4   34881057          1  1299239\n",
            "5   34881235          1  1299598\n",
            "6   31380265          1   933179\n",
            "7   31380352          0   675582\n",
            "8   31380352          0   675582\n",
            "9   31380352          0   675582\n",
            "10  34881523          1  1294172\n",
            "11  34881523          1  1294172\n",
            "12  34951121          3   841044\n",
            "13  34951121          3   841044\n",
            "14  34951121          3   841044\n",
            "15  34951121          3   841044\n",
            "16  34951121          3   841044\n",
            "17  35511371          1  1049123\n",
            "18  35528224          0   942361\n"
          ]
        },
        {
          "output_type": "stream",
          "name": "stderr",
          "text": [
            "<ipython-input-5-6546e0f749be>:7: FutureWarning: Downcasting behavior in `replace` is deprecated and will be removed in a future version. To retain the old behavior, explicitly call `result.infer_objects(copy=False)`. To opt-in to the future behavior, set `pd.set_option('future.no_silent_downcasting', True)`\n",
            "  df['UNIT_DESC'] = df['UNIT_DESC'].replace('IN-HOUSE AGENT', 3)\n"
          ]
        }
      ]
    },
    {
      "cell_type": "code",
      "source": [
        "from sklearn import preprocessing"
      ],
      "metadata": {
        "id": "zHE43MT4WIe3"
      },
      "execution_count": 9,
      "outputs": []
    },
    {
      "cell_type": "code",
      "source": [
        "scaler = preprocessing.StandardScaler().fit(df)"
      ],
      "metadata": {
        "id": "QzZ51UZQV7t3"
      },
      "execution_count": 10,
      "outputs": []
    },
    {
      "cell_type": "code",
      "source": [
        "scaler.mean_ #ค่าเฉลี่ยของแต่ละพีเจอร์"
      ],
      "metadata": {
        "colab": {
          "base_uri": "https://localhost:8080/"
        },
        "id": "y9TTqzRWWNoB",
        "outputId": "74245f21-4991-4f22-883b-dda1aa86f7dc"
      },
      "execution_count": 11,
      "outputs": [
        {
          "output_type": "execute_result",
          "data": {
            "text/plain": [
              "array([3.34983279e+07, 1.10526316e+00, 9.06314526e+05])"
            ]
          },
          "metadata": {},
          "execution_count": 11
        }
      ]
    },
    {
      "cell_type": "code",
      "source": [
        "scaler.scale_ #ส่วนเบี่ยงเบนมาตรฐานแต่ละฟีเจอร์ คอลัม"
      ],
      "metadata": {
        "colab": {
          "base_uri": "https://localhost:8080/"
        },
        "id": "sZwhk3kFWYVP",
        "outputId": "99d4d3fc-ea2a-4dc5-c6be-9f84a4549eba"
      },
      "execution_count": 12,
      "outputs": [
        {
          "output_type": "execute_result",
          "data": {
            "text/plain": [
              "array([1.80400835e+06, 1.20938161e+00, 2.28571754e+05])"
            ]
          },
          "metadata": {},
          "execution_count": 12
        }
      ]
    },
    {
      "cell_type": "code",
      "source": [
        "# 3. สร้าง StandardScaler และทำการ fit กับข้อมูล\n",
        "scaler = StandardScaler()\n",
        "df_scaled = scaler.fit_transform(df)\n",
        "\n",
        "# 4. เปลี่ยนข้อมูลที่ถูก Standardized กลับเป็น DataFrame เพื่อให้ดูได้ง่าย\n",
        "df_scaled = pd.DataFrame(df_scaled, columns=df.columns)\n",
        "\n",
        "# 5. ดูข้อมูลหลังจากทำการ Standardization\n",
        "print(\"\\nStandardized Data:\")\n",
        "print(df_scaled)"
      ],
      "metadata": {
        "id": "BncRXsWdZtqG"
      },
      "execution_count": null,
      "outputs": []
    },
    {
      "cell_type": "code",
      "source": [
        "# 3. สร้าง StandardScaler และทำการ fit กับข้อมูล\n",
        "scaler = StandardScaler()\n",
        "df_scaled = scaler.fit_transform(df)"
      ],
      "metadata": {
        "id": "0yZT6JMHZrj3"
      },
      "execution_count": 21,
      "outputs": []
    },
    {
      "cell_type": "code",
      "source": [
        "df_scaled"
      ],
      "metadata": {
        "colab": {
          "base_uri": "https://localhost:8080/"
        },
        "id": "kvSOdXe5a07e",
        "outputId": "ff66be78-9dd0-4106-b16f-18ac888b393a"
      },
      "execution_count": 22,
      "outputs": [
        {
          "output_type": "execute_result",
          "data": {
            "text/plain": [
              "array([[-1.10584294, -0.91390769, -1.17788187],\n",
              "       [-1.18405156, -0.91390769, -0.08048469],\n",
              "       [-1.17403886, -0.91390769, -1.00945336],\n",
              "       [-1.17403886, -0.91390769, -1.00945336],\n",
              "       [ 0.766476  , -0.08703883,  1.71904212],\n",
              "       [ 0.76657467, -0.08703883,  1.72061275],\n",
              "       [-1.17408708, -0.08703883,  0.1175319 ],\n",
              "       [-1.17403886, -0.91390769, -1.00945336],\n",
              "       [-1.17403886, -0.91390769, -1.00945336],\n",
              "       [-1.17403886, -0.91390769, -1.00945336],\n",
              "       [ 0.76673432, -0.08703883,  1.69687403],\n",
              "       [ 0.76673432, -0.08703883,  1.69687403],\n",
              "       [ 0.80531396,  1.5666989 , -0.28555815],\n",
              "       [ 0.80531396,  1.5666989 , -0.28555815],\n",
              "       [ 0.80531396,  1.5666989 , -0.28555815],\n",
              "       [ 0.80531396,  1.5666989 , -0.28555815],\n",
              "       [ 0.80531396,  1.5666989 , -0.28555815],\n",
              "       [ 1.11587239, -0.08703883,  0.62478618],\n",
              "       [ 1.12521436, -0.91390769,  0.1577031 ]])"
            ]
          },
          "metadata": {},
          "execution_count": 22
        }
      ]
    },
    {
      "cell_type": "code",
      "source": [
        "# สร้าง StandardScaler\n",
        "scaler = StandardScaler()\n",
        "\n",
        "# ทำการ fit และ transform ข้อมูล\n",
        "df_scaled = scaler.fit_transform(df)\n",
        "\n",
        "# แปลงข้อมูลให้เป็น DataFrame และตรวจสอบผล\n",
        "df_scaled = pd.DataFrame(df_scaled, columns=df.columns)"
      ],
      "metadata": {
        "id": "DfhNF5HObx8P"
      },
      "execution_count": 31,
      "outputs": []
    },
    {
      "cell_type": "code",
      "source": [
        "df.isna().sum()  # ดูว่ามีค่า NaN ในคอลัมน์ไหนบ้าง\n",
        "df = df.fillna(0)"
      ],
      "metadata": {
        "id": "3Dfr-_M7bMlu"
      },
      "execution_count": 26,
      "outputs": []
    },
    {
      "cell_type": "code",
      "source": [
        "df = df.fillna(df.mean())"
      ],
      "metadata": {
        "id": "mXpbYHDebYul"
      },
      "execution_count": 27,
      "outputs": []
    },
    {
      "cell_type": "code",
      "source": [
        "df_scaled.mean(axis=0) #ค่าไม่เป็น ?????????????????????????"
      ],
      "metadata": {
        "colab": {
          "base_uri": "https://localhost:8080/",
          "height": 178
        },
        "id": "EFxVaSmVZO1n",
        "outputId": "c7bd1cd3-519f-45d8-940c-b278f9a1b288"
      },
      "execution_count": 32,
      "outputs": [
        {
          "output_type": "execute_result",
          "data": {
            "text/plain": [
              "chdrnum      4.090295e-16\n",
              "UNIT_DESC   -8.764919e-17\n",
              "cownnum      1.913674e-16\n",
              "dtype: float64"
            ],
            "text/html": [
              "<div>\n",
              "<style scoped>\n",
              "    .dataframe tbody tr th:only-of-type {\n",
              "        vertical-align: middle;\n",
              "    }\n",
              "\n",
              "    .dataframe tbody tr th {\n",
              "        vertical-align: top;\n",
              "    }\n",
              "\n",
              "    .dataframe thead th {\n",
              "        text-align: right;\n",
              "    }\n",
              "</style>\n",
              "<table border=\"1\" class=\"dataframe\">\n",
              "  <thead>\n",
              "    <tr style=\"text-align: right;\">\n",
              "      <th></th>\n",
              "      <th>0</th>\n",
              "    </tr>\n",
              "  </thead>\n",
              "  <tbody>\n",
              "    <tr>\n",
              "      <th>chdrnum</th>\n",
              "      <td>4.090295e-16</td>\n",
              "    </tr>\n",
              "    <tr>\n",
              "      <th>UNIT_DESC</th>\n",
              "      <td>-8.764919e-17</td>\n",
              "    </tr>\n",
              "    <tr>\n",
              "      <th>cownnum</th>\n",
              "      <td>1.913674e-16</td>\n",
              "    </tr>\n",
              "  </tbody>\n",
              "</table>\n",
              "</div><br><label><b>dtype:</b> float64</label>"
            ]
          },
          "metadata": {},
          "execution_count": 32
        }
      ]
    },
    {
      "cell_type": "code",
      "source": [
        "df = df.select_dtypes(include=['float64', 'int64'])"
      ],
      "metadata": {
        "id": "_exu5uJibpam"
      },
      "execution_count": 29,
      "outputs": []
    },
    {
      "cell_type": "code",
      "source": [
        "df_scaled.std(axis=0)"
      ],
      "metadata": {
        "colab": {
          "base_uri": "https://localhost:8080/"
        },
        "id": "kwq4ndGqZUxG",
        "outputId": "ef352207-0790-430b-81b3-92f2cb127761"
      },
      "execution_count": 24,
      "outputs": [
        {
          "output_type": "execute_result",
          "data": {
            "text/plain": [
              "array([1., 1., 1.])"
            ]
          },
          "metadata": {},
          "execution_count": 24
        }
      ]
    },
    {
      "cell_type": "code",
      "source": [
        "from sklearn.datasets import make_classification\n",
        "from sklearn.linear_model import LogisticRegression\n",
        "from sklearn.model_selection import train_test_split\n",
        "from sklearn.pipeline import make_pipeline\n",
        "from sklearn.preprocessing import StandardScaler\n",
        "from sklearn.pipeline import Pipeline\n",
        "\n",
        "#สร้างชุดข้อมูลจำลอง\n",
        "X, y = make_classification(random_state=42)\n",
        "#แบ่งออกเป็นชุดฝึกและทดสอบ\n",
        "X_train, X_test, y_train, y_test = train_test_split(X, y, random_state=42)\n",
        "#สร้าง Pipeline ที่ประกอบด้วยการปรับมาตรฐาน (StandardScaler) และการฝึก Logistic Regression\n",
        "pipe = make_pipeline(StandardScaler(), LogisticRegression())\n",
        "#ฝึก\n",
        "pipe.fit(X_train, y_train)  # apply scaling on training data\n",
        "Pipeline(steps=[('standardscaler', StandardScaler()),\n",
        "                ('logisticregression', LogisticRegression())])\n",
        "#ทำนาย\n",
        "pipe.score(X_test, y_test)  # apply scaling on testing data, without leaking training data เอาไว้ทดสอบความแม่นยำ\n"
      ],
      "metadata": {
        "colab": {
          "base_uri": "https://localhost:8080/"
        },
        "id": "JUwyXASxdZMp",
        "outputId": "ca3642d8-09af-43d2-a40d-8141e278409b"
      },
      "execution_count": 38,
      "outputs": [
        {
          "output_type": "execute_result",
          "data": {
            "text/plain": [
              "0.96"
            ]
          },
          "metadata": {},
          "execution_count": 38
        }
      ]
    },
    {
      "cell_type": "markdown",
      "source": [
        "นำไฟล์ออก"
      ],
      "metadata": {
        "id": "17XCOqL9dZlW"
      }
    },
    {
      "cell_type": "code",
      "source": [
        "df.to_excel('D:\\output_file.xlsx', index=False)"
      ],
      "metadata": {
        "id": "IzyAQn2v0a2Z"
      },
      "execution_count": null,
      "outputs": []
    }
  ]
}