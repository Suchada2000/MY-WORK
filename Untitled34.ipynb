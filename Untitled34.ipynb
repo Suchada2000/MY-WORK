{
  "nbformat": 4,
  "nbformat_minor": 0,
  "metadata": {
    "colab": {
      "provenance": [],
      "authorship_tag": "ABX9TyNRgH+tJL/N49vrPH3ORCqA",
      "include_colab_link": true
    },
    "kernelspec": {
      "name": "python3",
      "display_name": "Python 3"
    },
    "language_info": {
      "name": "python"
    }
  },
  "cells": [
    {
      "cell_type": "markdown",
      "metadata": {
        "id": "view-in-github",
        "colab_type": "text"
      },
      "source": [
        "<a href=\"https://colab.research.google.com/github/Suchada2000/MY-WORK/blob/main/Untitled34.ipynb\" target=\"_parent\"><img src=\"https://colab.research.google.com/assets/colab-badge.svg\" alt=\"Open In Colab\"/></a>"
      ]
    },
    {
      "cell_type": "markdown",
      "source": [
        "NN"
      ],
      "metadata": {
        "id": "M3-t-MVwzvfe"
      }
    },
    {
      "cell_type": "code",
      "execution_count": 51,
      "metadata": {
        "colab": {
          "base_uri": "https://localhost:8080/"
        },
        "collapsed": true,
        "id": "87CEKWUAPcuC",
        "outputId": "94052047-cfc5-4eac-e5e2-d4e4068f598e"
      },
      "outputs": [
        {
          "output_type": "stream",
          "name": "stdout",
          "text": [
            "   Dummy ID  AGE  SEX                                       Occupation  \\\n",
            "0         1   40  NaN                                                    \n",
            "1         2   75  NaN  EMPLOYEE                                          \n",
            "2         3   33  NaN                                                    \n",
            "3         4   30  NaN                                                    \n",
            "4         5   50  NaN                                                    \n",
            "\n",
            "  Policy_Class                           Plan_  Premium             DATESALE  \\\n",
            "0          GDF  7U                                 80.0  2022-12-11 22:24:22   \n",
            "1          GDF  8Y                                160.0  2022-12-31 10:39:44   \n",
            "2          GDF  7ฉ                                100.0  2023-03-23 00:57:49   \n",
            "3          GDF  7ด                                180.0  2023-07-10 21:55:00   \n",
            "4          GDF  7ด                                180.0  2023-07-20 19:54:50   \n",
            "\n",
            "     INCDTE  ExpireDate    DATREP    DATOCC ReserveCode  \\\n",
            "0  20221231    20230101  20230711  20230101          VD   \n",
            "1  20230124    20230128  20230308  20230127          FD   \n",
            "2  20230323    20230324  20230329  20230323          FD   \n",
            "3  20230721    20230727  20230807  20230721          BD   \n",
            "4  20230725    20230730  20230803  20230725          BD   \n",
            "\n",
            "        ReseveDescription  GRS_OS  GRS_PAID     GIC  FNF  \n",
            "0      ค่ารักษาจากโควิค19     0.0       0.0     0.0    2  \n",
            "1   Flight Delay Coverage     0.0    2000.0  2000.0    1  \n",
            "2   Flight Delay Coverage     0.0    2000.0  2000.0    2  \n",
            "3  Baggage Delay Coverage     0.0       0.0     0.0    2  \n",
            "4  Baggage Delay Coverage     0.0    6000.0  6000.0    2  \n"
          ]
        }
      ],
      "source": [
        "import pandas as pd\n",
        "\n",
        "# อ่านข้อมูลจากไฟล์ Excel\n",
        "df = pd.read_excel('/content/sample_data/claim TA_ann (1).xlsx')\n",
        "\n",
        "# แสดงข้อมูลบางส่วนเพื่อดูว่าโหลดข้อมูลถูกต้อง\n",
        "print(df.head())\n"
      ]
    },
    {
      "cell_type": "markdown",
      "source": [
        "# นำข้อมูลเข้า คลีนข้อมูล"
      ],
      "metadata": {
        "id": "mVfw72O-xQ-T"
      }
    },
    {
      "cell_type": "code",
      "source": [
        "df.head()"
      ],
      "metadata": {
        "colab": {
          "base_uri": "https://localhost:8080/",
          "height": 310
        },
        "collapsed": true,
        "id": "TJ6wlTt-Q5DK",
        "outputId": "b41f0c21-18a5-459a-b8b6-f6fbc6b38134"
      },
      "execution_count": 52,
      "outputs": [
        {
          "output_type": "execute_result",
          "data": {
            "text/plain": [
              "   Dummy ID  AGE  SEX                                       Occupation  \\\n",
              "0         1   40  NaN                                                    \n",
              "1         2   75  NaN  EMPLOYEE                                          \n",
              "2         3   33  NaN                                                    \n",
              "3         4   30  NaN                                                    \n",
              "4         5   50  NaN                                                    \n",
              "\n",
              "  Policy_Class                           Plan_  Premium             DATESALE  \\\n",
              "0          GDF  7U                                 80.0  2022-12-11 22:24:22   \n",
              "1          GDF  8Y                                160.0  2022-12-31 10:39:44   \n",
              "2          GDF  7ฉ                                100.0  2023-03-23 00:57:49   \n",
              "3          GDF  7ด                                180.0  2023-07-10 21:55:00   \n",
              "4          GDF  7ด                                180.0  2023-07-20 19:54:50   \n",
              "\n",
              "     INCDTE  ExpireDate    DATREP    DATOCC ReserveCode  \\\n",
              "0  20221231    20230101  20230711  20230101          VD   \n",
              "1  20230124    20230128  20230308  20230127          FD   \n",
              "2  20230323    20230324  20230329  20230323          FD   \n",
              "3  20230721    20230727  20230807  20230721          BD   \n",
              "4  20230725    20230730  20230803  20230725          BD   \n",
              "\n",
              "        ReseveDescription  GRS_OS  GRS_PAID     GIC  FNF  \n",
              "0      ค่ารักษาจากโควิค19     0.0       0.0     0.0    2  \n",
              "1   Flight Delay Coverage     0.0    2000.0  2000.0    1  \n",
              "2   Flight Delay Coverage     0.0    2000.0  2000.0    2  \n",
              "3  Baggage Delay Coverage     0.0       0.0     0.0    2  \n",
              "4  Baggage Delay Coverage     0.0    6000.0  6000.0    2  "
            ],
            "text/html": [
              "\n",
              "  <div id=\"df-eb40038b-a529-49a5-98f6-7298b27c37fa\" class=\"colab-df-container\">\n",
              "    <div>\n",
              "<style scoped>\n",
              "    .dataframe tbody tr th:only-of-type {\n",
              "        vertical-align: middle;\n",
              "    }\n",
              "\n",
              "    .dataframe tbody tr th {\n",
              "        vertical-align: top;\n",
              "    }\n",
              "\n",
              "    .dataframe thead th {\n",
              "        text-align: right;\n",
              "    }\n",
              "</style>\n",
              "<table border=\"1\" class=\"dataframe\">\n",
              "  <thead>\n",
              "    <tr style=\"text-align: right;\">\n",
              "      <th></th>\n",
              "      <th>Dummy ID</th>\n",
              "      <th>AGE</th>\n",
              "      <th>SEX</th>\n",
              "      <th>Occupation</th>\n",
              "      <th>Policy_Class</th>\n",
              "      <th>Plan_</th>\n",
              "      <th>Premium</th>\n",
              "      <th>DATESALE</th>\n",
              "      <th>INCDTE</th>\n",
              "      <th>ExpireDate</th>\n",
              "      <th>DATREP</th>\n",
              "      <th>DATOCC</th>\n",
              "      <th>ReserveCode</th>\n",
              "      <th>ReseveDescription</th>\n",
              "      <th>GRS_OS</th>\n",
              "      <th>GRS_PAID</th>\n",
              "      <th>GIC</th>\n",
              "      <th>FNF</th>\n",
              "    </tr>\n",
              "  </thead>\n",
              "  <tbody>\n",
              "    <tr>\n",
              "      <th>0</th>\n",
              "      <td>1</td>\n",
              "      <td>40</td>\n",
              "      <td>NaN</td>\n",
              "      <td></td>\n",
              "      <td>GDF</td>\n",
              "      <td>7U</td>\n",
              "      <td>80.0</td>\n",
              "      <td>2022-12-11 22:24:22</td>\n",
              "      <td>20221231</td>\n",
              "      <td>20230101</td>\n",
              "      <td>20230711</td>\n",
              "      <td>20230101</td>\n",
              "      <td>VD</td>\n",
              "      <td>ค่ารักษาจากโควิค19</td>\n",
              "      <td>0.0</td>\n",
              "      <td>0.0</td>\n",
              "      <td>0.0</td>\n",
              "      <td>2</td>\n",
              "    </tr>\n",
              "    <tr>\n",
              "      <th>1</th>\n",
              "      <td>2</td>\n",
              "      <td>75</td>\n",
              "      <td>NaN</td>\n",
              "      <td>EMPLOYEE</td>\n",
              "      <td>GDF</td>\n",
              "      <td>8Y</td>\n",
              "      <td>160.0</td>\n",
              "      <td>2022-12-31 10:39:44</td>\n",
              "      <td>20230124</td>\n",
              "      <td>20230128</td>\n",
              "      <td>20230308</td>\n",
              "      <td>20230127</td>\n",
              "      <td>FD</td>\n",
              "      <td>Flight Delay Coverage</td>\n",
              "      <td>0.0</td>\n",
              "      <td>2000.0</td>\n",
              "      <td>2000.0</td>\n",
              "      <td>1</td>\n",
              "    </tr>\n",
              "    <tr>\n",
              "      <th>2</th>\n",
              "      <td>3</td>\n",
              "      <td>33</td>\n",
              "      <td>NaN</td>\n",
              "      <td></td>\n",
              "      <td>GDF</td>\n",
              "      <td>7ฉ</td>\n",
              "      <td>100.0</td>\n",
              "      <td>2023-03-23 00:57:49</td>\n",
              "      <td>20230323</td>\n",
              "      <td>20230324</td>\n",
              "      <td>20230329</td>\n",
              "      <td>20230323</td>\n",
              "      <td>FD</td>\n",
              "      <td>Flight Delay Coverage</td>\n",
              "      <td>0.0</td>\n",
              "      <td>2000.0</td>\n",
              "      <td>2000.0</td>\n",
              "      <td>2</td>\n",
              "    </tr>\n",
              "    <tr>\n",
              "      <th>3</th>\n",
              "      <td>4</td>\n",
              "      <td>30</td>\n",
              "      <td>NaN</td>\n",
              "      <td></td>\n",
              "      <td>GDF</td>\n",
              "      <td>7ด</td>\n",
              "      <td>180.0</td>\n",
              "      <td>2023-07-10 21:55:00</td>\n",
              "      <td>20230721</td>\n",
              "      <td>20230727</td>\n",
              "      <td>20230807</td>\n",
              "      <td>20230721</td>\n",
              "      <td>BD</td>\n",
              "      <td>Baggage Delay Coverage</td>\n",
              "      <td>0.0</td>\n",
              "      <td>0.0</td>\n",
              "      <td>0.0</td>\n",
              "      <td>2</td>\n",
              "    </tr>\n",
              "    <tr>\n",
              "      <th>4</th>\n",
              "      <td>5</td>\n",
              "      <td>50</td>\n",
              "      <td>NaN</td>\n",
              "      <td></td>\n",
              "      <td>GDF</td>\n",
              "      <td>7ด</td>\n",
              "      <td>180.0</td>\n",
              "      <td>2023-07-20 19:54:50</td>\n",
              "      <td>20230725</td>\n",
              "      <td>20230730</td>\n",
              "      <td>20230803</td>\n",
              "      <td>20230725</td>\n",
              "      <td>BD</td>\n",
              "      <td>Baggage Delay Coverage</td>\n",
              "      <td>0.0</td>\n",
              "      <td>6000.0</td>\n",
              "      <td>6000.0</td>\n",
              "      <td>2</td>\n",
              "    </tr>\n",
              "  </tbody>\n",
              "</table>\n",
              "</div>\n",
              "    <div class=\"colab-df-buttons\">\n",
              "\n",
              "  <div class=\"colab-df-container\">\n",
              "    <button class=\"colab-df-convert\" onclick=\"convertToInteractive('df-eb40038b-a529-49a5-98f6-7298b27c37fa')\"\n",
              "            title=\"Convert this dataframe to an interactive table.\"\n",
              "            style=\"display:none;\">\n",
              "\n",
              "  <svg xmlns=\"http://www.w3.org/2000/svg\" height=\"24px\" viewBox=\"0 -960 960 960\">\n",
              "    <path d=\"M120-120v-720h720v720H120Zm60-500h600v-160H180v160Zm220 220h160v-160H400v160Zm0 220h160v-160H400v160ZM180-400h160v-160H180v160Zm440 0h160v-160H620v160ZM180-180h160v-160H180v160Zm440 0h160v-160H620v160Z\"/>\n",
              "  </svg>\n",
              "    </button>\n",
              "\n",
              "  <style>\n",
              "    .colab-df-container {\n",
              "      display:flex;\n",
              "      gap: 12px;\n",
              "    }\n",
              "\n",
              "    .colab-df-convert {\n",
              "      background-color: #E8F0FE;\n",
              "      border: none;\n",
              "      border-radius: 50%;\n",
              "      cursor: pointer;\n",
              "      display: none;\n",
              "      fill: #1967D2;\n",
              "      height: 32px;\n",
              "      padding: 0 0 0 0;\n",
              "      width: 32px;\n",
              "    }\n",
              "\n",
              "    .colab-df-convert:hover {\n",
              "      background-color: #E2EBFA;\n",
              "      box-shadow: 0px 1px 2px rgba(60, 64, 67, 0.3), 0px 1px 3px 1px rgba(60, 64, 67, 0.15);\n",
              "      fill: #174EA6;\n",
              "    }\n",
              "\n",
              "    .colab-df-buttons div {\n",
              "      margin-bottom: 4px;\n",
              "    }\n",
              "\n",
              "    [theme=dark] .colab-df-convert {\n",
              "      background-color: #3B4455;\n",
              "      fill: #D2E3FC;\n",
              "    }\n",
              "\n",
              "    [theme=dark] .colab-df-convert:hover {\n",
              "      background-color: #434B5C;\n",
              "      box-shadow: 0px 1px 3px 1px rgba(0, 0, 0, 0.15);\n",
              "      filter: drop-shadow(0px 1px 2px rgba(0, 0, 0, 0.3));\n",
              "      fill: #FFFFFF;\n",
              "    }\n",
              "  </style>\n",
              "\n",
              "    <script>\n",
              "      const buttonEl =\n",
              "        document.querySelector('#df-eb40038b-a529-49a5-98f6-7298b27c37fa button.colab-df-convert');\n",
              "      buttonEl.style.display =\n",
              "        google.colab.kernel.accessAllowed ? 'block' : 'none';\n",
              "\n",
              "      async function convertToInteractive(key) {\n",
              "        const element = document.querySelector('#df-eb40038b-a529-49a5-98f6-7298b27c37fa');\n",
              "        const dataTable =\n",
              "          await google.colab.kernel.invokeFunction('convertToInteractive',\n",
              "                                                    [key], {});\n",
              "        if (!dataTable) return;\n",
              "\n",
              "        const docLinkHtml = 'Like what you see? Visit the ' +\n",
              "          '<a target=\"_blank\" href=https://colab.research.google.com/notebooks/data_table.ipynb>data table notebook</a>'\n",
              "          + ' to learn more about interactive tables.';\n",
              "        element.innerHTML = '';\n",
              "        dataTable['output_type'] = 'display_data';\n",
              "        await google.colab.output.renderOutput(dataTable, element);\n",
              "        const docLink = document.createElement('div');\n",
              "        docLink.innerHTML = docLinkHtml;\n",
              "        element.appendChild(docLink);\n",
              "      }\n",
              "    </script>\n",
              "  </div>\n",
              "\n",
              "\n",
              "<div id=\"df-759b06a9-d0d3-44ec-b3eb-18024a8b90b2\">\n",
              "  <button class=\"colab-df-quickchart\" onclick=\"quickchart('df-759b06a9-d0d3-44ec-b3eb-18024a8b90b2')\"\n",
              "            title=\"Suggest charts\"\n",
              "            style=\"display:none;\">\n",
              "\n",
              "<svg xmlns=\"http://www.w3.org/2000/svg\" height=\"24px\"viewBox=\"0 0 24 24\"\n",
              "     width=\"24px\">\n",
              "    <g>\n",
              "        <path d=\"M19 3H5c-1.1 0-2 .9-2 2v14c0 1.1.9 2 2 2h14c1.1 0 2-.9 2-2V5c0-1.1-.9-2-2-2zM9 17H7v-7h2v7zm4 0h-2V7h2v10zm4 0h-2v-4h2v4z\"/>\n",
              "    </g>\n",
              "</svg>\n",
              "  </button>\n",
              "\n",
              "<style>\n",
              "  .colab-df-quickchart {\n",
              "      --bg-color: #E8F0FE;\n",
              "      --fill-color: #1967D2;\n",
              "      --hover-bg-color: #E2EBFA;\n",
              "      --hover-fill-color: #174EA6;\n",
              "      --disabled-fill-color: #AAA;\n",
              "      --disabled-bg-color: #DDD;\n",
              "  }\n",
              "\n",
              "  [theme=dark] .colab-df-quickchart {\n",
              "      --bg-color: #3B4455;\n",
              "      --fill-color: #D2E3FC;\n",
              "      --hover-bg-color: #434B5C;\n",
              "      --hover-fill-color: #FFFFFF;\n",
              "      --disabled-bg-color: #3B4455;\n",
              "      --disabled-fill-color: #666;\n",
              "  }\n",
              "\n",
              "  .colab-df-quickchart {\n",
              "    background-color: var(--bg-color);\n",
              "    border: none;\n",
              "    border-radius: 50%;\n",
              "    cursor: pointer;\n",
              "    display: none;\n",
              "    fill: var(--fill-color);\n",
              "    height: 32px;\n",
              "    padding: 0;\n",
              "    width: 32px;\n",
              "  }\n",
              "\n",
              "  .colab-df-quickchart:hover {\n",
              "    background-color: var(--hover-bg-color);\n",
              "    box-shadow: 0 1px 2px rgba(60, 64, 67, 0.3), 0 1px 3px 1px rgba(60, 64, 67, 0.15);\n",
              "    fill: var(--button-hover-fill-color);\n",
              "  }\n",
              "\n",
              "  .colab-df-quickchart-complete:disabled,\n",
              "  .colab-df-quickchart-complete:disabled:hover {\n",
              "    background-color: var(--disabled-bg-color);\n",
              "    fill: var(--disabled-fill-color);\n",
              "    box-shadow: none;\n",
              "  }\n",
              "\n",
              "  .colab-df-spinner {\n",
              "    border: 2px solid var(--fill-color);\n",
              "    border-color: transparent;\n",
              "    border-bottom-color: var(--fill-color);\n",
              "    animation:\n",
              "      spin 1s steps(1) infinite;\n",
              "  }\n",
              "\n",
              "  @keyframes spin {\n",
              "    0% {\n",
              "      border-color: transparent;\n",
              "      border-bottom-color: var(--fill-color);\n",
              "      border-left-color: var(--fill-color);\n",
              "    }\n",
              "    20% {\n",
              "      border-color: transparent;\n",
              "      border-left-color: var(--fill-color);\n",
              "      border-top-color: var(--fill-color);\n",
              "    }\n",
              "    30% {\n",
              "      border-color: transparent;\n",
              "      border-left-color: var(--fill-color);\n",
              "      border-top-color: var(--fill-color);\n",
              "      border-right-color: var(--fill-color);\n",
              "    }\n",
              "    40% {\n",
              "      border-color: transparent;\n",
              "      border-right-color: var(--fill-color);\n",
              "      border-top-color: var(--fill-color);\n",
              "    }\n",
              "    60% {\n",
              "      border-color: transparent;\n",
              "      border-right-color: var(--fill-color);\n",
              "    }\n",
              "    80% {\n",
              "      border-color: transparent;\n",
              "      border-right-color: var(--fill-color);\n",
              "      border-bottom-color: var(--fill-color);\n",
              "    }\n",
              "    90% {\n",
              "      border-color: transparent;\n",
              "      border-bottom-color: var(--fill-color);\n",
              "    }\n",
              "  }\n",
              "</style>\n",
              "\n",
              "  <script>\n",
              "    async function quickchart(key) {\n",
              "      const quickchartButtonEl =\n",
              "        document.querySelector('#' + key + ' button');\n",
              "      quickchartButtonEl.disabled = true;  // To prevent multiple clicks.\n",
              "      quickchartButtonEl.classList.add('colab-df-spinner');\n",
              "      try {\n",
              "        const charts = await google.colab.kernel.invokeFunction(\n",
              "            'suggestCharts', [key], {});\n",
              "      } catch (error) {\n",
              "        console.error('Error during call to suggestCharts:', error);\n",
              "      }\n",
              "      quickchartButtonEl.classList.remove('colab-df-spinner');\n",
              "      quickchartButtonEl.classList.add('colab-df-quickchart-complete');\n",
              "    }\n",
              "    (() => {\n",
              "      let quickchartButtonEl =\n",
              "        document.querySelector('#df-759b06a9-d0d3-44ec-b3eb-18024a8b90b2 button');\n",
              "      quickchartButtonEl.style.display =\n",
              "        google.colab.kernel.accessAllowed ? 'block' : 'none';\n",
              "    })();\n",
              "  </script>\n",
              "</div>\n",
              "\n",
              "    </div>\n",
              "  </div>\n"
            ],
            "application/vnd.google.colaboratory.intrinsic+json": {
              "type": "dataframe",
              "variable_name": "df",
              "summary": "{\n  \"name\": \"df\",\n  \"rows\": 33069,\n  \"fields\": [\n    {\n      \"column\": \"Dummy ID\",\n      \"properties\": {\n        \"dtype\": \"number\",\n        \"std\": 10069,\n        \"min\": 1,\n        \"max\": 34538,\n        \"num_unique_values\": 33069,\n        \"samples\": [\n          23333,\n          24575,\n          3607\n        ],\n        \"semantic_type\": \"\",\n        \"description\": \"\"\n      }\n    },\n    {\n      \"column\": \"AGE\",\n      \"properties\": {\n        \"dtype\": \"number\",\n        \"std\": 16,\n        \"min\": 0,\n        \"max\": 84,\n        \"num_unique_values\": 84,\n        \"samples\": [\n          15,\n          40,\n          42\n        ],\n        \"semantic_type\": \"\",\n        \"description\": \"\"\n      }\n    },\n    {\n      \"column\": \"SEX\",\n      \"properties\": {\n        \"dtype\": \"category\",\n        \"num_unique_values\": 3,\n        \"samples\": [\n          \"F\",\n          \"M\",\n          \" \"\n        ],\n        \"semantic_type\": \"\",\n        \"description\": \"\"\n      }\n    },\n    {\n      \"column\": \"Occupation\",\n      \"properties\": {\n        \"dtype\": \"category\",\n        \"num_unique_values\": 347,\n        \"samples\": [\n          1100400402111,\n          1659902069773,\n          1100600443237\n        ],\n        \"semantic_type\": \"\",\n        \"description\": \"\"\n      }\n    },\n    {\n      \"column\": \"Policy_Class\",\n      \"properties\": {\n        \"dtype\": \"category\",\n        \"num_unique_values\": 28,\n        \"samples\": [\n          \"GTU\",\n          \"PAT\",\n          \"PTU\"\n        ],\n        \"semantic_type\": \"\",\n        \"description\": \"\"\n      }\n    },\n    {\n      \"column\": \"Plan_\",\n      \"properties\": {\n        \"dtype\": \"category\",\n        \"num_unique_values\": 160,\n        \"samples\": [\n          \"YF                            \",\n          \"YJ                            \",\n          \"TGW                           \"\n        ],\n        \"semantic_type\": \"\",\n        \"description\": \"\"\n      }\n    },\n    {\n      \"column\": \"Premium\",\n      \"properties\": {\n        \"dtype\": \"number\",\n        \"std\": 185615.12888551358,\n        \"min\": 0.0,\n        \"max\": 4399980.0,\n        \"num_unique_values\": 1981,\n        \"samples\": [\n          5743.0,\n          3378.4,\n          521.25\n        ],\n        \"semantic_type\": \"\",\n        \"description\": \"\"\n      }\n    },\n    {\n      \"column\": \"DATESALE\",\n      \"properties\": {\n        \"dtype\": \"string\",\n        \"num_unique_values\": 20354,\n        \"samples\": [\n          \"2024-02-02 16:13:27\",\n          \"2024-01-22 14:15:28\",\n          \"2024-10-17 19:01:52\"\n        ],\n        \"semantic_type\": \"\",\n        \"description\": \"\"\n      }\n    },\n    {\n      \"column\": \"INCDTE\",\n      \"properties\": {\n        \"dtype\": \"number\",\n        \"std\": 5720,\n        \"min\": 20210715,\n        \"max\": 20250212,\n        \"num_unique_values\": 976,\n        \"samples\": [\n          20240717,\n          20240203,\n          20241125\n        ],\n        \"semantic_type\": \"\",\n        \"description\": \"\"\n      }\n    },\n    {\n      \"column\": \"ExpireDate\",\n      \"properties\": {\n        \"dtype\": \"number\",\n        \"std\": 6000,\n        \"min\": 20230101,\n        \"max\": 20261212,\n        \"num_unique_values\": 1064,\n        \"samples\": [\n          20231126,\n          20250701,\n          20240510\n        ],\n        \"semantic_type\": \"\",\n        \"description\": \"\"\n      }\n    },\n    {\n      \"column\": \"DATREP\",\n      \"properties\": {\n        \"dtype\": \"number\",\n        \"std\": 5502,\n        \"min\": 20230103,\n        \"max\": 20250129,\n        \"num_unique_values\": 538,\n        \"samples\": [\n          20230703,\n          20241028,\n          20230623\n        ],\n        \"semantic_type\": \"\",\n        \"description\": \"\"\n      }\n    },\n    {\n      \"column\": \"DATOCC\",\n      \"properties\": {\n        \"dtype\": \"number\",\n        \"std\": 5196,\n        \"min\": 20230101,\n        \"max\": 20250212,\n        \"num_unique_values\": 754,\n        \"samples\": [\n          20240617,\n          20230704,\n          20230220\n        ],\n        \"semantic_type\": \"\",\n        \"description\": \"\"\n      }\n    },\n    {\n      \"column\": \"ReserveCode\",\n      \"properties\": {\n        \"dtype\": \"category\",\n        \"num_unique_values\": 50,\n        \"samples\": [\n          \"RM\",\n          \"03\",\n          \"DE\"\n        ],\n        \"semantic_type\": \"\",\n        \"description\": \"\"\n      }\n    },\n    {\n      \"column\": \"ReseveDescription\",\n      \"properties\": {\n        \"dtype\": \"category\",\n        \"num_unique_values\": 46,\n        \"samples\": [\n          \"\\u0e1b\\u0e25\\u0e07\\u0e28\\u0e1e\\u0e08\\u0e32\\u0e01\\u0e2d\\u0e38\\u0e1a\\u0e31\\u0e15\\u0e34\\u0e40\\u0e2b\\u0e15\\u0e38\\u0e43\\u0e19\\u0e1b\\u0e23\\u0e30\\u0e40\\u0e17\\u0e28\\u0e44\\u0e17\\u0e22\",\n          \"Medical from Covid-19\",\n          \"Emergency Evacuation\"\n        ],\n        \"semantic_type\": \"\",\n        \"description\": \"\"\n      }\n    },\n    {\n      \"column\": \"GRS_OS\",\n      \"properties\": {\n        \"dtype\": \"number\",\n        \"std\": 33315.4567699424,\n        \"min\": 0.0,\n        \"max\": 2462337.91,\n        \"num_unique_values\": 360,\n        \"samples\": [\n          3099.0,\n          2500.0,\n          4327.62\n        ],\n        \"semantic_type\": \"\",\n        \"description\": \"\"\n      }\n    },\n    {\n      \"column\": \"GRS_PAID\",\n      \"properties\": {\n        \"dtype\": \"number\",\n        \"std\": 55658.32343983933,\n        \"min\": 0.0,\n        \"max\": 5000000.0,\n        \"num_unique_values\": 7780,\n        \"samples\": [\n          6808.65,\n          15303.04,\n          4211.0\n        ],\n        \"semantic_type\": \"\",\n        \"description\": \"\"\n      }\n    },\n    {\n      \"column\": \"GIC\",\n      \"properties\": {\n        \"dtype\": \"number\",\n        \"std\": 66467.84229301118,\n        \"min\": 0.0,\n        \"max\": 5000000.0,\n        \"num_unique_values\": 7890,\n        \"samples\": [\n          18625.0,\n          3512.41,\n          4554.0\n        ],\n        \"semantic_type\": \"\",\n        \"description\": \"\"\n      }\n    },\n    {\n      \"column\": \"FNF\",\n      \"properties\": {\n        \"dtype\": \"number\",\n        \"std\": 0,\n        \"min\": 1,\n        \"max\": 2,\n        \"num_unique_values\": 2,\n        \"samples\": [\n          1,\n          2\n        ],\n        \"semantic_type\": \"\",\n        \"description\": \"\"\n      }\n    }\n  ]\n}"
            }
          },
          "metadata": {},
          "execution_count": 52
        }
      ]
    },
    {
      "cell_type": "code",
      "source": [
        "# สร้างคอลัมน์ใหม่ที่นับจำนวน id ซ้ำในแต่ละ claim_type\n",
        "df['id_count'] = df.groupby(['ReseveDescription', 'Dummy ID'])['Dummy ID'].transform('count')\n",
        "\n",
        "# เลือกเฉพาะคอลัมน์ที่ต้องการ\n",
        "result = df[['Dummy ID', 'ReseveDescription', 'id_count']].drop_duplicates()\n",
        "\n",
        "print(result)\n"
      ],
      "metadata": {
        "colab": {
          "base_uri": "https://localhost:8080/"
        },
        "collapsed": true,
        "id": "q-R7iLW_R0NZ",
        "outputId": "153e799b-946d-4d2f-8129-b15f53dc3bc3"
      },
      "execution_count": 35,
      "outputs": [
        {
          "output_type": "stream",
          "name": "stdout",
          "text": [
            "       Dummy ID               ReseveDescription  id_count\n",
            "0             1              ค่ารักษาจากโควิค19         1\n",
            "1             2           Flight Delay Coverage         1\n",
            "2             3           Flight Delay Coverage         1\n",
            "3             4          Baggage Delay Coverage         1\n",
            "4             5          Baggage Delay Coverage         1\n",
            "...         ...                             ...       ...\n",
            "33064     34534            GP/A Medical Expense         1\n",
            "33065     34535  Damage or Loss of Travel Docum         1\n",
            "33066     34536      Baggage & Personal Effects         1\n",
            "33067     34537      Baggage & Personal Effects         1\n",
            "33068     34538          Baggage Delay Coverage         1\n",
            "\n",
            "[33069 rows x 3 columns]\n"
          ]
        }
      ]
    },
    {
      "cell_type": "code",
      "source": [
        "# บันทึกผลลัพธ์ลงในไฟล์ Excel\n",
        "result.to_excel('output.xlsx', index=False)\n",
        "\n",
        "print(\"File saved as 'output.xlsx'\")"
      ],
      "metadata": {
        "colab": {
          "base_uri": "https://localhost:8080/"
        },
        "id": "-mzRpqRhSQB-",
        "outputId": "f3f77738-9634-45cc-ee28-88c2239f6976"
      },
      "execution_count": 36,
      "outputs": [
        {
          "output_type": "stream",
          "name": "stdout",
          "text": [
            "File saved as 'output.xlsx'\n"
          ]
        }
      ]
    },
    {
      "cell_type": "code",
      "source": [
        "import numpy as np\n",
        "#เนื่องจากไม่มีค่า FNF ก็เลยต้องสมมุติมาใหม่\n",
        "\n",
        "# สุ่มตัวเลข 1 และ 2 จำนวน 33,070 ค่า โดยที่ 1 มีโอกาส 10% และ 2 มีโอกาส 90%\n",
        "random_numbers = np.random.choice([1, 2], size=33070, p=[0.1, 0.9])\n",
        "\n",
        "# แสดงตัวอย่าง 10 ค่าแรก\n",
        "print(random_numbers[:10])\n"
      ],
      "metadata": {
        "colab": {
          "base_uri": "https://localhost:8080/"
        },
        "id": "I_Q7CEkytVmL",
        "outputId": "6d321d3f-51f6-4eed-e68d-025eef4ec3f5"
      },
      "execution_count": 37,
      "outputs": [
        {
          "output_type": "stream",
          "name": "stdout",
          "text": [
            "[2 2 1 2 2 2 2 2 2 2]\n"
          ]
        }
      ]
    },
    {
      "cell_type": "code",
      "source": [
        "import pandas as pd\n",
        "\n",
        "# แปลงเป็น DataFrame\n",
        "df1 = pd.DataFrame(random_numbers, columns=[\"Random_Number\"])\n",
        "\n",
        "# บันทึกเป็น Excel\n",
        "df1.to_excel(\"random_numbers.xlsx\", index=False)"
      ],
      "metadata": {
        "id": "7Q3vIV-CtcqU"
      },
      "execution_count": 38,
      "outputs": []
    },
    {
      "cell_type": "markdown",
      "source": [
        "# Null"
      ],
      "metadata": {
        "id": "dsKQP3yz7EJI"
      }
    },
    {
      "cell_type": "code",
      "source": [
        "print(df.isnull().sum())"
      ],
      "metadata": {
        "colab": {
          "base_uri": "https://localhost:8080/"
        },
        "id": "W2bj0TLg7IE4",
        "outputId": "d702f5a8-7ca6-4b35-b510-0dcb7eee2bd9"
      },
      "execution_count": 53,
      "outputs": [
        {
          "output_type": "stream",
          "name": "stdout",
          "text": [
            "Dummy ID                 0\n",
            "AGE                      0\n",
            "SEX                  29466\n",
            "Occupation               0\n",
            "Policy_Class             0\n",
            "Plan_                    0\n",
            "Premium                  0\n",
            "DATESALE                 0\n",
            "INCDTE                   0\n",
            "ExpireDate               0\n",
            "DATREP                   0\n",
            "DATOCC                   0\n",
            "ReserveCode              0\n",
            "ReseveDescription        0\n",
            "GRS_OS                   0\n",
            "GRS_PAID                 0\n",
            "GIC                      0\n",
            "FNF                      0\n",
            "dtype: int64\n"
          ]
        }
      ]
    },
    {
      "cell_type": "code",
      "source": [
        "print(df['SEX'].dtype)"
      ],
      "metadata": {
        "colab": {
          "base_uri": "https://localhost:8080/"
        },
        "id": "wT_A4TjI9VXe",
        "outputId": "969855b3-399c-4486-80f6-3ac1219b4661"
      },
      "execution_count": 54,
      "outputs": [
        {
          "output_type": "stream",
          "name": "stdout",
          "text": [
            "object\n"
          ]
        }
      ]
    },
    {
      "cell_type": "code",
      "source": [
        "df['SEX'] = df['SEX'].astype('category')  # หรือ ใช้ .astype('category') ถ้าเป็นข้อมูลที่มีหมวดหมู่จำกัด"
      ],
      "metadata": {
        "id": "Bh3I8XJi9XkR"
      },
      "execution_count": 55,
      "outputs": []
    },
    {
      "cell_type": "code",
      "source": [
        "print(df['SEX'].dtype)"
      ],
      "metadata": {
        "colab": {
          "base_uri": "https://localhost:8080/"
        },
        "id": "o8M9nGly9co1",
        "outputId": "a8d0963b-835b-4840-859c-25e226cbabb8"
      },
      "execution_count": 56,
      "outputs": [
        {
          "output_type": "stream",
          "name": "stdout",
          "text": [
            "category\n"
          ]
        }
      ]
    },
    {
      "cell_type": "code",
      "source": [
        "# การแทนค่าขาดหายด้วยโหมด\n",
        "df['SEX'] = df['SEX'].fillna(df['SEX'].mode()[0])\n",
        "\n",
        "print(df)"
      ],
      "metadata": {
        "colab": {
          "base_uri": "https://localhost:8080/"
        },
        "collapsed": true,
        "id": "kc9qmP6J_7Vu",
        "outputId": "ae48f0f7-48e7-4e73-a63f-dd765c922a72"
      },
      "execution_count": 57,
      "outputs": [
        {
          "output_type": "stream",
          "name": "stdout",
          "text": [
            "       Dummy ID  AGE SEX                                       Occupation  \\\n",
            "0             1   40   F                                                    \n",
            "1             2   75   F  EMPLOYEE                                          \n",
            "2             3   33   F                                                    \n",
            "3             4   30   F                                                    \n",
            "4             5   50   F                                                    \n",
            "...         ...  ...  ..                                              ...   \n",
            "33064     34534   49   F  EMPLOYEE                                          \n",
            "33065     34535   56   F  EMPLOYEE                                          \n",
            "33066     34536   47   F  EMPLOYEE                                          \n",
            "33067     34537   51   F                                                    \n",
            "33068     34538   78   F  EMPLOYEE                                          \n",
            "\n",
            "      Policy_Class                           Plan_  Premium  \\\n",
            "0              GDF  7U                                 80.0   \n",
            "1              GDF  8Y                                160.0   \n",
            "2              GDF  7ฉ                                100.0   \n",
            "3              GDF  7ด                                180.0   \n",
            "4              GDF  7ด                                180.0   \n",
            "...            ...                             ...      ...   \n",
            "33064          PWT  YF                                765.0   \n",
            "33065          PWT  YF                                955.0   \n",
            "33066          PWT  YE                                490.0   \n",
            "33067          PWT  YO                               3730.0   \n",
            "33068          PWT  Q1                               3110.0   \n",
            "\n",
            "                  DATESALE    INCDTE  ExpireDate    DATREP    DATOCC  \\\n",
            "0      2022-12-11 22:24:22  20221231    20230101  20230711  20230101   \n",
            "1      2022-12-31 10:39:44  20230124    20230128  20230308  20230127   \n",
            "2      2023-03-23 00:57:49  20230323    20230324  20230329  20230323   \n",
            "3      2023-07-10 21:55:00  20230721    20230727  20230807  20230721   \n",
            "4      2023-07-20 19:54:50  20230725    20230730  20230803  20230725   \n",
            "...                    ...       ...         ...       ...       ...   \n",
            "33064  2024-12-05 17:18:12  20241213    20241222  20250120  20241220   \n",
            "33065  2024-12-09 17:52:50  20241212    20241224  20250115  20241214   \n",
            "33066  2024-12-19 21:27:45  20241219    20241223  20250107  20241221   \n",
            "33067  2024-12-20 16:25:11  20241222    20251221  20250128  20250123   \n",
            "33068  2024-12-21 17:27:38  20241222    20250116  20250122  20250116   \n",
            "\n",
            "      ReserveCode               ReseveDescription  GRS_OS  GRS_PAID     GIC  \\\n",
            "0              VD              ค่ารักษาจากโควิค19     0.0       0.0     0.0   \n",
            "1              FD           Flight Delay Coverage     0.0    2000.0  2000.0   \n",
            "2              FD           Flight Delay Coverage     0.0    2000.0  2000.0   \n",
            "3              BD          Baggage Delay Coverage     0.0       0.0     0.0   \n",
            "4              BD          Baggage Delay Coverage     0.0    6000.0  6000.0   \n",
            "...           ...                             ...     ...       ...     ...   \n",
            "33064          ME            GP/A Medical Expense  2000.0       0.0  2000.0   \n",
            "33065          LD  Damage or Loss of Travel Docum  2000.0       0.0  2000.0   \n",
            "33066          BP      Baggage & Personal Effects  2000.0       0.0  2000.0   \n",
            "33067          BP      Baggage & Personal Effects  2000.0       0.0  2000.0   \n",
            "33068          BD          Baggage Delay Coverage  2000.0       0.0  2000.0   \n",
            "\n",
            "       FNF  \n",
            "0        2  \n",
            "1        1  \n",
            "2        2  \n",
            "3        2  \n",
            "4        2  \n",
            "...    ...  \n",
            "33064    2  \n",
            "33065    1  \n",
            "33066    2  \n",
            "33067    2  \n",
            "33068    2  \n",
            "\n",
            "[33069 rows x 18 columns]\n"
          ]
        }
      ]
    },
    {
      "cell_type": "markdown",
      "source": [
        "# แยกค่า ฉ้อหรือไม่ฉ้อ"
      ],
      "metadata": {
        "id": "hrRgJLhtV4j5"
      }
    },
    {
      "cell_type": "code",
      "source": [
        "# แยกข้อมูลที่เป็นการฉ้อฉล\n",
        "df_fraud = df[df['FNF'] == 1]\n",
        "\n",
        "# แยกข้อมูลที่ไม่เป็นการฉ้อฉล\n",
        "df_non_fraud = df[df['FNF'] == 2]"
      ],
      "metadata": {
        "id": "OYNafnv0V0Ar"
      },
      "execution_count": 58,
      "outputs": []
    },
    {
      "cell_type": "markdown",
      "source": [
        "# แปลงจากหมวดหมู่เป็นตัวเลข"
      ],
      "metadata": {
        "id": "DlNfy478xuHF"
      }
    },
    {
      "cell_type": "code",
      "source": [
        "# สมมติว่า 'Target' เป็นคอลัมน์เป้าหมาย\n",
        "#X = df.drop(columns=[\"FNF\"])  # ลบคอลัมน์ Target ออก\n",
        "#y = df[\"FNF\"]  # กำหนด Target\n",
        "\n",
        "#from sklearn.model_selection import train_test_split\n",
        "#X_train, X_test, y_train, y_test = train_test_split(X, y, random_state=42)"
      ],
      "metadata": {
        "id": "m43dSshDWgRK"
      },
      "execution_count": null,
      "outputs": []
    },
    {
      "cell_type": "code",
      "source": [
        "# สมมติว่า 'Target' เป็นคอลัมน์เป้าหมาย df_fraud\n",
        "X_df_non_fraud = df.drop(columns=[\"FNF\"])  # ลบคอลัมน์ Target ออก\n",
        "y_df_non_fraud = df[\"FNF\"]  # กำหนด Target\n",
        "\n",
        "from sklearn.model_selection import train_test_split\n",
        "X_train_df_non_fraud, X_test_df_non_fraud, y_train_df_non_fraud, y_test_df_non_fraud = train_test_split(X_df_non_fraud, y_df_non_fraud, random_state=42)"
      ],
      "metadata": {
        "id": "5mx3AZyGWLSn"
      },
      "execution_count": 64,
      "outputs": []
    },
    {
      "cell_type": "code",
      "source": [
        "# สมมติว่า 'Target' เป็นคอลัมน์เป้าหมาย df_fraud\n",
        "X_df_fraud = df.drop(columns=[\"FNF\"])  # ลบคอลัมน์ Target ออก\n",
        "y_df_fraud = df[\"FNF\"]  # กำหนด Target\n",
        "\n",
        "from sklearn.model_selection import train_test_split\n",
        "X_train_df_fraud, X_test_df_fraud, y_train_df_fraud, y_test_df_fraud = train_test_split(X_df_fraud, y_df_fraud, random_state=42)"
      ],
      "metadata": {
        "id": "5etjUdr30mVx"
      },
      "execution_count": 63,
      "outputs": []
    },
    {
      "cell_type": "code",
      "source": [
        "!pip install category_encoders"
      ],
      "metadata": {
        "collapsed": true,
        "colab": {
          "base_uri": "https://localhost:8080/"
        },
        "id": "ti-DP3E90xWo",
        "outputId": "9d5f0be0-96ac-4d3a-a509-e425c58183b5"
      },
      "execution_count": 45,
      "outputs": [
        {
          "output_type": "stream",
          "name": "stdout",
          "text": [
            "Requirement already satisfied: category_encoders in /usr/local/lib/python3.11/dist-packages (2.8.0)\n",
            "Requirement already satisfied: numpy>=1.14.0 in /usr/local/lib/python3.11/dist-packages (from category_encoders) (1.26.4)\n",
            "Requirement already satisfied: pandas>=1.0.5 in /usr/local/lib/python3.11/dist-packages (from category_encoders) (2.2.2)\n",
            "Requirement already satisfied: patsy>=0.5.1 in /usr/local/lib/python3.11/dist-packages (from category_encoders) (1.0.1)\n",
            "Requirement already satisfied: scikit-learn>=1.6.0 in /usr/local/lib/python3.11/dist-packages (from category_encoders) (1.6.1)\n",
            "Requirement already satisfied: scipy>=1.0.0 in /usr/local/lib/python3.11/dist-packages (from category_encoders) (1.13.1)\n",
            "Requirement already satisfied: statsmodels>=0.9.0 in /usr/local/lib/python3.11/dist-packages (from category_encoders) (0.14.4)\n",
            "Requirement already satisfied: python-dateutil>=2.8.2 in /usr/local/lib/python3.11/dist-packages (from pandas>=1.0.5->category_encoders) (2.8.2)\n",
            "Requirement already satisfied: pytz>=2020.1 in /usr/local/lib/python3.11/dist-packages (from pandas>=1.0.5->category_encoders) (2025.1)\n",
            "Requirement already satisfied: tzdata>=2022.7 in /usr/local/lib/python3.11/dist-packages (from pandas>=1.0.5->category_encoders) (2025.1)\n",
            "Requirement already satisfied: joblib>=1.2.0 in /usr/local/lib/python3.11/dist-packages (from scikit-learn>=1.6.0->category_encoders) (1.4.2)\n",
            "Requirement already satisfied: threadpoolctl>=3.1.0 in /usr/local/lib/python3.11/dist-packages (from scikit-learn>=1.6.0->category_encoders) (3.5.0)\n",
            "Requirement already satisfied: packaging>=21.3 in /usr/local/lib/python3.11/dist-packages (from statsmodels>=0.9.0->category_encoders) (24.2)\n",
            "Requirement already satisfied: six>=1.5 in /usr/local/lib/python3.11/dist-packages (from python-dateutil>=2.8.2->pandas>=1.0.5->category_encoders) (1.17.0)\n"
          ]
        }
      ]
    },
    {
      "cell_type": "code",
      "source": [
        "# ใช้ TargetEncoder\n",
        "#import category_encoders as ce\n",
        "#encoder = ce.TargetEncoder()\n",
        "#X_train_encoded = encoder.fit_transform(X_train, y_train)\n",
        "#X_test_encoded = encoder.transform(X_test)\n",
        "\n",
        "# แสดงผลลัพธ์\n",
        "#print(\"Encoded Training Data:\")\n",
        "#print(X_train_encoded)\n",
        "#print(\"Encoded Testing Data:\")\n",
        "#print(X_test_encoded)"
      ],
      "metadata": {
        "id": "1fTnuaWvXAhS"
      },
      "execution_count": null,
      "outputs": []
    },
    {
      "cell_type": "code",
      "source": [
        "# ใช้ TargetEncoder\n",
        "import category_encoders as ce\n",
        "encoder = ce.TargetEncoder()\n",
        "X_train_encoded_df_non_fraud = encoder.fit_transform(X_train_df_non_fraud, y_train_df_non_fraud)\n",
        "X_test_encoded_df_non_fraud = encoder.transform(X_test_df_non_fraud)\n",
        "\n",
        "# แสดงผลลัพธ์\n",
        "print(\"Encoded Training Data:\")\n",
        "print(X_train_encoded_df_non_fraud)\n",
        "print(\"Encoded Testing Data:\")\n",
        "print(X_test_encoded_df_non_fraud)"
      ],
      "metadata": {
        "collapsed": true,
        "colab": {
          "base_uri": "https://localhost:8080/"
        },
        "id": "-yPbvbQPW_pW",
        "outputId": "e5d27f2b-7703-44d1-9618-7ce1637bb721"
      },
      "execution_count": 65,
      "outputs": [
        {
          "output_type": "stream",
          "name": "stdout",
          "text": [
            "Encoded Training Data:\n",
            "       Dummy ID  AGE       SEX  Occupation  Policy_Class     Plan_   Premium  \\\n",
            "5971       6228   33  1.900776    1.898282      1.903349  1.897959      90.0   \n",
            "15716     16223   41  1.900776    1.900866      1.904414  1.901213     755.0   \n",
            "17462     17970   38  1.900776    1.900866      1.904414  1.906513     380.0   \n",
            "30117     31587   45  1.900776    1.902503      1.897584  1.904501    5780.0   \n",
            "2173       2253    0  1.900776    1.900866      1.897106  1.902148  549980.0   \n",
            "...         ...  ...       ...         ...           ...       ...       ...   \n",
            "16850     17358   67  1.900776    1.902503      1.904414  1.897778     515.0   \n",
            "6265       6522   29  1.900776    1.898282      1.903349  1.897959      90.0   \n",
            "11284     11790   26  1.900776    1.902503      1.904414  1.897778     635.0   \n",
            "860         916   57  1.900776    1.901829      1.902985  1.907071     510.0   \n",
            "15795     16302   11  1.900776    1.900866      1.904414  1.898188     850.0   \n",
            "\n",
            "       DATESALE    INCDTE  ExpireDate    DATREP    DATOCC  ReserveCode  \\\n",
            "5971   1.913576  20240605    20240614  20240701  20240609     1.899578   \n",
            "15716  1.915995  20240518    20240526  20240628  20240518     1.891613   \n",
            "17462  1.914742  20240430    20240505  20240513  20240430     1.901770   \n",
            "30117  1.783467  20240512    20250511  20241121  20241002     1.891613   \n",
            "2173   1.902148  20240103    20250103  20240524  20240423     1.899578   \n",
            "...         ...       ...         ...       ...       ...          ...   \n",
            "16850  1.900475  20240412    20240417  20240703  20240416     1.901770   \n",
            "6265   1.864507  20231031    20231109  20231121  20231107     1.896149   \n",
            "11284  1.913576  20230429    20230506  20230519  20230501     1.895856   \n",
            "860    1.914742  20241102    20241109  20241112  20241102     1.901770   \n",
            "15795  1.913576  20240403    20240421  20240607  20240404     1.891613   \n",
            "\n",
            "       ReseveDescription  GRS_OS  GRS_PAID      GIC  \n",
            "5971            1.899578     0.0    6680.6   6680.6  \n",
            "15716           1.891613     0.0   12000.0  12000.0  \n",
            "17462           1.901770     0.0    2000.0   2000.0  \n",
            "30117           1.891613     0.0   25000.0  25000.0  \n",
            "2173            1.899578     0.0    3109.0   3109.0  \n",
            "...                  ...     ...       ...      ...  \n",
            "16850           1.901770     0.0    9000.0   9000.0  \n",
            "6265            1.896149     0.0       0.0      0.0  \n",
            "11284           1.895856     0.0    1000.0   1000.0  \n",
            "860             1.901770     1.0       0.0      1.0  \n",
            "15795           1.891613     0.0   10000.0  10000.0  \n",
            "\n",
            "[24801 rows x 17 columns]\n",
            "Encoded Testing Data:\n",
            "       Dummy ID  AGE       SEX  Occupation  Policy_Class     Plan_  Premium  \\\n",
            "21863     23333   71  1.900776    1.900866      1.897584  1.877577  1381.25   \n",
            "23105     24575   19  1.900776    1.900866      1.897584  1.900938  3730.00   \n",
            "3448       3607   48  1.898699    1.901829      1.899452  1.944948  1742.50   \n",
            "25125     26595   43  1.900776    1.900866      1.897584  1.906513   440.00   \n",
            "26518     27988   27  1.900776    1.888550      1.897584  1.901213   935.00   \n",
            "...         ...  ...       ...         ...           ...       ...      ...   \n",
            "17767     18275   48  1.900776    1.900866      1.904414  1.901213  1350.00   \n",
            "13573     14079   42  1.900776    1.902503      1.904414  1.877577  1644.75   \n",
            "11604     12110   53  1.900776    1.888550      1.904414  1.898188   884.00   \n",
            "14709     15216   31  1.900776    1.902503      1.904414  1.877577  1332.50   \n",
            "9889      10395   54  1.900776    1.900866      1.904414  1.901213   791.30   \n",
            "\n",
            "       DATESALE    INCDTE  ExpireDate    DATREP    DATOCC  ReserveCode  \\\n",
            "21863  1.783467  20230513    20230523  20230606  20230514     1.899578   \n",
            "23105  1.900649  20230715    20240714  20240801  20240617     1.899578   \n",
            "3448   1.900649  20241027    20241107  20241111  20241107     1.891613   \n",
            "25125  1.900649  20230707    20230714  20230719  20230714     1.906582   \n",
            "26518  1.900649  20231228    20240107  20240130  20240107     1.906582   \n",
            "...         ...       ...         ...       ...       ...          ...   \n",
            "17767  1.913576  20240601    20240625  20240709  20240624     1.901770   \n",
            "13573  1.900649  20240113    20240127  20240216  20240127     1.899578   \n",
            "11604  1.875343  20231002    20231027  20231101  20231010     1.895856   \n",
            "14709  1.914742  20240410    20240420  20240515  20240419     1.901770   \n",
            "9889   1.914742  20230404    20230417  20230515  20230413     1.891613   \n",
            "\n",
            "       ReseveDescription  GRS_OS  GRS_PAID       GIC  \n",
            "21863           1.899578     0.0  13856.02  13856.02  \n",
            "23105           1.899578     0.0   2291.92   2291.92  \n",
            "3448            1.891613     0.0   7000.00   7000.00  \n",
            "25125           1.906582     0.0    300.00    300.00  \n",
            "26518           1.906582     0.0   4950.00   4950.00  \n",
            "...                  ...     ...       ...       ...  \n",
            "17767           1.901770     0.0  12000.00  12000.00  \n",
            "13573           1.899578     0.0   5669.76   5669.76  \n",
            "11604           1.895856     0.0   1000.00   1000.00  \n",
            "14709           1.901770     0.0   7000.00   7000.00  \n",
            "9889            1.891613     0.0  12000.00  12000.00  \n",
            "\n",
            "[8268 rows x 17 columns]\n"
          ]
        }
      ]
    },
    {
      "cell_type": "code",
      "source": [
        "# ใช้ TargetEncoder\n",
        "import category_encoders as ce\n",
        "encoder = ce.TargetEncoder()\n",
        "X_train_encoded_df_fraud = encoder.fit_transform(X_train_df_fraud, y_train_df_fraud)\n",
        "X_test_encoded_df_fraud = encoder.transform(X_test_df_fraud)\n",
        "\n",
        "# แสดงผลลัพธ์\n",
        "print(\"Encoded Training Data:\")\n",
        "print(X_train_encoded_df_fraud)\n",
        "print(\"Encoded Testing Data:\")\n",
        "print(X_test_encoded_df_fraud)"
      ],
      "metadata": {
        "colab": {
          "base_uri": "https://localhost:8080/"
        },
        "collapsed": true,
        "id": "UH27loQ1xzoM",
        "outputId": "c5f48e35-9539-4120-e39c-50affb538d46"
      },
      "execution_count": 66,
      "outputs": [
        {
          "output_type": "stream",
          "name": "stdout",
          "text": [
            "Encoded Training Data:\n",
            "       Dummy ID  AGE       SEX  Occupation  Policy_Class     Plan_   Premium  \\\n",
            "5971       6228   33  1.900776    1.898282      1.903349  1.897959      90.0   \n",
            "15716     16223   41  1.900776    1.900866      1.904414  1.901213     755.0   \n",
            "17462     17970   38  1.900776    1.900866      1.904414  1.906513     380.0   \n",
            "30117     31587   45  1.900776    1.902503      1.897584  1.904501    5780.0   \n",
            "2173       2253    0  1.900776    1.900866      1.897106  1.902148  549980.0   \n",
            "...         ...  ...       ...         ...           ...       ...       ...   \n",
            "16850     17358   67  1.900776    1.902503      1.904414  1.897778     515.0   \n",
            "6265       6522   29  1.900776    1.898282      1.903349  1.897959      90.0   \n",
            "11284     11790   26  1.900776    1.902503      1.904414  1.897778     635.0   \n",
            "860         916   57  1.900776    1.901829      1.902985  1.907071     510.0   \n",
            "15795     16302   11  1.900776    1.900866      1.904414  1.898188     850.0   \n",
            "\n",
            "       DATESALE    INCDTE  ExpireDate    DATREP    DATOCC  ReserveCode  \\\n",
            "5971   1.913576  20240605    20240614  20240701  20240609     1.899578   \n",
            "15716  1.915995  20240518    20240526  20240628  20240518     1.891613   \n",
            "17462  1.914742  20240430    20240505  20240513  20240430     1.901770   \n",
            "30117  1.783467  20240512    20250511  20241121  20241002     1.891613   \n",
            "2173   1.902148  20240103    20250103  20240524  20240423     1.899578   \n",
            "...         ...       ...         ...       ...       ...          ...   \n",
            "16850  1.900475  20240412    20240417  20240703  20240416     1.901770   \n",
            "6265   1.864507  20231031    20231109  20231121  20231107     1.896149   \n",
            "11284  1.913576  20230429    20230506  20230519  20230501     1.895856   \n",
            "860    1.914742  20241102    20241109  20241112  20241102     1.901770   \n",
            "15795  1.913576  20240403    20240421  20240607  20240404     1.891613   \n",
            "\n",
            "       ReseveDescription  GRS_OS  GRS_PAID      GIC  \n",
            "5971            1.899578     0.0    6680.6   6680.6  \n",
            "15716           1.891613     0.0   12000.0  12000.0  \n",
            "17462           1.901770     0.0    2000.0   2000.0  \n",
            "30117           1.891613     0.0   25000.0  25000.0  \n",
            "2173            1.899578     0.0    3109.0   3109.0  \n",
            "...                  ...     ...       ...      ...  \n",
            "16850           1.901770     0.0    9000.0   9000.0  \n",
            "6265            1.896149     0.0       0.0      0.0  \n",
            "11284           1.895856     0.0    1000.0   1000.0  \n",
            "860             1.901770     1.0       0.0      1.0  \n",
            "15795           1.891613     0.0   10000.0  10000.0  \n",
            "\n",
            "[24801 rows x 17 columns]\n",
            "Encoded Testing Data:\n",
            "       Dummy ID  AGE       SEX  Occupation  Policy_Class     Plan_  Premium  \\\n",
            "21863     23333   71  1.900776    1.900866      1.897584  1.877577  1381.25   \n",
            "23105     24575   19  1.900776    1.900866      1.897584  1.900938  3730.00   \n",
            "3448       3607   48  1.898699    1.901829      1.899452  1.944948  1742.50   \n",
            "25125     26595   43  1.900776    1.900866      1.897584  1.906513   440.00   \n",
            "26518     27988   27  1.900776    1.888550      1.897584  1.901213   935.00   \n",
            "...         ...  ...       ...         ...           ...       ...      ...   \n",
            "17767     18275   48  1.900776    1.900866      1.904414  1.901213  1350.00   \n",
            "13573     14079   42  1.900776    1.902503      1.904414  1.877577  1644.75   \n",
            "11604     12110   53  1.900776    1.888550      1.904414  1.898188   884.00   \n",
            "14709     15216   31  1.900776    1.902503      1.904414  1.877577  1332.50   \n",
            "9889      10395   54  1.900776    1.900866      1.904414  1.901213   791.30   \n",
            "\n",
            "       DATESALE    INCDTE  ExpireDate    DATREP    DATOCC  ReserveCode  \\\n",
            "21863  1.783467  20230513    20230523  20230606  20230514     1.899578   \n",
            "23105  1.900649  20230715    20240714  20240801  20240617     1.899578   \n",
            "3448   1.900649  20241027    20241107  20241111  20241107     1.891613   \n",
            "25125  1.900649  20230707    20230714  20230719  20230714     1.906582   \n",
            "26518  1.900649  20231228    20240107  20240130  20240107     1.906582   \n",
            "...         ...       ...         ...       ...       ...          ...   \n",
            "17767  1.913576  20240601    20240625  20240709  20240624     1.901770   \n",
            "13573  1.900649  20240113    20240127  20240216  20240127     1.899578   \n",
            "11604  1.875343  20231002    20231027  20231101  20231010     1.895856   \n",
            "14709  1.914742  20240410    20240420  20240515  20240419     1.901770   \n",
            "9889   1.914742  20230404    20230417  20230515  20230413     1.891613   \n",
            "\n",
            "       ReseveDescription  GRS_OS  GRS_PAID       GIC  \n",
            "21863           1.899578     0.0  13856.02  13856.02  \n",
            "23105           1.899578     0.0   2291.92   2291.92  \n",
            "3448            1.891613     0.0   7000.00   7000.00  \n",
            "25125           1.906582     0.0    300.00    300.00  \n",
            "26518           1.906582     0.0   4950.00   4950.00  \n",
            "...                  ...     ...       ...       ...  \n",
            "17767           1.901770     0.0  12000.00  12000.00  \n",
            "13573           1.899578     0.0   5669.76   5669.76  \n",
            "11604           1.895856     0.0   1000.00   1000.00  \n",
            "14709           1.901770     0.0   7000.00   7000.00  \n",
            "9889            1.891613     0.0  12000.00  12000.00  \n",
            "\n",
            "[8268 rows x 17 columns]\n"
          ]
        }
      ]
    },
    {
      "cell_type": "markdown",
      "source": [
        "# standardization"
      ],
      "metadata": {
        "id": "FkqFnuaoxoQ2"
      }
    },
    {
      "cell_type": "code",
      "source": [
        "from sklearn.preprocessing import StandardScaler\n",
        "from sklearn import preprocessing\n",
        "# สมมุติว่า X_train คือชุดข้อมูลฝึกที่ต้องการปรับขนาด\n",
        "#scaler = preprocessing.StandardScaler().fit(X_train_encoded)\n",
        "#X_scaled = scaler.transform(X_train_encoded)"
      ],
      "metadata": {
        "id": "NXL6qrvwxGWi"
      },
      "execution_count": 47,
      "outputs": []
    },
    {
      "cell_type": "code",
      "source": [
        "from sklearn.preprocessing import StandardScaler\n",
        "from sklearn import preprocessing\n",
        "# สมมุติว่า X_train คือชุดข้อมูลฝึกที่ต้องการปรับขนาด\n",
        "scaler_df_fraud = preprocessing.StandardScaler().fit(X_train_encoded_df_fraud)\n",
        "X_scaled_df_fraud = scaler_df_fraud.transform(X_train_encoded_df_fraud)"
      ],
      "metadata": {
        "id": "JDJbKTJtXiAa"
      },
      "execution_count": 68,
      "outputs": []
    },
    {
      "cell_type": "code",
      "source": [
        "from sklearn.preprocessing import StandardScaler\n",
        "from sklearn import preprocessing\n",
        "# สมมุติว่า X_train คือชุดข้อมูลฝึกที่ต้องการปรับขนาด\n",
        "scaler_df_non_fraud = preprocessing.StandardScaler().fit(X_train_encoded_df_non_fraud)\n",
        "X_scaled_df_non_fraud = scaler_df_non_fraud.transform(X_train_encoded_df_non_fraud)"
      ],
      "metadata": {
        "id": "BXoncmqPX_Fq"
      },
      "execution_count": 71,
      "outputs": []
    },
    {
      "cell_type": "code",
      "source": [
        "#อย่าเพิ่ง\n",
        "from sklearn.datasets import make_classification\n",
        "from sklearn.model_selection import train_test_split\n",
        "from sklearn.pipeline import make_pipeline\n",
        "from sklearn.preprocessing import StandardScaler\n",
        "from sklearn.neural_network import MLPClassifier  # นำเข้า MLPClassifier\n",
        "\n",
        "# สร้าง pipeline ที่มีการใช้ StandardScaler และ Neural Network (MLPClassifier)\n",
        "#pipe = make_pipeline(StandardScaler(), MLPClassifier(random_state=42))\n",
        "\n",
        "# ฝึกโมเดล\n",
        "#pipe.fit(X_train_encoded, y_train)\n",
        "\n",
        "# ประเมินผลโมเดล\n",
        "#print(pipe.score(X_test_encoded, y_test))"
      ],
      "metadata": {
        "colab": {
          "base_uri": "https://localhost:8080/"
        },
        "id": "IFDtLqdB2d9w",
        "outputId": "3f6718f0-e993-47ca-b164-5b3e305601bc"
      },
      "execution_count": 48,
      "outputs": [
        {
          "output_type": "stream",
          "name": "stdout",
          "text": [
            "0.8662312530237058\n"
          ]
        }
      ]
    },
    {
      "cell_type": "markdown",
      "source": [
        "ดูว่ารูปร่างข้อูลซับซ้อนหรือไม่"
      ],
      "metadata": {
        "id": "6XCsjO78Waci"
      }
    },
    {
      "cell_type": "code",
      "source": [
        "import matplotlib.pyplot as plt\n",
        "from sklearn.decomposition import PCA\n",
        "\n",
        "# ลดมิติข้อมูลให้เหลือ 2D เพื่อการแสดงผล\n",
        "pca = PCA(n_components=2)\n",
        "X_scaled_df_non_fraud_2d = pca.fit_transform(X_scaled_df_non_fraud)\n",
        "\n",
        "# แสดง scatter plot\n",
        "plt.scatter(X_scaled_df_non_fraud_2d[:, 0], X_scaled_df_non_fraud_2d[:, 1])\n",
        "plt.title('Scatter plot of 2D data')\n",
        "plt.show()"
      ],
      "metadata": {
        "colab": {
          "base_uri": "https://localhost:8080/",
          "height": 452
        },
        "id": "B8YDn96QWdi9",
        "outputId": "3ffe29ca-493c-4c74-fc84-385421345283"
      },
      "execution_count": 72,
      "outputs": [
        {
          "output_type": "display_data",
          "data": {
            "text/plain": [
              "<Figure size 640x480 with 1 Axes>"
            ],
            "image/png": "[encoded data removed]"
          },
          "metadata": {}
        }
      ]
    },
    {
      "cell_type": "markdown",
      "source": [
        "# clustering"
      ],
      "metadata": {
        "id": "ru_txMvtGJ-v"
      }
    },
    {
      "cell_type": "code",
      "source": [
        "import numpy as np\n",
        "import pandas as pd\n",
        "import matplotlib.pyplot as plt\n",
        "from sklearn.cluster import KMeans\n",
        "from sklearn.decomposition import PCA\n",
        "\n",
        "# Assuming X_scaled_df_non_fraud is your dataset\n",
        "# Perform PCA to reduce dimensions to 2 for visualization\n",
        "pca = PCA(n_components=2)\n",
        "X_scaled_df_non_fraud_pca = pca.fit_transform(X_scaled_df_non_fraud)\n",
        "\n",
        "# Apply KMeans clustering with 2 clusters\n",
        "kmeans = KMeans(n_clusters=2, init='k-means++', random_state=0)\n",
        "y_kmeans = kmeans.fit_predict(X_scaled_df_non_fraud_pca)\n",
        "\n",
        "# Create a DataFrame to store the results\n",
        "df = pd.DataFrame(X_scaled_df_non_fraud_pca, columns=['PCA Component 1', 'PCA Component 2'])\n",
        "df['Cluster'] = y_kmeans  # Add cluster labels\n",
        "\n",
        "# Save the DataFrame to an Excel file\n",
        "output_file = 'kmeans_clusters.xlsx'\n",
        "df.to_excel(output_file, index=False)\n",
        "\n",
        "# Print the first few rows of the DataFrame\n",
        "print(df.head())\n",
        "\n",
        "# Plot the clustering results\n",
        "plt.scatter(X_scaled_df_non_fraud_pca[:, 0], X_scaled_df_non_fraud_pca[:, 1], c=y_kmeans, s=50, cmap='viridis')\n",
        "\n",
        "# Mark the centroids of the clusters\n",
        "centers = kmeans.cluster_centers_\n",
        "plt.scatter(centers[:, 0], centers[:, 1], c='red', s=200, alpha=0.75, marker='X')\n",
        "plt.title(\"K-Means Clustering (K=2)\")\n",
        "plt.show()\n",
        "\n"
      ],
      "metadata": {
        "colab": {
          "base_uri": "https://localhost:8080/",
          "height": 556
        },
        "id": "-CecKukrbZGE",
        "outputId": "9ee27702-98e8-4c2c-8097-9abc87c3b0a8"
      },
      "execution_count": 84,
      "outputs": [
        {
          "output_type": "stream",
          "name": "stdout",
          "text": [
            "   PCA Component 1  PCA Component 2  Cluster\n",
            "0         1.206066         0.028938        1\n",
            "1         1.195049         1.183886        1\n",
            "2         1.198202        -0.341345        1\n",
            "3         2.072058         1.677694        1\n",
            "4         1.959013         0.231458        1\n"
          ]
        },
        {
          "output_type": "display_data",
          "data": {
            "text/plain": [
              "<Figure size 640x480 with 1 Axes>"
            ],
            "image/png": "[encoded data removed]"
          },
          "metadata": {}
        }
      ]
    },
    {
      "cell_type": "code",
      "source": [
        "df"
      ],
      "metadata": {
        "colab": {
          "base_uri": "https://localhost:8080/",
          "height": 423
        },
        "id": "XDtLZB9tclIS",
        "outputId": "ea417a8d-afe8-46dd-cef9-41dbabc71e95"
      },
      "execution_count": 85,
      "outputs": [
        {
          "output_type": "execute_result",
          "data": {
            "text/plain": [
              "       PCA Component 1  PCA Component 2  Cluster\n",
              "0             1.206066         0.028938        1\n",
              "1             1.195049         1.183886        1\n",
              "2             1.198202        -0.341345        1\n",
              "3             2.072058         1.677694        1\n",
              "4             1.959013         0.231458        1\n",
              "...                ...              ...      ...\n",
              "24796         1.175574        -0.202901        1\n",
              "24797        -2.201588         0.356654        0\n",
              "24798        -2.380796         0.369324        0\n",
              "24799         1.388514        -0.449920        1\n",
              "24800         1.170958         1.182615        1\n",
              "\n",
              "[24801 rows x 3 columns]"
            ],
            "text/html": [
              "\n",
              "  <div id=\"df-789c74b3-dec2-4fb9-9225-34f8408cd4ea\" class=\"colab-df-container\">\n",
              "    <div>\n",
              "<style scoped>\n",
              "    .dataframe tbody tr th:only-of-type {\n",
              "        vertical-align: middle;\n",
              "    }\n",
              "\n",
              "    .dataframe tbody tr th {\n",
              "        vertical-align: top;\n",
              "    }\n",
              "\n",
              "    .dataframe thead th {\n",
              "        text-align: right;\n",
              "    }\n",
              "</style>\n",
              "<table border=\"1\" class=\"dataframe\">\n",
              "  <thead>\n",
              "    <tr style=\"text-align: right;\">\n",
              "      <th></th>\n",
              "      <th>PCA Component 1</th>\n",
              "      <th>PCA Component 2</th>\n",
              "      <th>Cluster</th>\n",
              "    </tr>\n",
              "  </thead>\n",
              "  <tbody>\n",
              "    <tr>\n",
              "      <th>0</th>\n",
              "      <td>1.206066</td>\n",
              "      <td>0.028938</td>\n",
              "      <td>1</td>\n",
              "    </tr>\n",
              "    <tr>\n",
              "      <th>1</th>\n",
              "      <td>1.195049</td>\n",
              "      <td>1.183886</td>\n",
              "      <td>1</td>\n",
              "    </tr>\n",
              "    <tr>\n",
              "      <th>2</th>\n",
              "      <td>1.198202</td>\n",
              "      <td>-0.341345</td>\n",
              "      <td>1</td>\n",
              "    </tr>\n",
              "    <tr>\n",
              "      <th>3</th>\n",
              "      <td>2.072058</td>\n",
              "      <td>1.677694</td>\n",
              "      <td>1</td>\n",
              "    </tr>\n",
              "    <tr>\n",
              "      <th>4</th>\n",
              "      <td>1.959013</td>\n",
              "      <td>0.231458</td>\n",
              "      <td>1</td>\n",
              "    </tr>\n",
              "    <tr>\n",
              "      <th>...</th>\n",
              "      <td>...</td>\n",
              "      <td>...</td>\n",
              "      <td>...</td>\n",
              "    </tr>\n",
              "    <tr>\n",
              "      <th>24796</th>\n",
              "      <td>1.175574</td>\n",
              "      <td>-0.202901</td>\n",
              "      <td>1</td>\n",
              "    </tr>\n",
              "    <tr>\n",
              "      <th>24797</th>\n",
              "      <td>-2.201588</td>\n",
              "      <td>0.356654</td>\n",
              "      <td>0</td>\n",
              "    </tr>\n",
              "    <tr>\n",
              "      <th>24798</th>\n",
              "      <td>-2.380796</td>\n",
              "      <td>0.369324</td>\n",
              "      <td>0</td>\n",
              "    </tr>\n",
              "    <tr>\n",
              "      <th>24799</th>\n",
              "      <td>1.388514</td>\n",
              "      <td>-0.449920</td>\n",
              "      <td>1</td>\n",
              "    </tr>\n",
              "    <tr>\n",
              "      <th>24800</th>\n",
              "      <td>1.170958</td>\n",
              "      <td>1.182615</td>\n",
              "      <td>1</td>\n",
              "    </tr>\n",
              "  </tbody>\n",
              "</table>\n",
              "<p>24801 rows × 3 columns</p>\n",
              "</div>\n",
              "    <div class=\"colab-df-buttons\">\n",
              "\n",
              "  <div class=\"colab-df-container\">\n",
              "    <button class=\"colab-df-convert\" onclick=\"convertToInteractive('df-789c74b3-dec2-4fb9-9225-34f8408cd4ea')\"\n",
              "            title=\"Convert this dataframe to an interactive table.\"\n",
              "            style=\"display:none;\">\n",
              "\n",
              "  <svg xmlns=\"http://www.w3.org/2000/svg\" height=\"24px\" viewBox=\"0 -960 960 960\">\n",
              "    <path d=\"M120-120v-720h720v720H120Zm60-500h600v-160H180v160Zm220 220h160v-160H400v160Zm0 220h160v-160H400v160ZM180-400h160v-160H180v160Zm440 0h160v-160H620v160ZM180-180h160v-160H180v160Zm440 0h160v-160H620v160Z\"/>\n",
              "  </svg>\n",
              "    </button>\n",
              "\n",
              "  <style>\n",
              "    .colab-df-container {\n",
              "      display:flex;\n",
              "      gap: 12px;\n",
              "    }\n",
              "\n",
              "    .colab-df-convert {\n",
              "      background-color: #E8F0FE;\n",
              "      border: none;\n",
              "      border-radius: 50%;\n",
              "      cursor: pointer;\n",
              "      display: none;\n",
              "      fill: #1967D2;\n",
              "      height: 32px;\n",
              "      padding: 0 0 0 0;\n",
              "      width: 32px;\n",
              "    }\n",
              "\n",
              "    .colab-df-convert:hover {\n",
              "      background-color: #E2EBFA;\n",
              "      box-shadow: 0px 1px 2px rgba(60, 64, 67, 0.3), 0px 1px 3px 1px rgba(60, 64, 67, 0.15);\n",
              "      fill: #174EA6;\n",
              "    }\n",
              "\n",
              "    .colab-df-buttons div {\n",
              "      margin-bottom: 4px;\n",
              "    }\n",
              "\n",
              "    [theme=dark] .colab-df-convert {\n",
              "      background-color: #3B4455;\n",
              "      fill: #D2E3FC;\n",
              "    }\n",
              "\n",
              "    [theme=dark] .colab-df-convert:hover {\n",
              "      background-color: #434B5C;\n",
              "      box-shadow: 0px 1px 3px 1px rgba(0, 0, 0, 0.15);\n",
              "      filter: drop-shadow(0px 1px 2px rgba(0, 0, 0, 0.3));\n",
              "      fill: #FFFFFF;\n",
              "    }\n",
              "  </style>\n",
              "\n",
              "    <script>\n",
              "      const buttonEl =\n",
              "        document.querySelector('#df-789c74b3-dec2-4fb9-9225-34f8408cd4ea button.colab-df-convert');\n",
              "      buttonEl.style.display =\n",
              "        google.colab.kernel.accessAllowed ? 'block' : 'none';\n",
              "\n",
              "      async function convertToInteractive(key) {\n",
              "        const element = document.querySelector('#df-789c74b3-dec2-4fb9-9225-34f8408cd4ea');\n",
              "        const dataTable =\n",
              "          await google.colab.kernel.invokeFunction('convertToInteractive',\n",
              "                                                    [key], {});\n",
              "        if (!dataTable) return;\n",
              "\n",
              "        const docLinkHtml = 'Like what you see? Visit the ' +\n",
              "          '<a target=\"_blank\" href=https://colab.research.google.com/notebooks/data_table.ipynb>data table notebook</a>'\n",
              "          + ' to learn more about interactive tables.';\n",
              "        element.innerHTML = '';\n",
              "        dataTable['output_type'] = 'display_data';\n",
              "        await google.colab.output.renderOutput(dataTable, element);\n",
              "        const docLink = document.createElement('div');\n",
              "        docLink.innerHTML = docLinkHtml;\n",
              "        element.appendChild(docLink);\n",
              "      }\n",
              "    </script>\n",
              "  </div>\n",
              "\n",
              "\n",
              "<div id=\"df-d0305740-c20d-42e9-9ad4-12c31700d4da\">\n",
              "  <button class=\"colab-df-quickchart\" onclick=\"quickchart('df-d0305740-c20d-42e9-9ad4-12c31700d4da')\"\n",
              "            title=\"Suggest charts\"\n",
              "            style=\"display:none;\">\n",
              "\n",
              "<svg xmlns=\"http://www.w3.org/2000/svg\" height=\"24px\"viewBox=\"0 0 24 24\"\n",
              "     width=\"24px\">\n",
              "    <g>\n",
              "        <path d=\"M19 3H5c-1.1 0-2 .9-2 2v14c0 1.1.9 2 2 2h14c1.1 0 2-.9 2-2V5c0-1.1-.9-2-2-2zM9 17H7v-7h2v7zm4 0h-2V7h2v10zm4 0h-2v-4h2v4z\"/>\n",
              "    </g>\n",
              "</svg>\n",
              "  </button>\n",
              "\n",
              "<style>\n",
              "  .colab-df-quickchart {\n",
              "      --bg-color: #E8F0FE;\n",
              "      --fill-color: #1967D2;\n",
              "      --hover-bg-color: #E2EBFA;\n",
              "      --hover-fill-color: #174EA6;\n",
              "      --disabled-fill-color: #AAA;\n",
              "      --disabled-bg-color: #DDD;\n",
              "  }\n",
              "\n",
              "  [theme=dark] .colab-df-quickchart {\n",
              "      --bg-color: #3B4455;\n",
              "      --fill-color: #D2E3FC;\n",
              "      --hover-bg-color: #434B5C;\n",
              "      --hover-fill-color: #FFFFFF;\n",
              "      --disabled-bg-color: #3B4455;\n",
              "      --disabled-fill-color: #666;\n",
              "  }\n",
              "\n",
              "  .colab-df-quickchart {\n",
              "    background-color: var(--bg-color);\n",
              "    border: none;\n",
              "    border-radius: 50%;\n",
              "    cursor: pointer;\n",
              "    display: none;\n",
              "    fill: var(--fill-color);\n",
              "    height: 32px;\n",
              "    padding: 0;\n",
              "    width: 32px;\n",
              "  }\n",
              "\n",
              "  .colab-df-quickchart:hover {\n",
              "    background-color: var(--hover-bg-color);\n",
              "    box-shadow: 0 1px 2px rgba(60, 64, 67, 0.3), 0 1px 3px 1px rgba(60, 64, 67, 0.15);\n",
              "    fill: var(--button-hover-fill-color);\n",
              "  }\n",
              "\n",
              "  .colab-df-quickchart-complete:disabled,\n",
              "  .colab-df-quickchart-complete:disabled:hover {\n",
              "    background-color: var(--disabled-bg-color);\n",
              "    fill: var(--disabled-fill-color);\n",
              "    box-shadow: none;\n",
              "  }\n",
              "\n",
              "  .colab-df-spinner {\n",
              "    border: 2px solid var(--fill-color);\n",
              "    border-color: transparent;\n",
              "    border-bottom-color: var(--fill-color);\n",
              "    animation:\n",
              "      spin 1s steps(1) infinite;\n",
              "  }\n",
              "\n",
              "  @keyframes spin {\n",
              "    0% {\n",
              "      border-color: transparent;\n",
              "      border-bottom-color: var(--fill-color);\n",
              "      border-left-color: var(--fill-color);\n",
              "    }\n",
              "    20% {\n",
              "      border-color: transparent;\n",
              "      border-left-color: var(--fill-color);\n",
              "      border-top-color: var(--fill-color);\n",
              "    }\n",
              "    30% {\n",
              "      border-color: transparent;\n",
              "      border-left-color: var(--fill-color);\n",
              "      border-top-color: var(--fill-color);\n",
              "      border-right-color: var(--fill-color);\n",
              "    }\n",
              "    40% {\n",
              "      border-color: transparent;\n",
              "      border-right-color: var(--fill-color);\n",
              "      border-top-color: var(--fill-color);\n",
              "    }\n",
              "    60% {\n",
              "      border-color: transparent;\n",
              "      border-right-color: var(--fill-color);\n",
              "    }\n",
              "    80% {\n",
              "      border-color: transparent;\n",
              "      border-right-color: var(--fill-color);\n",
              "      border-bottom-color: var(--fill-color);\n",
              "    }\n",
              "    90% {\n",
              "      border-color: transparent;\n",
              "      border-bottom-color: var(--fill-color);\n",
              "    }\n",
              "  }\n",
              "</style>\n",
              "\n",
              "  <script>\n",
              "    async function quickchart(key) {\n",
              "      const quickchartButtonEl =\n",
              "        document.querySelector('#' + key + ' button');\n",
              "      quickchartButtonEl.disabled = true;  // To prevent multiple clicks.\n",
              "      quickchartButtonEl.classList.add('colab-df-spinner');\n",
              "      try {\n",
              "        const charts = await google.colab.kernel.invokeFunction(\n",
              "            'suggestCharts', [key], {});\n",
              "      } catch (error) {\n",
              "        console.error('Error during call to suggestCharts:', error);\n",
              "      }\n",
              "      quickchartButtonEl.classList.remove('colab-df-spinner');\n",
              "      quickchartButtonEl.classList.add('colab-df-quickchart-complete');\n",
              "    }\n",
              "    (() => {\n",
              "      let quickchartButtonEl =\n",
              "        document.querySelector('#df-d0305740-c20d-42e9-9ad4-12c31700d4da button');\n",
              "      quickchartButtonEl.style.display =\n",
              "        google.colab.kernel.accessAllowed ? 'block' : 'none';\n",
              "    })();\n",
              "  </script>\n",
              "</div>\n",
              "\n",
              "  <div id=\"id_b0873be2-d251-47e1-8acd-8af1ad44a3f6\">\n",
              "    <style>\n",
              "      .colab-df-generate {\n",
              "        background-color: #E8F0FE;\n",
              "        border: none;\n",
              "        border-radius: 50%;\n",
              "        cursor: pointer;\n",
              "        display: none;\n",
              "        fill: #1967D2;\n",
              "        height: 32px;\n",
              "        padding: 0 0 0 0;\n",
              "        width: 32px;\n",
              "      }\n",
              "\n",
              "      .colab-df-generate:hover {\n",
              "        background-color: #E2EBFA;\n",
              "        box-shadow: 0px 1px 2px rgba(60, 64, 67, 0.3), 0px 1px 3px 1px rgba(60, 64, 67, 0.15);\n",
              "        fill: #174EA6;\n",
              "      }\n",
              "\n",
              "      [theme=dark] .colab-df-generate {\n",
              "        background-color: #3B4455;\n",
              "        fill: #D2E3FC;\n",
              "      }\n",
              "\n",
              "      [theme=dark] .colab-df-generate:hover {\n",
              "        background-color: #434B5C;\n",
              "        box-shadow: 0px 1px 3px 1px rgba(0, 0, 0, 0.15);\n",
              "        filter: drop-shadow(0px 1px 2px rgba(0, 0, 0, 0.3));\n",
              "        fill: #FFFFFF;\n",
              "      }\n",
              "    </style>\n",
              "    <button class=\"colab-df-generate\" onclick=\"generateWithVariable('df')\"\n",
              "            title=\"Generate code using this dataframe.\"\n",
              "            style=\"display:none;\">\n",
              "\n",
              "  <svg xmlns=\"http://www.w3.org/2000/svg\" height=\"24px\"viewBox=\"0 0 24 24\"\n",
              "       width=\"24px\">\n",
              "    <path d=\"M7,19H8.4L18.45,9,17,7.55,7,17.6ZM5,21V16.75L18.45,3.32a2,2,0,0,1,2.83,0l1.4,1.43a1.91,1.91,0,0,1,.58,1.4,1.91,1.91,0,0,1-.58,1.4L9.25,21ZM18.45,9,17,7.55Zm-12,3A5.31,5.31,0,0,0,4.9,8.1,5.31,5.31,0,0,0,1,6.5,5.31,5.31,0,0,0,4.9,4.9,5.31,5.31,0,0,0,6.5,1,5.31,5.31,0,0,0,8.1,4.9,5.31,5.31,0,0,0,12,6.5,5.46,5.46,0,0,0,6.5,12Z\"/>\n",
              "  </svg>\n",
              "    </button>\n",
              "    <script>\n",
              "      (() => {\n",
              "      const buttonEl =\n",
              "        document.querySelector('#id_b0873be2-d251-47e1-8acd-8af1ad44a3f6 button.colab-df-generate');\n",
              "      buttonEl.style.display =\n",
              "        google.colab.kernel.accessAllowed ? 'block' : 'none';\n",
              "\n",
              "      buttonEl.onclick = () => {\n",
              "        google.colab.notebook.generateWithVariable('df');\n",
              "      }\n",
              "      })();\n",
              "    </script>\n",
              "  </div>\n",
              "\n",
              "    </div>\n",
              "  </div>\n"
            ],
            "application/vnd.google.colaboratory.intrinsic+json": {
              "type": "dataframe",
              "variable_name": "df",
              "summary": "{\n  \"name\": \"df\",\n  \"rows\": 24801,\n  \"fields\": [\n    {\n      \"column\": \"PCA Component 1\",\n      \"properties\": {\n        \"dtype\": \"number\",\n        \"std\": 1.8553912582467755,\n        \"min\": -4.435006392927057,\n        \"max\": 13.023618129840196,\n        \"num_unique_values\": 24801,\n        \"samples\": [\n          1.1927956131806206,\n          1.2814144335582573,\n          2.0687991782807544\n        ],\n        \"semantic_type\": \"\",\n        \"description\": \"\"\n      }\n    },\n    {\n      \"column\": \"PCA Component 2\",\n      \"properties\": {\n        \"dtype\": \"number\",\n        \"std\": 1.4500460770253798,\n        \"min\": -8.325102572767923,\n        \"max\": 84.93381614248293,\n        \"num_unique_values\": 24801,\n        \"samples\": [\n          0.4847435246417294,\n          -0.8378427387230817,\n          0.00931758712776603\n        ],\n        \"semantic_type\": \"\",\n        \"description\": \"\"\n      }\n    },\n    {\n      \"column\": \"Cluster\",\n      \"properties\": {\n        \"dtype\": \"int32\",\n        \"num_unique_values\": 2,\n        \"samples\": [\n          0,\n          1\n        ],\n        \"semantic_type\": \"\",\n        \"description\": \"\"\n      }\n    }\n  ]\n}"
            }
          },
          "metadata": {},
          "execution_count": 85
        }
      ]
    }
  ]
}