{
  "nbformat": 4,
  "nbformat_minor": 0,
  "metadata": {
    "colab": {
      "provenance": [],
      "authorship_tag": "ABX9TyOIjopZaIMNkgAXtDXdW0y3",
      "include_colab_link": true
    },
    "kernelspec": {
      "name": "python3",
      "display_name": "Python 3"
    },
    "language_info": {
      "name": "python"
    }
  },
  "cells": [
    {
      "cell_type": "markdown",
      "metadata": {
        "id": "view-in-github",
        "colab_type": "text"
      },
      "source": [
        "<a href=\"https://colab.research.google.com/github/Suchada2000/MY-WORK/blob/main/Untitled44.ipynb\" target=\"_parent\"><img src=\"https://colab.research.google.com/assets/colab-badge.svg\" alt=\"Open In Colab\"/></a>"
      ]
    },
    {
      "cell_type": "code",
      "execution_count": null,
      "metadata": {
        "id": "hFly-ztkeAeg"
      },
      "outputs": [],
      "source": [
        "df_combined.rename(columns={\"Dummy ID\": \"เลขบัตรประจำตัวประชาชน\", \"AGE\": \"อายุ\", \"Policy_Class\": \"แผนประกันภัย\", \"INCDTE\": \"วันที่เริ่มคุ้มครอง\", \"ExpireDate\": \"วันที่สิ้นสุดประกันภัย\",\n",
        "                            \"Plan_\": \"แผนความคุ้มครอง\", \"Premium\": \"เบี้ยประกันภัย\", \"DATESALE\": \"วันที่ขายประกันภัย\",\n",
        "                             \"DATREP\": \"วันที่แจ้งเหตุ\", \"DATOCC\": \"วันที่เกิดเหตุ\", \"DATESALE\": \"วันที่ขายประกันภัย\",\n",
        "                             \"ReseveDescription\": \"สาเหตุการเคลมประกันภัย\", \"GRS_OS\": \"ค่าสินไหมที่ค้างจ่าย\", \"GRS_PAID\": \"ค่าสินไหมที่จ่าย\",\n",
        "                             \"GIC\": \"ค่าสินไหมที่เกิดขึ้นรวม\", \"ReseveDescriptionType\": \"กลุ่มสาเหตุการเคลมประกันภัย\",\n",
        "                            }, inplace=True)"
      ]
    },
    {
      "cell_type": "code",
      "source": [
        "bins = [0, 500000, 1000000, 1500000, 2000000, 2500000, 3000000, 3500000, 4000000, 4500000,5000000]\n",
        "labels = [\n",
        "    \"0-500K\", \"500K-1M\", \"1M-1.5M\", \"1.5M-2M\", \"2M-2.5M\",\n",
        "    \"2.5M-3M\", \"3M-3.5M\", \"3.5M-4M\", \"4M-4.5M\", \"4.5M-5M\"\n",
        "]\n",
        "\n",
        "\n",
        "# จัดกลุ่มข้อมูล\n",
        "df_combined[\"ช่วงของเบี้ยประกันภัย\"] = pd.cut(df_combined[\"เบี้ยประกันภัย\"], bins=bins, labels=labels, right=False)\n",
        "\n",
        "# คำนวณความถี่\n",
        "frequency = df_combined[\"ช่วงของเบี้ยประกันภัย\"].value_counts().sort_index()\n",
        "\n",
        "# คำนวณร้อยละ (percentage)\n",
        "percentage = df_combined[\"ช่วงของเบี้ยประกันภัย\"].value_counts(normalize=True).sort_index() * 100\n",
        "\n",
        "# รวมเป็น DataFrame เดียวกัน\n",
        "result = pd.DataFrame({\"Frequency\": frequency, \"Percentage (%)\": percentage})\n",
        "\n",
        "# แสดงผลลัพธ์\n",
        "print(result)\n"
      ],
      "metadata": {
        "id": "xgwxSHDIeE-A"
      },
      "execution_count": null,
      "outputs": []
    },
    {
      "cell_type": "code",
      "source": [
        "max_value = df_combined[\"ค่าสินไหมที่จ่าย\"].max()\n",
        "print(max_value)\n"
      ],
      "metadata": {
        "id": "YuHU61mfeGu_"
      },
      "execution_count": null,
      "outputs": []
    },
    {
      "cell_type": "code",
      "source": [
        "bins = [0, 500000, 1000000, 1500000, 2000000, 2500000, 3000000, 3500000, 4000000, 4500000,5000000,5500000]\n",
        "labels = [\n",
        "    \"0-500K\", \"500K-1M\", \"1M-1.5M\", \"1.5M-2M\", \"2M-2.5M\",\n",
        "    \"2.5M-3M\", \"3M-3.5M\", \"3.5M-4M\", \"4M-4.5M\", \"4.5M-5M\",\"5M-5.5M\"\n",
        "]\n",
        "\n",
        "\n",
        "# จัดกลุ่มข้อมูล\n",
        "df_combined[\"ช่วงของค่าสินไหมที่จ่าย\"] = pd.cut(df_combined[\"ค่าสินไหมที่จ่าย\"], bins=bins, labels=labels, right=False)\n",
        "\n",
        "# คำนวณความถี่\n",
        "frequency = df_combined[\"ช่วงของค่าสินไหมที่จ่าย\"].value_counts().sort_index()\n",
        "\n",
        "# คำนวณร้อยละ (percentage)\n",
        "percentage = df_combined[\"ช่วงของค่าสินไหมที่จ่าย\"].value_counts(normalize=True).sort_index() * 100\n",
        "\n",
        "# รวมเป็น DataFrame เดียวกัน\n",
        "result = pd.DataFrame({\"Frequency1\": frequency, \"Percentage (%)1\": percentage})\n",
        "\n",
        "# แสดงผลลัพธ์\n",
        "print(result)\n"
      ],
      "metadata": {
        "id": "YNocD5uVeIOn"
      },
      "execution_count": null,
      "outputs": []
    },
    {
      "cell_type": "code",
      "source": [
        "out_of_range = df_combined[\n",
        "    (df_combined[\"ค่าสินไหมที่จ่าย\"] < bins[0]) | (df_combined[\"ค่าสินไหมที่จ่าย\"] > bins[-1])\n",
        "]\n",
        "print(out_of_range)\n"
      ],
      "metadata": {
        "id": "BjkSFaG1eJ84"
      },
      "execution_count": null,
      "outputs": []
    },
    {
      "cell_type": "code",
      "source": [
        "print(df_combined[\"ช่วงของค่าสินไหมที่จ่าย\"].isna().sum())\n"
      ],
      "metadata": {
        "id": "ioBHt6h4eLci"
      },
      "execution_count": null,
      "outputs": []
    },
    {
      "cell_type": "code",
      "source": [
        "total_rows = len(df_combined)  # จำนวนแถวทั้งหมดใน DataFrame\n",
        "total_frequency = result[\"Frequency1\"].sum()  # ผลรวมของ Frequency ที่จัดกลุ่มแล้ว\n",
        "\n",
        "print(f\"Total Rows in df_combined: {total_rows}\")\n",
        "print(f\"Total Frequency from Binning: {total_frequency}\")\n",
        "\n",
        "if total_rows == total_frequency:\n",
        "    print(\"✅ ค่าทั้งหมดถูกจัดกลุ่มครบถ้วน\")\n",
        "else:\n",
        "    print(\"⚠️ มีบางค่าที่ไม่ถูกจัดกลุ่ม\")\n"
      ],
      "metadata": {
        "id": "udd3OLAJeM9v"
      },
      "execution_count": null,
      "outputs": []
    },
    {
      "cell_type": "code",
      "source": [
        "# แปลงคอลัมน์วันที่ให้เป็น DateTime ถ้ายังไม่ได้แปลง\n",
        "df_combined[\"วันที่ขายประกันภัย\"] = pd.to_datetime(df_combined[\"วันที่ขายประกันภัย\"])\n",
        "\n",
        "# แยกเดือนออกมา\n",
        "df_combined[\"Month\"] = df_combined[\"วันที่ขายประกันภัย\"].dt.month\n",
        "\n",
        "# คำนวณความถี่\n",
        "monthly_frequency = df_combined[\"Month\"].value_counts().sort_index()\n",
        "\n",
        "# คำนวณร้อยละ\n",
        "monthly_percentage = df_combined[\"Month\"].value_counts(normalize=True).sort_index() * 100\n",
        "\n",
        "# รวมความถี่และร้อยละ\n",
        "monthly_result = pd.DataFrame({\n",
        "    \"Frequency\": monthly_frequency,\n",
        "    \"Percentage (%)\": monthly_percentage\n",
        "})\n",
        "\n",
        "# แสดงผลลัพธ์\n",
        "print(monthly_result)\n"
      ],
      "metadata": {
        "id": "nJOdx46seOY4"
      },
      "execution_count": null,
      "outputs": []
    },
    {
      "cell_type": "code",
      "source": [
        "# แปลงคอลัมน์วันที่ให้เป็น DateTime ถ้ายังไม่ได้แปลง\n",
        "df_combined[\"วันที่แจ้งเหตุ\"] = pd.to_datetime(df_combined[\"วันที่แจ้งเหตุ\"])\n",
        "\n",
        "# แยกเดือนออกมา\n",
        "df_combined[\"Month\"] = df_combined[\"วันที่แจ้งเหตุ\"].dt.month\n",
        "\n",
        "# คำนวณความถี่\n",
        "monthly_frequency = df_combined[\"Month\"].value_counts().sort_index()\n",
        "\n",
        "# คำนวณร้อยละ\n",
        "monthly_percentage = df_combined[\"Month\"].value_counts(normalize=True).sort_index() * 100\n",
        "\n",
        "# รวมความถี่และร้อยละ\n",
        "monthly_result = pd.DataFrame({\n",
        "    \"Frequency\": monthly_frequency,\n",
        "    \"Percentage (%)\": monthly_percentage\n",
        "})\n",
        "\n",
        "# แสดงผลลัพธ์\n",
        "print(monthly_result)\n"
      ],
      "metadata": {
        "id": "nTR0cXd6eQLI"
      },
      "execution_count": null,
      "outputs": []
    },
    {
      "cell_type": "code",
      "source": [
        "# แปลงคอลัมน์วันที่ให้เป็น DateTime ถ้ายังไม่ได้แปลง\n",
        "df_combined[\"วันที่ขายประกันภัย\"] = pd.to_datetime(df_combined[\"วันที่ขายประกันภัย\"])\n",
        "\n",
        "# แยกปีออกมา\n",
        "df_combined[\"Year\"] = df_combined[\"วันที่ขายประกันภัย\"].dt.year\n",
        "\n",
        "# คำนวณความถี่\n",
        "yearly_frequency = df_combined[\"Year\"].value_counts().sort_index()\n",
        "\n",
        "# คำนวณร้อยละ\n",
        "yearly_percentage = df_combined[\"Year\"].value_counts(normalize=True).sort_index() * 100\n",
        "\n",
        "# รวมความถี่และร้อยละ\n",
        "yearly_result = pd.DataFrame({\n",
        "    \"Frequency\": yearly_frequency,\n",
        "    \"Percentage (%)\": yearly_percentage\n",
        "})\n",
        "\n",
        "# แสดงผลลัพธ์\n",
        "print(yearly_result)\n"
      ],
      "metadata": {
        "id": "5JjoEupWeRq3"
      },
      "execution_count": null,
      "outputs": []
    },
    {
      "cell_type": "code",
      "source": [
        "# แปลงคอลัมน์วันที่ให้เป็น DateTime ถ้ายังไม่ได้แปลง\n",
        "df_combined[\"วันที่แจ้งเหตุ\"] = pd.to_datetime(df_combined[\"วันที่แจ้งเหตุ\"])\n",
        "\n",
        "# แยกปีออกมา\n",
        "df_combined[\"Year\"] = df_combined[\"วันที่แจ้งเหตุ\"].dt.year\n",
        "\n",
        "# คำนวณความถี่\n",
        "yearly_frequency = df_combined[\"Year\"].value_counts().sort_index()\n",
        "\n",
        "# คำนวณร้อยละ\n",
        "yearly_percentage = df_combined[\"Year\"].value_counts(normalize=True).sort_index() * 100\n",
        "\n",
        "# รวมความถี่และร้อยละ\n",
        "yearly_result = pd.DataFrame({\n",
        "    \"Frequency\": yearly_frequency,\n",
        "    \"Percentage (%)\": yearly_percentage\n",
        "})\n",
        "\n",
        "# แสดงผลลัพธ์\n",
        "print(yearly_result)\n"
      ],
      "metadata": {
        "id": "wQxIcEtAeTQo"
      },
      "execution_count": null,
      "outputs": []
    },
    {
      "cell_type": "code",
      "source": [
        "# แสดงชื่อคอลัมน์\n",
        "print(df_combined.columns)"
      ],
      "metadata": {
        "id": "HEYjLrDveVP_"
      },
      "execution_count": null,
      "outputs": []
    }
  ]
}